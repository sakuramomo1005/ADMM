{
 "cells": [
  {
   "cell_type": "code",
   "execution_count": 2,
   "metadata": {},
   "outputs": [],
   "source": [
    "import numpy as np\n",
    "import pandas as pd\n",
    "from scipy import linalg\n",
    "from scipy.spatial import distance_matrix"
   ]
  },
  {
   "cell_type": "code",
   "execution_count": 39,
   "metadata": {},
   "outputs": [],
   "source": [
    "def L_num(n):\n",
    "    t = np.zeros([np.int(n*(n-1)/2),2])\n",
    "    count = -1\n",
    "    for i in range(n-1):\n",
    "        for j in range((i+1),n,1):\n",
    "            count = count + 1\n",
    "            t[count,0] = i; t[count,1] = j\n",
    "    return(t)"
   ]
  },
  {
   "cell_type": "code",
   "execution_count": 197,
   "metadata": {},
   "outputs": [],
   "source": [
    "def elk(n,p):\n",
    "    count = -1\n",
    "    el1 = el2 = np.zeros([n,np.int(n*(n-1)/2)])\n",
    "    el1 = np.r_[np.eye(1),np.zeros([n-1,1])]\n",
    "    for i in range(2,n,1):\n",
    "        el1 = np.c_[el1,np.r_[np.eye(i),np.zeros([n-i,i])]]\n",
    "    \n",
    "    count = -1\n",
    "    for i in range(1,n,1):\n",
    "        temp = np.zeros([n,i])\n",
    "        temp[i,:] = 1\n",
    "        el2[:,(count+1):(count+i+1)] = temp\n",
    "        count = count+i\n",
    "        \n",
    "    count = -1\n",
    "    ek1 = ek2 = np.zeros([p,np.int(p*(p-1)/2)])\n",
    "    ek1 = np.r_[np.eye(1),np.zeros([p-1,1])]\n",
    "    for i in range(2,p,1):\n",
    "        ek1 = np.c_[ek1,np.r_[np.eye(i),np.zeros([p-i,i])]]\n",
    "\n",
    "    count = -1\n",
    "    for i in range(1,p,1):\n",
    "        temp = np.zeros([p,i])\n",
    "        temp[i,:] = 1\n",
    "        ek2[:,(count+1):(count+i+1)] = temp\n",
    "        count = count+i\n",
    "    return(el1,el2,ek1,ek2)"
   ]
  },
  {
   "cell_type": "code",
   "execution_count": 883,
   "metadata": {},
   "outputs": [],
   "source": [
    "def pdist(xs):\n",
    "    \"\"\"Pairwise Euclidean distacne.\"\"\"\n",
    "    return np.sqrt(np.sum((xs[:, None] - xs[None, :])**2, -1))\n",
    "\n",
    "def dist_weight(X,phi):\n",
    "    dist_X = np.tril(pdist(X))[1:,:-1]\n",
    "    dist_X = [dist_X[j,i] for  i in range(dist_X.shape[0]) for j in range(i,dist_X.shape[0],1)]\n",
    "    res = np.exp(- phi * np.array(dist_X)**2)\n",
    "    return(res)"
   ]
  },
  {
   "cell_type": "code",
   "execution_count": 286,
   "metadata": {},
   "outputs": [],
   "source": [
    "def prox(v,sigma):\n",
    "    return(np.max([0,(1-sigma/np.sum(v**2))]) * v)\n",
    "def tri2vec(i,j,n):\n",
    "    return(n*(i-1) - i*(i-1)/2 + j -i)"
   ]
  },
  {
   "cell_type": "code",
   "execution_count": 875,
   "metadata": {},
   "outputs": [
    {
     "data": {
      "text/plain": [
       "[0, 1, 2]"
      ]
     },
     "execution_count": 875,
     "metadata": {},
     "output_type": "execute_result"
    }
   ],
   "source": [
    "[int(i)-1 for i in neighbors]"
   ]
  },
  {
   "cell_type": "code",
   "execution_count": 902,
   "metadata": {},
   "outputs": [
    {
     "data": {
      "text/plain": [
       "[3.0, 5.0, 6.0]"
      ]
     },
     "execution_count": 902,
     "metadata": {},
     "output_type": "execute_result"
    }
   ],
   "source": [
    "i = n\n",
    "neighbors = [tri2vec(j,i,n) for j in range(1,i)]  \n",
    "neighbors"
   ]
  },
  {
   "cell_type": "code",
   "execution_count": 906,
   "metadata": {},
   "outputs": [
    {
     "name": "stdout",
     "output_type": "stream",
     "text": [
      "[1.0, 4.0, 6.0]\n"
     ]
    }
   ],
   "source": [
    "i = 1\n",
    "neighbors = [tri2vec(i,j,n) for j in range((i+1),(n+1))]\n",
    "temp1 = w[[int(i)-1 for i in neighbors]]\n",
    "temp2 = list(-np.sort(-temp1))\n",
    "keep = np.array(neighbors)[[list(temp1).index(temp2[i]) for i in range(len(temp2))][0:k]]\n",
    "for i in range(2,n,1):\n",
    "    group_A =  [tri2vec(i,j,n) for j in range((i+1),(n+1))]\n",
    "    group_B =  [tri2vec(j,i,n) for j in range(1,i)]\n",
    "    neighbors = group_A\n",
    "    neighbors.extend(group_B)\n",
    "    temp1 = w[[int(i)-1 for i in neighbors]]\n",
    "    temp2 = list(-np.sort(-temp1))\n",
    "    knn = np.array(neighbors)[[list(temp1).index(temp2[i]) for i in range(len(temp2))][0:k]]\n",
    "    keep = list(set(knn).union(set(keep)))\n",
    "    #print(keep)\n",
    "i = n\n",
    "neighbors = [tri2vec(j,i,n) for j in range(1,i)]  \n",
    "temp1 = w[[int(i)-1 for i in neighbors]]\n",
    "temp2 = list(-np.sort(-temp1))\n",
    "knn = np.array(neighbors)[[list(temp1).index(temp2[i]) for i in range(len(temp2))][0:k]]\n",
    "keep = list(set(knn).union(set(keep)))\n",
    "#w[np.array(list(set(list(range(1,len(w)+1))) - set(keep)))-1] = 0\n",
    "print(keep)"
   ]
  },
  {
   "cell_type": "code",
   "execution_count": 910,
   "metadata": {},
   "outputs": [],
   "source": [
    "def knn_weights(w,k,n): # w input array\n",
    "    i = 1\n",
    "    neighbors = [tri2vec(i,j,n) for j in range((i+1),(n+1))]\n",
    "    temp1 = w[[int(i)-1 for i in neighbors]]\n",
    "    temp2 = list(-np.sort(-temp1))\n",
    "    keep = np.array(neighbors)[[list(temp1).index(temp2[i]) for i in range(len(temp2))][0:k]]\n",
    "    for i in range(2,n,1):\n",
    "        group_A =  [tri2vec(i,j,n) for j in range((i+1),(n+1))]\n",
    "        group_B =  [tri2vec(j,i,n) for j in range(1,i)]\n",
    "        neighbors = group_A\n",
    "        neighbors.extend(group_B)\n",
    "        temp1 = w[[int(i)-1 for i in neighbors]]\n",
    "        temp2 = list(-np.sort(-temp1))\n",
    "        knn = np.array(neighbors)[[list(temp1).index(temp2[i]) for i in range(len(temp2))][0:k]]\n",
    "        keep = list(set(knn).union(set(keep)))\n",
    "    i = n\n",
    "    neighbors = [tri2vec(j,i,n) for j in range(1,i)]  \n",
    "    temp1 = w[[int(i)-1 for i in neighbors]]\n",
    "    temp2 = list(-np.sort(-temp1))\n",
    "    knn = np.array(neighbors)[[list(temp1).index(temp2[i]) for i in range(len(temp2))][0:k]]\n",
    "    keep = list(set(knn).union(set(keep)))\n",
    "    w[np.array(list(set(list(range(1,len(w)+1))) - set(keep)))-1] = 0\n",
    "    return(w)"
   ]
  },
  {
   "cell_type": "code",
   "execution_count": 363,
   "metadata": {},
   "outputs": [],
   "source": [
    "def update_A(X, nu1, nu2, lambda_1, lambda_2, v, z,n,p,el1,el2,ek1,ek2):\n",
    "    En = np.diag(list(range(n))) + np.diag(list(range(n-1,-1,-1))) - np.ones([n,n]) + np.eye(n) \n",
    "    Ep = np.diag(list(range(p))) + np.diag(list(range(p-1,-1,-1))) - np.ones([p,p]) + np.eye(p)\n",
    "    \n",
    "    M = np.eye(n) + nu1 * En\n",
    "    N = nu2 * Ep\n",
    "    \n",
    "    lv = lambda_1+ nu1 * v\n",
    "    lz = lambda_2 + nu2 * z\n",
    "    C2 = 0 -np.dot((el2-el1),lv.T)\n",
    "    C3 = np.dot(lz,(ek1-ek2).T)\n",
    "    C = X +  C2 + C3  \n",
    "   \n",
    "    A = linalg.solve_sylvester(M, N.T, C)\n",
    "\n",
    "    return(A)"
   ]
  },
  {
   "cell_type": "code",
   "execution_count": 782,
   "metadata": {},
   "outputs": [],
   "source": [
    "def update_vz(lambda_1, lambda_2, gamma_1, gamma_2, nu1, nu2, w_l, u_k, al1, al2, ak1, ak2):\n",
    "    \n",
    "    sigma_1 = gamma_1 * w_l/nu1\n",
    "    vtemp = al1 - al2 - 1/nu1 * lambda_1\n",
    "    \n",
    "    temp1 = np.where((1 - sigma_1/np.sum(vtemp**2,axis=0) < 0),0,1 - sigma_1/np.sum(vtemp**2,axis=0))\n",
    "    temp2 = np.repeat(temp1,vtemp.shape[0]).reshape(vtemp.shape[1],vtemp.shape[0]).T * vtemp \n",
    "    \n",
    "    v = temp2\n",
    "    \n",
    "    sigma_2 = gamma_2 * u_k/nu2\n",
    "    ztemp = ak1 - ak2 - 1/nu2 * lambda_2\n",
    "    \n",
    "    temp3 = np.where((1 - sigma_2/np.sum(ztemp**2,axis=0) < 0), 0 ,1 - sigma_2/np.sum(ztemp**2,axis=0))\n",
    "    temp4 = np.repeat(temp3,ztemp.shape[0]).reshape(ztemp.shape[1],ztemp.shape[0]).T * ztemp \n",
    "  \n",
    "    z = temp4\n",
    "    return(v,z)"
   ]
  },
  {
   "cell_type": "code",
   "execution_count": 952,
   "metadata": {},
   "outputs": [
    {
     "data": {
      "text/plain": [
       "array([0.12, 0.  , 0.  , 1.08, 0.  , 0.12])"
      ]
     },
     "execution_count": 952,
     "metadata": {},
     "output_type": "execute_result"
    }
   ],
   "source": [
    "np.sum(vtemp**2,axis=0) "
   ]
  },
  {
   "cell_type": "code",
   "execution_count": 949,
   "metadata": {},
   "outputs": [
    {
     "name": "stderr",
     "output_type": "stream",
     "text": [
      "/Users/yaolanqiu/anaconda3/lib/python3.6/site-packages/ipykernel_launcher.py:1: RuntimeWarning: invalid value encountered in true_divide\n",
      "  \"\"\"Entry point for launching an IPython kernel.\n",
      "/Users/yaolanqiu/anaconda3/lib/python3.6/site-packages/ipykernel_launcher.py:1: RuntimeWarning: invalid value encountered in less\n",
      "  \"\"\"Entry point for launching an IPython kernel.\n"
     ]
    },
    {
     "data": {
      "text/plain": [
       "array([ True, False, False,  True, False,  True])"
      ]
     },
     "execution_count": 949,
     "metadata": {},
     "output_type": "execute_result"
    }
   ],
   "source": [
    "(1 - sigma_1/np.sum(vtemp**2,axis=0) < 0)"
   ]
  },
  {
   "cell_type": "code",
   "execution_count": 944,
   "metadata": {
    "scrolled": true
   },
   "outputs": [
    {
     "data": {
      "text/plain": [
       "array([[-0.2,  0. ,  0. , -0.6,  0. , -0.2],\n",
       "       [-0.2,  0. ,  0. , -0.6,  0. , -0.2],\n",
       "       [-0.2,  0. ,  0. , -0.6,  0. , -0.2]])"
      ]
     },
     "execution_count": 944,
     "metadata": {},
     "output_type": "execute_result"
    }
   ],
   "source": [
    "    \n",
    "temp1 = np.where((1 - sigma_1/np.sum(vtemp**2,axis=0) < 0),0,1 - sigma_1/np.sum(vtemp**2,axis=0))\n",
    "temp2 = np.repeat(temp1,vtemp.shape[0]).reshape(vtemp.shape[1],vtemp.shape[0]).T * vtemp \n",
    "    \n",
    "v = temp2\n"
   ]
  },
  {
   "cell_type": "code",
   "execution_count": 623,
   "metadata": {},
   "outputs": [],
   "source": [
    "def update_lambda(lambda_1,lambda_2,v, z, nu1,nu2, al1, al2, ak1, ak2):\n",
    "    lambda_1 = lambda_1 + nu1 * (v - al1 + al2)\n",
    "    lambda_2 = lambda_2 + nu2 * (z - ak1 + ak2)\n",
    "    return(lambda_1,lambda_2)"
   ]
  },
  {
   "cell_type": "code",
   "execution_count": 700,
   "metadata": {
    "scrolled": true
   },
   "outputs": [
    {
     "name": "stdout",
     "output_type": "stream",
     "text": [
      "iter\n",
      "0\n",
      "('A', 45.00000000000002)\n",
      "('v', 8.822256055388133)\n",
      "('z', 3.0000000000000053)\n",
      "('l', 0.17774394461187448)\n",
      "('2', 0.0)\n",
      "iter\n",
      "1\n",
      "('A', 3.6611280276940663)\n",
      "('v', 6.827309413075601)\n",
      "('z', 2.2500000000000044)\n",
      "('l', 0.07730941307559647)\n",
      "('2', 0.0)\n",
      "iter\n",
      "2\n",
      "('A', 2.8289367134613244)\n",
      "('v', 5.041842551276803)\n",
      "('z', 1.6875000000000053)\n",
      "('l', 0.02377853742975322)\n",
      "('2', 0.0)\n",
      "iter\n",
      "3\n",
      "('A', 2.1142644505419708)\n",
      "('v', 3.794575949919669)\n",
      "('z', 1.2656250000000027)\n",
      "('l', 0.01170058626548709)\n",
      "('2', 0.0)\n",
      "iter\n",
      "4\n",
      "('A', 1.5856039966817799)\n",
      "('v', 2.849798954032283)\n",
      "('z', 0.9492187500000067)\n",
      "('l', 0.006697796934211908)\n",
      "('2', 0.0)\n",
      "iter\n",
      "5\n",
      "('A', 1.1896267494120696)\n",
      "('v', 2.1394421160072636)\n",
      "('z', 0.7119140624999996)\n",
      "('l', 0.004191101617334603)\n",
      "('2', 0.0)\n",
      "iter\n",
      "6\n",
      "('A', 0.8926411636341696)\n",
      "('v', 1.605884684791484)\n",
      "('z', 0.533935546875)\n",
      "('l', 0.0027719747654808558)\n",
      "('2', 0.0)\n",
      "done\n"
     ]
    }
   ],
   "source": [
    "n=X.shape[0]; p=X.shape[1]\n",
    "\n",
    "tol = 2\n",
    "\n",
    "eplison_p=L_num(p)\n",
    "eplison_n=L_num(n)\n",
    "\n",
    "elks = elk(n,p)\n",
    "el1,el2,ek1,ek2 = elks[0],elks[1],elks[2],elks[3]\n",
    "\n",
    "w = np.array(dist_weight(X / np.sqrt(p),phi = 0.5))\n",
    "w_l = knn_weights(w,1,n)\n",
    "u = np.array(dist_weight(X.T / np.sqrt(n),phi = 0.5))\n",
    "u_k = knn_weights(u,1,p)\n",
    "\n",
    "A = np.zeros([A.shape[0],A.shape[1]])\n",
    "v= np.zeros([p,eplison_n.shape[0]])\n",
    "z = np.zeros([n,eplison_p.shape[0]]) \n",
    "lambda_1 = np.zeros([p,eplison_n.shape[0]]) \n",
    "lambda_2 = np.zeros([n,eplison_p.shape[0]])\n",
    "\n",
    "for iters in range(niters):\n",
    "    print('iter')\n",
    "    print(iters)\n",
    "    \n",
    "    A_old, v_old, z_old, lambda_1_old, lambda_2_old = A, v, z, lambda_1, lambda_2\n",
    "    # update A\n",
    "    En = np.diag(list(range(n))) + np.diag(list(range(n-1,-1,-1))) - np.ones([n,n]) + np.eye(n) \n",
    "    Ep = np.diag(list(range(p))) + np.diag(list(range(p-1,-1,-1))) - np.ones([p,p]) + np.eye(p)\n",
    "    \n",
    "    M = np.eye(n) + nu1 * En\n",
    "    N = nu2 * Ep\n",
    "    \n",
    "    lv = lambda_1+ nu1 * v\n",
    "    lz = lambda_2 + nu2 * z\n",
    "    C2 = 0 -np.dot((el2-el1),lv.T)\n",
    "    C3 = np.dot(lz,(ek1-ek2).T)\n",
    "    C = X +  C2 + C3  \n",
    "   \n",
    "    A = linalg.solve_sylvester(M, N.T, C)\n",
    "    \n",
    "    al1 = np.dot(A.T,el1); al2 = np.dot(A.T,el2)\n",
    "    ak1 = np.dot(A,ek1); ak2 = np.dot(A,ek2)\n",
    "    \n",
    "    # update vz\n",
    "    sigma_1 = gamma_1 * w_l/nu1\n",
    "    vtemp = al1 - al2 - 1/nu1 * lambda_1\n",
    "    \n",
    "    temp1 = np.where((1 - sigma_1/np.sum(vtemp**2,axis=0) < 0),0,1 - sigma_1/np.sum(vtemp**2,axis=0))\n",
    "    temp2 = np.repeat(temp1,vtemp.shape[0]).reshape(vtemp.shape[1],vtemp.shape[0]).T * vtemp \n",
    "    \n",
    "    v = temp2\n",
    "    \n",
    "    sigma_2 = gamma_2 * u_k/nu2\n",
    "    ztemp = ak1 - ak2 - 1/nu2 * lambda_2\n",
    "    \n",
    "    temp3 = np.where((1 - sigma_2/np.sum(ztemp**2,axis=0) < 0), 0 ,1 - sigma_2/np.sum(ztemp**2,axis=0))\n",
    "    temp4 = np.repeat(temp3,ztemp.shape[0]).reshape(ztemp.shape[1],ztemp.shape[0]).T * ztemp \n",
    "  \n",
    "    z = temp4\n",
    " \n",
    "    # updatae lambda\n",
    "    lambda_1 = lambda_1 + nu1 * (v - al1 + al2)\n",
    "    lambda_2 = lambda_2 + nu2 * (z - ak1 + ak2)\n",
    "    \n",
    "    print(('A',np.sum(abs(A - A_old))))\n",
    "    print(('v',np.sum(abs(v - v_old))))\n",
    "    print(('z',np.sum(abs(z -z_old))))\n",
    "    print(('l',np.sum(abs(lambda_1 - lambda_1_old))))\n",
    "    print(('2',np.sum(abs(lambda_2 - lambda_2_old))))\n",
    "    \n",
    "    # whether coverage    \n",
    "    \n",
    "    if (np.sum(np.abs(A - A_old)) < tol and\n",
    "        np.sum(np.abs(v - v_old)) < tol and \n",
    "        np.sum(np.abs(z - z_old)) < tol and\n",
    "        np.sum(np.abs(lambda_1 - lambda_1_old)) < tol and\n",
    "        np.sum(np.abs(lambda_2 - lambda_2_old)) < tol):\n",
    "        \n",
    "        print('done')\n",
    "        break\n",
    "    \n",
    "\n"
   ]
  },
  {
   "cell_type": "markdown",
   "metadata": {},
   "source": []
  },
  {
   "cell_type": "code",
   "execution_count": 711,
   "metadata": {},
   "outputs": [
    {
     "data": {
      "text/plain": [
       "array([-0.5])"
      ]
     },
     "execution_count": 711,
     "metadata": {},
     "output_type": "execute_result"
    }
   ],
   "source": [
    "import random\n",
    "np.random.choice(mu, 1, replace=False)"
   ]
  },
  {
   "cell_type": "code",
   "execution_count": 769,
   "metadata": {},
   "outputs": [],
   "source": [
    "random.seed(10)\n",
    "p,n = 200,200\n",
    "mu = list(np.arange(-6,6,0.5))\n",
    "theta = 1.5\n",
    "x = np.zeros([n,p])\n",
    "row_group = 2\n",
    "col_group = 8\n",
    "\n",
    "mu_rc = np.zeros([row_group,col_group])\n",
    "for r in range(row_group):\n",
    "    for c in range(col_group):\n",
    "        mu_rc[r,c] = np.random.choice(mu, 1, replace=False)\n",
    "\n",
    "row_assign = []\n",
    "col_assign = []\n",
    "\n",
    "\n",
    "for i in range(n):\n",
    "    row_assign.extend(np.random.choice(list(range(row_group)), 1, replace=False))\n",
    "                            \n",
    "for i in range(p):\n",
    "    col_assign.extend(np.random.choice(list(range(col_group)), 1, replace=False))\n",
    "\n",
    "for i in range(n):\n",
    "    for j in range(p):\n",
    "        r = row_assign[i]\n",
    "        c = col_assign[j]\n",
    "        mu_temp = mu_rc[r,c]\n",
    "        x[i,j] = np.random.normal(mu_temp,theta,1)\n",
    "        "
   ]
  },
  {
   "cell_type": "code",
   "execution_count": null,
   "metadata": {},
   "outputs": [],
   "source": []
  },
  {
   "cell_type": "code",
   "execution_count": null,
   "metadata": {},
   "outputs": [],
   "source": []
  },
  {
   "cell_type": "code",
   "execution_count": null,
   "metadata": {},
   "outputs": [],
   "source": []
  },
  {
   "cell_type": "code",
   "execution_count": 770,
   "metadata": {},
   "outputs": [],
   "source": [
    "np.sum(np.abs(X))\n",
    "\n",
    "X = x/100"
   ]
  },
  {
   "cell_type": "code",
   "execution_count": 771,
   "metadata": {},
   "outputs": [],
   "source": [
    "n=X.shape[0]; p=X.shape[1]\n",
    "\n",
    "tol = 2\n",
    "\n",
    "eplison_p=L_num(p)\n",
    "eplison_n=L_num(n)\n",
    "\n",
    "elks = elk(n,p)\n",
    "el1,el2,ek1,ek2 = elks[0],elks[1],elks[2],elks[3]\n",
    "\n",
    "w = np.array(dist_weight(X / np.sqrt(p),phi = 0.5))\n",
    "w_l = knn_weights(w,1,n)\n",
    "u = np.array(dist_weight(X.T / np.sqrt(n),phi = 0.5))\n",
    "u_k = knn_weights(u,1,p)\n",
    "\n",
    "A = np.zeros([X.shape[0],X.shape[1]])\n",
    "v= np.zeros([p,eplison_n.shape[0]])\n",
    "z = np.zeros([n,eplison_p.shape[0]]) \n",
    "lambda_1 = np.zeros([p,eplison_n.shape[0]]) \n",
    "lambda_2 = np.zeros([n,eplison_p.shape[0]])"
   ]
  },
  {
   "cell_type": "code",
   "execution_count": 764,
   "metadata": {},
   "outputs": [
    {
     "data": {
      "text/plain": [
       "((100, 100), (100, 100))"
      ]
     },
     "execution_count": 764,
     "metadata": {},
     "output_type": "execute_result"
    }
   ],
   "source": [
    "    al1 = np.dot(A.T,el1); al2 = np.dot(A.T,el2)\n",
    "    ak1 = np.dot(A,ek1); ak2 = np.dot(A,ek2)"
   ]
  },
  {
   "cell_type": "code",
   "execution_count": 772,
   "metadata": {},
   "outputs": [],
   "source": [
    "niters = 1\n",
    "tol = 1"
   ]
  },
  {
   "cell_type": "code",
   "execution_count": 775,
   "metadata": {
    "scrolled": true
   },
   "outputs": [
    {
     "data": {
      "text/plain": [
       "0.6992652416229248"
      ]
     },
     "execution_count": 775,
     "metadata": {},
     "output_type": "execute_result"
    }
   ],
   "source": [
    "import time\n",
    "start_time = time.time()\n",
    "#print(\"--- %s seconds ---\" % ( - start_time))\n",
    "\n",
    "for iters in range(niters):\n",
    "\n",
    "    A_old, v_old, z_old, lambda_1_old, lambda_2_old = A, v, z, lambda_1, lambda_2\n",
    "    # update A\n",
    "    En = np.diag(list(range(n))) + np.diag(list(range(n-1,-1,-1))) - np.ones([n,n]) + np.eye(n) \n",
    "    Ep = np.diag(list(range(p))) + np.diag(list(range(p-1,-1,-1))) - np.ones([p,p]) + np.eye(p)\n",
    "    \n",
    "    M = np.eye(n) + nu1 * En\n",
    "    N = nu2 * Ep\n",
    "    \n",
    "    lv = lambda_1+ nu1 * v\n",
    "    lz = lambda_2 + nu2 * z\n",
    "    C2 = 0 -np.dot((el2-el1),lv.T)\n",
    "    C3 = np.dot(lz,(ek1-ek2).T)\n",
    "    C = X +  C2 + C3  \n",
    "   \n",
    "    A = linalg.solve_sylvester(M, N.T, C)\n",
    "    \n",
    "    al1 = np.dot(A.T,el1); al2 = np.dot(A.T,el2)\n",
    "    ak1 = np.dot(A,ek1); ak2 = np.dot(A,ek2)\n",
    "    \n",
    "    # update vz\n",
    "    sigma_1 = gamma_1 * w_l/nu1\n",
    "    vtemp = al1 - al2 - 1/nu1 * lambda_1\n",
    "    \n",
    "    temp1 = np.where((1 - sigma_1/np.sum(vtemp**2,axis=0) < 0),0,1 - sigma_1/np.sum(vtemp**2,axis=0))\n",
    "    temp2 = np.repeat(temp1,vtemp.shape[0]).reshape(vtemp.shape[1],vtemp.shape[0]).T * vtemp \n",
    "    \n",
    "    v = temp2\n",
    "    \n",
    "    sigma_2 = gamma_2 * u_k/nu2\n",
    "    ztemp = ak1 - ak2 - 1/nu2 * lambda_2\n",
    "    \n",
    "    temp3 = np.where((1 - sigma_2/np.sum(ztemp**2,axis=0) < 0), 0 ,1 - sigma_2/np.sum(ztemp**2,axis=0))\n",
    "    temp4 = np.repeat(temp3,ztemp.shape[0]).reshape(ztemp.shape[1],ztemp.shape[0]).T * ztemp \n",
    "  \n",
    "    z = temp4\n",
    " \n",
    "    # updatae lambda\n",
    "    lambda_1 = lambda_1 + nu1 * (v - al1 + al2)\n",
    "    lambda_2 = lambda_2 + nu2 * (z - ak1 + ak2)\n",
    "    \n",
    "    if iters % 10 ==1:\n",
    "        print('iter')\n",
    "        print(iters)\n",
    "    \n",
    "        print(('A',np.sum(abs(A - A_old))))\n",
    "        print(('v',np.sum(abs(v - v_old))))\n",
    "        print(('z',np.sum(abs(z -z_old))))\n",
    "        print(('l',np.sum(abs(lambda_1 - lambda_1_old))))\n",
    "        print(('2',np.sum(abs(lambda_2 - lambda_2_old))))\n",
    "    \n",
    "    # whether coverage    \n",
    "    \n",
    "    if (np.sum(np.abs(A - A_old)) < tol and\n",
    "        np.sum(np.abs(v - v_old)) < tol and \n",
    "        np.sum(np.abs(z - z_old)) < tol and\n",
    "        np.sum(np.abs(lambda_1 - lambda_1_old)) < tol and\n",
    "        np.sum(np.abs(lambda_2 - lambda_2_old)) < tol):\n",
    "        \n",
    "        print('done')\n",
    "        break\n",
    "    \n",
    "end_time = time.time()\n",
    "end_time -start_time"
   ]
  },
  {
   "cell_type": "code",
   "execution_count": 774,
   "metadata": {},
   "outputs": [
    {
     "data": {
      "text/plain": [
       "0.5415799617767334"
      ]
     },
     "execution_count": 774,
     "metadata": {},
     "output_type": "execute_result"
    }
   ],
   "source": [
    "#end_time = time.time()\n",
    "end_time -start_time"
   ]
  },
  {
   "cell_type": "code",
   "execution_count": 777,
   "metadata": {},
   "outputs": [
    {
     "data": {
      "text/plain": [
       "array([[ 1,  5,  9],\n",
       "       [ 2,  6, 10],\n",
       "       [ 3,  7, 11],\n",
       "       [ 4,  8, 12]])"
      ]
     },
     "execution_count": 777,
     "metadata": {},
     "output_type": "execute_result"
    }
   ],
   "source": [
    "X = np.array([[1,5,9],[2,6,10],[3,7,11],[4,8,12]])\n",
    "A = X\n",
    "X"
   ]
  },
  {
   "cell_type": "code",
   "execution_count": 778,
   "metadata": {},
   "outputs": [],
   "source": [
    "n,p=X.shape[0],X.shape[1]\n",
    "eplison_p=L_num(p)\n",
    "eplison_n=L_num(n)"
   ]
  },
  {
   "cell_type": "code",
   "execution_count": 808,
   "metadata": {},
   "outputs": [],
   "source": [
    "lambda_1 = np.zeros([p,eplison_n.shape[0]]) \n",
    "lambda_2 = np.zeros([n,eplison_p.shape[0]])"
   ]
  },
  {
   "cell_type": "code",
   "execution_count": 809,
   "metadata": {},
   "outputs": [
    {
     "data": {
      "text/plain": [
       "array([[5.2, 6.2, 7.2],\n",
       "       [5.4, 6.4, 7.4],\n",
       "       [5.6, 6.6, 7.6],\n",
       "       [5.8, 6.8, 7.8]])"
      ]
     },
     "execution_count": 809,
     "metadata": {},
     "output_type": "execute_result"
    }
   ],
   "source": [
    "A"
   ]
  },
  {
   "cell_type": "code",
   "execution_count": 779,
   "metadata": {},
   "outputs": [],
   "source": [
    "elks = elk(n,p)\n",
    "el1,el2,ek1,ek2 = elks[0],elks[1],elks[2],elks[3]\n",
    "A = np.zeros([X.shape[0],X.shape[1]])\n",
    "v= np.zeros([p,eplison_n.shape[0]])\n",
    "z = np.zeros([n,eplison_p.shape[0]]) \n",
    "lambda_1 = np.zeros([p,eplison_n.shape[0]]) \n",
    "lambda_2 = np.zeros([n,eplison_p.shape[0]])"
   ]
  },
  {
   "cell_type": "code",
   "execution_count": 793,
   "metadata": {},
   "outputs": [],
   "source": [
    "\n",
    "A = update_A(X, nu1, nu2, lambda_1, lambda_2, v, z,n,p,el1,el2,ek1,ek2)"
   ]
  },
  {
   "cell_type": "code",
   "execution_count": 794,
   "metadata": {},
   "outputs": [],
   "source": [
    "al1 = np.dot(A.T,el1); al2 = np.dot(A.T,el2)\n",
    "ak1 = np.dot(A,ek1); ak2 = np.dot(A,ek2)"
   ]
  },
  {
   "cell_type": "code",
   "execution_count": 801,
   "metadata": {},
   "outputs": [
    {
     "data": {
      "text/plain": [
       "array([[5.2, 5.2, 5.4, 5.2, 5.4, 5.6],\n",
       "       [6.2, 6.2, 6.4, 6.2, 6.4, 6.6],\n",
       "       [7.2, 7.2, 7.4, 7.2, 7.4, 7.6]])"
      ]
     },
     "execution_count": 801,
     "metadata": {},
     "output_type": "execute_result"
    }
   ],
   "source": [
    "al1"
   ]
  },
  {
   "cell_type": "code",
   "execution_count": 802,
   "metadata": {},
   "outputs": [
    {
     "data": {
      "text/plain": [
       "array([[5.4, 5.6, 5.6, 5.8, 5.8, 5.8],\n",
       "       [6.4, 6.6, 6.6, 6.8, 6.8, 6.8],\n",
       "       [7.4, 7.6, 7.6, 7.8, 7.8, 7.8]])"
      ]
     },
     "execution_count": 802,
     "metadata": {},
     "output_type": "execute_result"
    }
   ],
   "source": [
    "al2"
   ]
  },
  {
   "cell_type": "code",
   "execution_count": 803,
   "metadata": {},
   "outputs": [
    {
     "data": {
      "text/plain": [
       "array([[5.2, 5.2, 6.2],\n",
       "       [5.4, 5.4, 6.4],\n",
       "       [5.6, 5.6, 6.6],\n",
       "       [5.8, 5.8, 6.8]])"
      ]
     },
     "execution_count": 803,
     "metadata": {},
     "output_type": "execute_result"
    }
   ],
   "source": [
    "ak1"
   ]
  },
  {
   "cell_type": "code",
   "execution_count": 804,
   "metadata": {},
   "outputs": [
    {
     "data": {
      "text/plain": [
       "array([[6.2, 7.2, 7.2],\n",
       "       [6.4, 7.4, 7.4],\n",
       "       [6.6, 7.6, 7.6],\n",
       "       [6.8, 7.8, 7.8]])"
      ]
     },
     "execution_count": 804,
     "metadata": {},
     "output_type": "execute_result"
    }
   ],
   "source": [
    "ak2"
   ]
  },
  {
   "cell_type": "code",
   "execution_count": 792,
   "metadata": {},
   "outputs": [
    {
     "data": {
      "text/plain": [
       "array([[0., 0., 0.],\n",
       "       [0., 0., 0.],\n",
       "       [0., 0., 0.],\n",
       "       [0., 0., 0.]])"
      ]
     },
     "execution_count": 792,
     "metadata": {},
     "output_type": "execute_result"
    }
   ],
   "source": [
    "A = "
   ]
  },
  {
   "cell_type": "code",
   "execution_count": 823,
   "metadata": {},
   "outputs": [
    {
     "data": {
      "text/plain": [
       "array([[0.57735027, 2.88675135, 5.19615242],\n",
       "       [1.15470054, 3.46410162, 5.77350269],\n",
       "       [1.73205081, 4.04145188, 6.35085296],\n",
       "       [2.30940108, 4.61880215, 6.92820323]])"
      ]
     },
     "execution_count": 823,
     "metadata": {},
     "output_type": "execute_result"
    }
   ],
   "source": [
    "X / np.sqrt(p)"
   ]
  },
  {
   "cell_type": "code",
   "execution_count": 941,
   "metadata": {},
   "outputs": [],
   "source": [
    "lambda_1 = np.zeros([p,eplison_n.shape[0]]) \n",
    "lambda_2 = np.zeros([n,eplison_p.shape[0]])"
   ]
  },
  {
   "cell_type": "code",
   "execution_count": 916,
   "metadata": {},
   "outputs": [
    {
     "data": {
      "text/plain": [
       "(6, 0, 1, 1, array([0.60653066, 0.        , 0.        , 0.60653066, 0.        ,\n",
       "        0.60653066]), array([0.00033546, 0.        , 0.00033546]), array([[5.2, 5.2, 5.4, 5.2, 5.4, 5.6],\n",
       "        [6.2, 6.2, 6.4, 6.2, 6.4, 6.6],\n",
       "        [7.2, 7.2, 7.4, 7.2, 7.4, 7.6]]), array([[5.4, 5.6, 5.6, 5.8, 5.8, 5.8],\n",
       "        [6.4, 6.6, 6.6, 6.8, 6.8, 6.8],\n",
       "        [7.4, 7.6, 7.6, 7.8, 7.8, 7.8]]), array([[5.2, 5.2, 6.2],\n",
       "        [5.4, 5.4, 6.4],\n",
       "        [5.6, 5.6, 6.6],\n",
       "        [5.8, 5.8, 6.8]]), array([[6.2, 7.2, 7.2],\n",
       "        [6.4, 7.4, 7.4],\n",
       "        [6.6, 7.6, 7.6],\n",
       "        [6.8, 7.8, 7.8]]))"
      ]
     },
     "execution_count": 916,
     "metadata": {},
     "output_type": "execute_result"
    }
   ],
   "source": [
    "gamma_1, gamma_2, nu1, nu2, w_l, u_k, al1, al2, ak1, ak2"
   ]
  },
  {
   "cell_type": "code",
   "execution_count": 917,
   "metadata": {},
   "outputs": [
    {
     "data": {
      "text/plain": [
       "array([0.60653066, 0.        , 0.        , 0.60653066, 0.        ,\n",
       "       0.60653066])"
      ]
     },
     "execution_count": 917,
     "metadata": {},
     "output_type": "execute_result"
    }
   ],
   "source": [
    "w_l"
   ]
  },
  {
   "cell_type": "code",
   "execution_count": 942,
   "metadata": {},
   "outputs": [],
   "source": [
    "vz = update_vz(lambda_1, lambda_2, gamma_1, gamma_2, nu1, nu2, w_l, u_k, al1, al2, ak1, ak2)"
   ]
  },
  {
   "cell_type": "code",
   "execution_count": 943,
   "metadata": {},
   "outputs": [
    {
     "data": {
      "text/plain": [
       "array([[-0. , -0.4, -0.2, -0. , -0.4, -0. ],\n",
       "       [-0. , -0.4, -0.2, -0. , -0.4, -0. ],\n",
       "       [-0. , -0.4, -0.2, -0. , -0.4, -0. ]])"
      ]
     },
     "execution_count": 943,
     "metadata": {},
     "output_type": "execute_result"
    }
   ],
   "source": [
    "lambda_1, lambda_2 = lambdas[0], lambdas[1]\n",
    "lambda_1"
   ]
  },
  {
   "cell_type": "code",
   "execution_count": 929,
   "metadata": {},
   "outputs": [],
   "source": [
    "w = np.array(dist_weight(X / np.sqrt(p),phi = 0.5))\n",
    "w_l = knn_weights(w,1,n)\n",
    "u = np.array(dist_weight(X.T / np.sqrt(n),phi = 0.5))\n",
    "u_k = knn_weights(u,1,p)"
   ]
  },
  {
   "cell_type": "code",
   "execution_count": 953,
   "metadata": {},
   "outputs": [
    {
     "data": {
      "text/plain": [
       "array([[-0. , -0.4, -0.2, -0. , -0.4, -0. ],\n",
       "       [-0. , -0.4, -0.2, -0. , -0.4, -0. ],\n",
       "       [-0. , -0.4, -0.2, -0. , -0.4, -0. ]])"
      ]
     },
     "execution_count": 953,
     "metadata": {},
     "output_type": "execute_result"
    }
   ],
   "source": [
    "lambda_1 = np.zeros([p,eplison_n.shape[0]]) \n",
    "lambda_2 = np.zeros([n,eplison_p.shape[0]])\n",
    "vz = update_vz(lambda_1, lambda_2, gamma_1, gamma_2, nu1, nu2, w_l, u_k, al1, al2, ak1, ak2)\n",
    "v, z = vz[0], vz[1]\n",
    "v"
   ]
  },
  {
   "cell_type": "code",
   "execution_count": 954,
   "metadata": {},
   "outputs": [
    {
     "data": {
      "text/plain": [
       "array([[-1., -2., -1.],\n",
       "       [-1., -2., -1.],\n",
       "       [-1., -2., -1.],\n",
       "       [-1., -2., -1.]])"
      ]
     },
     "execution_count": 954,
     "metadata": {},
     "output_type": "execute_result"
    }
   ],
   "source": [
    "z"
   ]
  },
  {
   "cell_type": "code",
   "execution_count": 955,
   "metadata": {},
   "outputs": [
    {
     "data": {
      "text/plain": [
       "1"
      ]
     },
     "execution_count": 955,
     "metadata": {},
     "output_type": "execute_result"
    }
   ],
   "source": [
    "nu2"
   ]
  },
  {
   "cell_type": "code",
   "execution_count": 815,
   "metadata": {},
   "outputs": [],
   "source": [
    "    # update vz\n",
    "sigma_1 = gamma_1 * w_l/nu1\n",
    "vtemp = al1 - al2 - 1/nu1 * lambda_1\n",
    "    \n",
    " #   temp1 = np.where((1 - sigma_1/np.sum(vtemp**2,axis=0) < 0),0,1 - sigma_1/np.sum(vtemp**2,axis=0))\n",
    "  #  temp2 = np.repeat(temp1,vtemp.shape[0]).reshape(vtemp.shape[1],vtemp.shape[0]).T * vtemp \n"
   ]
  },
  {
   "cell_type": "code",
   "execution_count": 819,
   "metadata": {},
   "outputs": [
    {
     "data": {
      "text/plain": [
       "array([0.12, 0.48, 0.12, 1.08, 0.48, 0.12])"
      ]
     },
     "execution_count": 819,
     "metadata": {},
     "output_type": "execute_result"
    }
   ],
   "source": [
    "sigma_1/np.sum(vtemp**2,axis=0)\n",
    "np.sum(vtemp**2,axis=0)"
   ]
  },
  {
   "cell_type": "code",
   "execution_count": 822,
   "metadata": {},
   "outputs": [
    {
     "data": {
      "text/plain": [
       "array([0.60653066, 0.        , 0.        , 0.60653066, 0.        ,\n",
       "       0.        ])"
      ]
     },
     "execution_count": 822,
     "metadata": {},
     "output_type": "execute_result"
    }
   ],
   "source": [
    "w"
   ]
  },
  {
   "cell_type": "code",
   "execution_count": 811,
   "metadata": {},
   "outputs": [
    {
     "data": {
      "text/plain": [
       "array([[-0.2, -0.4, -0.2, -0.6, -0.4, -0.2],\n",
       "       [-0.2, -0.4, -0.2, -0.6, -0.4, -0.2],\n",
       "       [-0.2, -0.4, -0.2, -0.6, -0.4, -0.2]])"
      ]
     },
     "execution_count": 811,
     "metadata": {},
     "output_type": "execute_result"
    }
   ],
   "source": [
    "al1 - al2 "
   ]
  },
  {
   "cell_type": "code",
   "execution_count": null,
   "metadata": {},
   "outputs": [],
   "source": []
  }
 ],
 "metadata": {
  "kernelspec": {
   "display_name": "Python 3",
   "language": "python",
   "name": "python3"
  },
  "language_info": {
   "codemirror_mode": {
    "name": "ipython",
    "version": 3
   },
   "file_extension": ".py",
   "mimetype": "text/x-python",
   "name": "python",
   "nbconvert_exporter": "python",
   "pygments_lexer": "ipython3",
   "version": "3.6.6"
  }
 },
 "nbformat": 4,
 "nbformat_minor": 2
}
