{
 "cells": [
  {
   "cell_type": "markdown",
   "metadata": {},
   "source": [
    "# Step 2\n",
    "\n",
    "2018 10 25"
   ]
  },
  {
   "cell_type": "markdown",
   "metadata": {},
   "source": [
    "optimization of the bi ADMM\n",
    "\n",
    "focused on vectorlization"
   ]
  },
  {
   "cell_type": "markdown",
   "metadata": {},
   "source": [
    "more detailed file"
   ]
  },
  {
   "cell_type": "markdown",
   "metadata": {},
   "source": [
    "# Summary time diff"
   ]
  },
  {
   "cell_type": "markdown",
   "metadata": {},
   "source": [
    "#### L_num"
   ]
  },
  {
   "cell_type": "code",
   "execution_count": 116,
   "metadata": {},
   "outputs": [
    {
     "data": {
      "text/plain": [
       "Time difference of 0.09051704 secs"
      ]
     },
     "metadata": {},
     "output_type": "display_data"
    }
   ],
   "source": [
    "t1 = Sys.time()\n",
    "x1 = L_num_old(100)\n",
    "t2 = Sys.time()\n",
    "t2-t1"
   ]
  },
  {
   "cell_type": "code",
   "execution_count": 117,
   "metadata": {},
   "outputs": [
    {
     "data": {
      "text/plain": [
       "Time difference of 0.005729198 secs"
      ]
     },
     "metadata": {},
     "output_type": "display_data"
    }
   ],
   "source": [
    "t3 = Sys.time()\n",
    "x2 = L_num(100)\n",
    "t4 = Sys.time()\n",
    "t4-t3"
   ]
  },
  {
   "cell_type": "markdown",
   "metadata": {},
   "source": [
    "#### update lambda"
   ]
  },
  {
   "cell_type": "code",
   "execution_count": 114,
   "metadata": {
    "scrolled": true
   },
   "outputs": [
    {
     "data": {
      "text/plain": [
       "Time difference of 0.2200952 secs"
      ]
     },
     "metadata": {},
     "output_type": "display_data"
    }
   ],
   "source": [
    "t1 = Sys.time()\n",
    "res1 = update_lambda_old(X, A, nu1, nu2,v, z)\n",
    "t2 = Sys.time()\n",
    "t2-t1"
   ]
  },
  {
   "cell_type": "code",
   "execution_count": 115,
   "metadata": {},
   "outputs": [
    {
     "data": {
      "text/plain": [
       "Time difference of 0.0204699 secs"
      ]
     },
     "metadata": {},
     "output_type": "display_data"
    }
   ],
   "source": [
    "t3 = Sys.time()\n",
    "res2 = update_lambda(X, A, nu1, nu2,v, z)\n",
    "t4 = Sys.time()\n",
    "t4-t3"
   ]
  },
  {
   "cell_type": "markdown",
   "metadata": {},
   "source": [
    "#### update vz"
   ]
  },
  {
   "cell_type": "code",
   "execution_count": 178,
   "metadata": {
    "scrolled": true
   },
   "outputs": [
    {
     "data": {
      "text/plain": [
       "Time difference of 0.1449609 secs"
      ]
     },
     "metadata": {},
     "output_type": "display_data"
    }
   ],
   "source": [
    "t1 = Sys.time()\n",
    "res1 = update_vz_old(X, A, lambda_1, lambda_2, gamma_1, gamma_2, nu1, nu2)\n",
    "t2 = Sys.time()\n",
    "t2-t1"
   ]
  },
  {
   "cell_type": "code",
   "execution_count": 179,
   "metadata": {},
   "outputs": [
    {
     "data": {
      "text/plain": [
       "Time difference of 0.02553797 secs"
      ]
     },
     "metadata": {},
     "output_type": "display_data"
    }
   ],
   "source": [
    "t3 = Sys.time()\n",
    "res2 = update_vz(X, A, lambda_1, lambda_2, gamma_1, gamma_2, nu1, nu2,n,p,eplison_n,eplison_p)\n",
    "t4 = Sys.time()\n",
    "t4-t3"
   ]
  },
  {
   "cell_type": "markdown",
   "metadata": {},
   "source": [
    "#### sylvester equation"
   ]
  },
  {
   "cell_type": "code",
   "execution_count": 196,
   "metadata": {},
   "outputs": [],
   "source": [
    "A = matrix(rnorm(3600,0,6),60,60)\n",
    "B = matrix(rnorm(360*360,0,6),360,360)\n",
    "X = matrix(rnorm(360*60,0,7),60,360)\n",
    "C = A%*% X + X%*% B\n",
    "XX = X"
   ]
  },
  {
   "cell_type": "code",
   "execution_count": 125,
   "metadata": {},
   "outputs": [
    {
     "data": {
      "text/plain": [
       "Time difference of 2.750152 secs"
      ]
     },
     "metadata": {},
     "output_type": "display_data"
    }
   ],
   "source": [
    "t1 =Sys.time()\n",
    "res = sylvester_old(A,B,C)\n",
    "t2 =Sys.time()\n",
    "t2-t1"
   ]
  },
  {
   "cell_type": "code",
   "execution_count": 126,
   "metadata": {},
   "outputs": [
    {
     "data": {
      "text/plain": [
       "Time difference of 0.3254192 secs"
      ]
     },
     "metadata": {},
     "output_type": "display_data"
    }
   ],
   "source": [
    "t3 =Sys.time()\n",
    "res = sylvester(A,B,C)\n",
    "t4 =Sys.time()\n",
    "t4-t3"
   ]
  },
  {
   "cell_type": "code",
   "execution_count": null,
   "metadata": {},
   "outputs": [],
   "source": []
  },
  {
   "cell_type": "code",
   "execution_count": 251,
   "metadata": {},
   "outputs": [
    {
     "data": {
      "text/plain": [
       "Time difference of 2.156838 mins"
      ]
     },
     "metadata": {},
     "output_type": "display_data"
    }
   ],
   "source": [
    "t1 = Sys.time()\n",
    "res1 = update_A_old(X, nu1, nu2, lambda_1, lambda_2, v, z)\n",
    "t2 = Sys.time()\n",
    "t2-t1"
   ]
  },
  {
   "cell_type": "code",
   "execution_count": 253,
   "metadata": {},
   "outputs": [
    {
     "data": {
      "text/plain": [
       "Time difference of 9.107001 secs"
      ]
     },
     "metadata": {},
     "output_type": "display_data"
    }
   ],
   "source": [
    "t3 = Sys.time()\n",
    "res2 = update_A(X, nu1, nu2, lambda_1, lambda_2, v, z,n,p)\n",
    "t4 = Sys.time()\n",
    "t4-t3"
   ]
  },
  {
   "cell_type": "code",
   "execution_count": null,
   "metadata": {},
   "outputs": [],
   "source": []
  },
  {
   "cell_type": "code",
   "execution_count": null,
   "metadata": {},
   "outputs": [],
   "source": []
  },
  {
   "cell_type": "code",
   "execution_count": null,
   "metadata": {},
   "outputs": [],
   "source": []
  },
  {
   "cell_type": "markdown",
   "metadata": {},
   "source": [
    "### 1. L_num function"
   ]
  },
  {
   "cell_type": "markdown",
   "metadata": {},
   "source": [
    "old"
   ]
  },
  {
   "cell_type": "code",
   "execution_count": 1,
   "metadata": {},
   "outputs": [],
   "source": [
    "L_num_old=function(n){\n",
    "  library(tidyr)\n",
    "  L=matrix(0,n,n)\n",
    "  for(i in 1:n){\n",
    "    for(j in 1:n){\n",
    "      L[i,j] = paste(i,',',j)\n",
    "    }\n",
    "  }\n",
    "  l=c(L[upper.tri(L)])\n",
    "  ll=data.frame(l)\n",
    "  \n",
    "  LL=ll %>% separate(l,c('l1','l2'),sep=',')\n",
    "  LL=data.frame(l1=as.numeric(LL[,'l1']),l2=as.numeric(LL[,'l2']))\n",
    "  return(LL)\n",
    "}"
   ]
  },
  {
   "cell_type": "markdown",
   "metadata": {},
   "source": [
    "new"
   ]
  },
  {
   "cell_type": "code",
   "execution_count": 82,
   "metadata": {},
   "outputs": [],
   "source": [
    "L_num = function(n){\n",
    "  t = matrix(0, n*(n-1)/2,2)\n",
    "  count = 0\n",
    "  for(i in 1:(n-1)){\n",
    "    for(j in (i+1):n){\n",
    "      count = count + 1\n",
    "      t[count,1]= i; t[count,2]=j\n",
    "    }\n",
    "  }\n",
    "  LL = data.frame(l1 = t[,1],l2 = t[,2])\n",
    "  LL = LL[order(LL$l2),]\n",
    "  rownames(LL) = NULL\n",
    "  return(LL)\n",
    "}"
   ]
  },
  {
   "cell_type": "code",
   "execution_count": 83,
   "metadata": {
    "collapsed": true
   },
   "outputs": [
    {
     "data": {
      "text/html": [
       "<table>\n",
       "<thead><tr><th scope=col>l1</th><th scope=col>l2</th></tr></thead>\n",
       "<tbody>\n",
       "\t<tr><td>1</td><td>2</td></tr>\n",
       "\t<tr><td>1</td><td>3</td></tr>\n",
       "\t<tr><td>2</td><td>3</td></tr>\n",
       "\t<tr><td>1</td><td>4</td></tr>\n",
       "\t<tr><td>2</td><td>4</td></tr>\n",
       "\t<tr><td>3</td><td>4</td></tr>\n",
       "\t<tr><td>1</td><td>5</td></tr>\n",
       "\t<tr><td>2</td><td>5</td></tr>\n",
       "\t<tr><td>3</td><td>5</td></tr>\n",
       "\t<tr><td>4</td><td>5</td></tr>\n",
       "</tbody>\n",
       "</table>\n"
      ],
      "text/latex": [
       "\\begin{tabular}{r|ll}\n",
       " l1 & l2\\\\\n",
       "\\hline\n",
       "\t 1 & 2\\\\\n",
       "\t 1 & 3\\\\\n",
       "\t 2 & 3\\\\\n",
       "\t 1 & 4\\\\\n",
       "\t 2 & 4\\\\\n",
       "\t 3 & 4\\\\\n",
       "\t 1 & 5\\\\\n",
       "\t 2 & 5\\\\\n",
       "\t 3 & 5\\\\\n",
       "\t 4 & 5\\\\\n",
       "\\end{tabular}\n"
      ],
      "text/markdown": [
       "\n",
       "l1 | l2 | \n",
       "|---|---|---|---|---|---|---|---|---|---|\n",
       "| 1 | 2 | \n",
       "| 1 | 3 | \n",
       "| 2 | 3 | \n",
       "| 1 | 4 | \n",
       "| 2 | 4 | \n",
       "| 3 | 4 | \n",
       "| 1 | 5 | \n",
       "| 2 | 5 | \n",
       "| 3 | 5 | \n",
       "| 4 | 5 | \n",
       "\n",
       "\n"
      ],
      "text/plain": [
       "   l1 l2\n",
       "1  1  2 \n",
       "2  1  3 \n",
       "3  2  3 \n",
       "4  1  4 \n",
       "5  2  4 \n",
       "6  3  4 \n",
       "7  1  5 \n",
       "8  2  5 \n",
       "9  3  5 \n",
       "10 4  5 "
      ]
     },
     "metadata": {},
     "output_type": "display_data"
    }
   ],
   "source": [
    "L_num_old(5)"
   ]
  },
  {
   "cell_type": "code",
   "execution_count": 84,
   "metadata": {
    "collapsed": true
   },
   "outputs": [
    {
     "data": {
      "text/html": [
       "<table>\n",
       "<thead><tr><th scope=col>l1</th><th scope=col>l2</th></tr></thead>\n",
       "<tbody>\n",
       "\t<tr><td>1</td><td>2</td></tr>\n",
       "\t<tr><td>1</td><td>3</td></tr>\n",
       "\t<tr><td>2</td><td>3</td></tr>\n",
       "\t<tr><td>1</td><td>4</td></tr>\n",
       "\t<tr><td>2</td><td>4</td></tr>\n",
       "\t<tr><td>3</td><td>4</td></tr>\n",
       "\t<tr><td>1</td><td>5</td></tr>\n",
       "\t<tr><td>2</td><td>5</td></tr>\n",
       "\t<tr><td>3</td><td>5</td></tr>\n",
       "\t<tr><td>4</td><td>5</td></tr>\n",
       "</tbody>\n",
       "</table>\n"
      ],
      "text/latex": [
       "\\begin{tabular}{r|ll}\n",
       " l1 & l2\\\\\n",
       "\\hline\n",
       "\t 1 & 2\\\\\n",
       "\t 1 & 3\\\\\n",
       "\t 2 & 3\\\\\n",
       "\t 1 & 4\\\\\n",
       "\t 2 & 4\\\\\n",
       "\t 3 & 4\\\\\n",
       "\t 1 & 5\\\\\n",
       "\t 2 & 5\\\\\n",
       "\t 3 & 5\\\\\n",
       "\t 4 & 5\\\\\n",
       "\\end{tabular}\n"
      ],
      "text/markdown": [
       "\n",
       "l1 | l2 | \n",
       "|---|---|---|---|---|---|---|---|---|---|\n",
       "| 1 | 2 | \n",
       "| 1 | 3 | \n",
       "| 2 | 3 | \n",
       "| 1 | 4 | \n",
       "| 2 | 4 | \n",
       "| 3 | 4 | \n",
       "| 1 | 5 | \n",
       "| 2 | 5 | \n",
       "| 3 | 5 | \n",
       "| 4 | 5 | \n",
       "\n",
       "\n"
      ],
      "text/plain": [
       "   l1 l2\n",
       "1  1  2 \n",
       "2  1  3 \n",
       "3  2  3 \n",
       "4  1  4 \n",
       "5  2  4 \n",
       "6  3  4 \n",
       "7  1  5 \n",
       "8  2  5 \n",
       "9  3  5 \n",
       "10 4  5 "
      ]
     },
     "metadata": {},
     "output_type": "display_data"
    }
   ],
   "source": [
    "L_num(5)"
   ]
  },
  {
   "cell_type": "markdown",
   "metadata": {},
   "source": [
    "test"
   ]
  },
  {
   "cell_type": "code",
   "execution_count": 85,
   "metadata": {},
   "outputs": [
    {
     "data": {
      "text/plain": [
       "Time difference of 0.117928 secs"
      ]
     },
     "metadata": {},
     "output_type": "display_data"
    }
   ],
   "source": [
    "t1 = Sys.time()\n",
    "x1 = L_num_old(100)\n",
    "t2 = Sys.time()\n",
    "t2-t1"
   ]
  },
  {
   "cell_type": "code",
   "execution_count": 86,
   "metadata": {},
   "outputs": [
    {
     "data": {
      "text/plain": [
       "Time difference of 0.006487846 secs"
      ]
     },
     "metadata": {},
     "output_type": "display_data"
    }
   ],
   "source": [
    "t3 = Sys.time()\n",
    "x2 = L_num(100)\n",
    "t4 = Sys.time()\n",
    "t4-t3"
   ]
  },
  {
   "cell_type": "markdown",
   "metadata": {},
   "source": [
    "### 2. Sylester equation"
   ]
  },
  {
   "cell_type": "code",
   "execution_count": 22,
   "metadata": {},
   "outputs": [],
   "source": [
    "A = matrix(rnorm(3600,0,6),60,60)\n",
    "B = matrix(rnorm(360*360,0,6),360,360)\n",
    "X = matrix(rnorm(360*60,0,7),60,360)\n",
    "C = A%*% X + X%*% B\n",
    "XX = X"
   ]
  },
  {
   "cell_type": "code",
   "execution_count": 23,
   "metadata": {
    "scrolled": true
   },
   "outputs": [],
   "source": [
    "library(Matrix)\n",
    "A1 = Schur(A)\n",
    "Q1 = A1$Q; R1 = A1$T\n",
    "\n",
    "A2 = Schur(B)\n",
    "Q2 = A2$Q; R2 = A2$T \n",
    "C = t(Q1) %*% C %*% Q2\n",
    "\n",
    "Rsq = R1 * R1\n",
    "I = diag(dim(A)[1])\n",
    "\n",
    "k = 1\n",
    "n = dim(R2)[1]"
   ]
  },
  {
   "cell_type": "code",
   "execution_count": null,
   "metadata": {},
   "outputs": [],
   "source": []
  },
  {
   "cell_type": "markdown",
   "metadata": {},
   "source": [
    "#### part 1:"
   ]
  },
  {
   "cell_type": "code",
   "execution_count": 24,
   "metadata": {
    "scrolled": true
   },
   "outputs": [
    {
     "data": {
      "text/plain": [
       "Time difference of 0.132673 secs"
      ]
     },
     "metadata": {},
     "output_type": "display_data"
    }
   ],
   "source": [
    "t1 = Sys.time()\n",
    "for(k in 1:n){\n",
    "  temp = matrix(0, dim(X)[1],1)\n",
    "  if(k == 1){\n",
    "    temp = temp\n",
    "  }else{\n",
    "    for(i in 1:(k-1)){\n",
    "      temp = temp + X[,i] * R2[i,k]\n",
    "    }\n",
    "  }\n",
    "  temp = matrix(temp, dim(C)[1],1)\n",
    "}\n",
    "t2 = Sys.time()\n",
    "t2-t1"
   ]
  },
  {
   "cell_type": "code",
   "execution_count": 26,
   "metadata": {},
   "outputs": [
    {
     "data": {
      "text/plain": [
       "Time difference of 0.06556201 secs"
      ]
     },
     "metadata": {},
     "output_type": "display_data"
    }
   ],
   "source": [
    "t3 = Sys.time()\n",
    "for(k in 1:(n)){\n",
    "  temp = matrix(0, dim(X)[1],1)\n",
    "  if(k == 1){\n",
    "    temp = temp\n",
    "  }else{\n",
    "    temp = (X[,1:(k-1)]) %*% matrix(R2[1:(k-1),k],k-1,1)\n",
    "  }\n",
    "}\n",
    "t4 = Sys.time()\n",
    "t4-t3"
   ]
  },
  {
   "cell_type": "markdown",
   "metadata": {},
   "source": [
    "#### part 2"
   ]
  },
  {
   "cell_type": "code",
   "execution_count": 30,
   "metadata": {},
   "outputs": [
    {
     "data": {
      "text/plain": [
       "Time difference of 0.3974068 secs"
      ]
     },
     "metadata": {},
     "output_type": "display_data"
    }
   ],
   "source": [
    "t1 = Sys.time()\n",
    "for(k in 1:(n-1)){\n",
    "  r11 = R2[k,k]; r12 = R2[k, k+1]; r21 = R2[k+1, k]; r22 = R2[k+1, k+1]\n",
    "  temp2 = matrix(0, dim(X)[1],1);temp3=matrix(0, dim(X)[1],1)\n",
    "  if(k == 1){\n",
    "    temp2 = temp2\n",
    "    temp3 = temp3\n",
    "  }else{\n",
    "    for(i in 1:(k-1)){\n",
    "      temp2 = temp2 + X[,i] * R2[i,k]\n",
    "      temp3 = temp3 + X[,i] * R2[i,k+1]}\n",
    "  }\n",
    "  temp2 = matrix(temp2, dim(X)[1],1)\n",
    "  temp3 = matrix(temp3, dim(X)[1],1)\n",
    "}\n",
    "\n",
    "t2 = Sys.time()\n",
    "t2-t1"
   ]
  },
  {
   "cell_type": "code",
   "execution_count": 31,
   "metadata": {},
   "outputs": [
    {
     "data": {
      "text/plain": [
       "Time difference of 0.07258606 secs"
      ]
     },
     "metadata": {},
     "output_type": "display_data"
    }
   ],
   "source": [
    "t3 = Sys.time()\n",
    "for(k in 1:(n-1)){\n",
    "  r11 = R2[k,k]; r12 = R2[k, k+1]; r21 = R2[k+1, k]; r22 = R2[k+1, k+1]\n",
    "  temp2 = matrix(0, dim(X)[1],1);temp3=matrix(0, dim(X)[1],1)\n",
    "  if(k == 1){\n",
    "    temp2 = temp2\n",
    "    temp3 = temp3\n",
    "  }else{\n",
    "    temps = X[,1:(k-1)] %*% matrix(R2[1:(k-1),k:(k+1)],k-1,2)\n",
    "    temp2 = temps[,1]\n",
    "    temp3 = temps[,2]\n",
    "  }\n",
    "}\n",
    "t4 = Sys.time()\n",
    "t4-t3"
   ]
  },
  {
   "cell_type": "markdown",
   "metadata": {},
   "source": [
    "old equation"
   ]
  },
  {
   "cell_type": "code",
   "execution_count": 32,
   "metadata": {},
   "outputs": [],
   "source": [
    "sylvester_old = function(A, B, C, eps = 0.0001){\n",
    "  \n",
    "  library(MASS)\n",
    "  library(Matrix)\n",
    "  \n",
    "  A1 = Schur(A)\n",
    "  Q1 = A1$Q; R1 = A1$T\n",
    "  \n",
    "  A2 = Schur(B)\n",
    "  Q2 = A2$Q; R2 = A2$T \n",
    "  C = t(Q1) %*% C %*% Q2\n",
    "  \n",
    "  Rsq = R1 * R1\n",
    "  I = diag(dim(A)[1])\n",
    "  \n",
    "  k = 1\n",
    "  n = dim(R2)[1]\n",
    "  \n",
    "  while(k < n + 1){\n",
    "    if(k < n){\n",
    "      if(abs(R2[k+1, k]) < eps){\n",
    "        left = R1 + R2[k,k] * I\n",
    "        right = C[,k]\n",
    "        temp = matrix(0, dim(X)[1],1)\n",
    "        if(k == 1){\n",
    "          temp = temp\n",
    "        }else{\n",
    "          for(i in 1:(k-1)){\n",
    "            temp = temp + X[,i] * R2[i,k]\n",
    "          }\n",
    "        }\n",
    "        temp = matrix(temp, dim(C)[1],1)\n",
    "        X[,k] = ginv(left) %*% (right - temp)\n",
    "       # mytry = myTryCatch(solve(left))\n",
    "        #if(is.null(mytry$error) == 0){er = c(er,tt)}\n",
    "        k = k+1\n",
    "      }else{\n",
    "        r11 = R2[k,k]; r12 = R2[k, k+1]; r21 = R2[k+1, k]; r22 = R2[k+1, k+1]\n",
    "        temp2 = matrix(0, dim(X)[1],1);temp3=matrix(0, dim(X)[1],1)\n",
    "        if(k == 1){\n",
    "          temp2 = temp2\n",
    "          temp3 = temp3\n",
    "        }else{\n",
    "          for(i in 1:(k-1)){\n",
    "            temp2 = temp2 + X[,i] * R2[i,k]\n",
    "            temp3 = temp3 + X[,i] * R2[i,k+1]}\n",
    "        }\n",
    "        temp2 = matrix(temp2, dim(X)[1],1)\n",
    "        temp3 = matrix(temp3, dim(X)[1],1)\n",
    "        b1 = C[,k] - temp2 \n",
    "        b2 = C[,k+1] - temp3\n",
    "        b1_prime = R1 %*% b1 + r22 * b1 - r21 * b2\n",
    "        b2_prime = R1 %*% b2 + r11 * b2 - r12 * b1\n",
    "        b_prime = matrix(0, dim(X)[1],2)\n",
    "        b_prime[,1] = b1_prime; b_prime[,2] = b2_prime\n",
    "        X[,k:(k+1)] = ginv(R1 %*% R1 + (r11 + r22) * R1 +\n",
    "                             (r11*r22 - r12*r21) * I) %*% b_prime \n",
    "        k = k+2\n",
    "      }\n",
    "    }else{\n",
    "      if(abs(R2[1, k]) > eps){\n",
    "        left = R1 + R2[k,k] * I\n",
    "        right = C[,k]\n",
    "        temp = matrix(0, dim(X)[1],1)\n",
    "        if(k == 1){\n",
    "          temp = temp\n",
    "        }else{\n",
    "          for(i in 1:(k-1)){\n",
    "            temp = temp + X[,i] * R2[i,k]\n",
    "          }\n",
    "        }\n",
    "        temp = matrix(temp, dim(C)[1],1)\n",
    "        X[,k] = ginv(left) %*% (right - temp)\n",
    "        k = k+1\n",
    "      }else{\n",
    "        R22 = R2\n",
    "        R22 = cbind(R2, rep(0,dim(R2)[1]))\n",
    "        R22 = rbind(R22,rep(0,dim(R2)[1]+1))\n",
    "        r11 = R22[k,k]; r12 = R22[k, k+1]; r21 = R22[k+1, k]; r22 = R22[k+1, k+1]\n",
    "        temp2 = matrix(0, dim(X)[1],1);temp3=matrix(0, dim(X)[1],1)\n",
    "        for(i in 1:(k-1)){\n",
    "          temp2 = temp2 + X[,i] * R22[i,k]\n",
    "          temp3 = temp3 + X[,i] * R22[i,k+1]}\n",
    "        temp2 = matrix(temp2, dim(X)[1],1)\n",
    "        temp3 = matrix(temp3, dim(X)[1],1)\n",
    "        b1 = C[,k] - temp2 \n",
    "        b2 = - temp3\n",
    "        b1_prime = R1 %*% b1 + r22 * b1 - r21 * b2\n",
    "        b2_prime = R1 %*% b2 + r11 * b2 - r12 * b1\n",
    "        b_prime = matrix(0, dim(X)[1],2)\n",
    "        b_prime[,1] = b1_prime; b_prime[,2] = b2_prime\n",
    "        GOD = ginv(R1 %*% R1 + (r11 + r22) * R1 +\n",
    "                     (r11*r22 - r12*r21) * I) %*% b_prime \n",
    "        X[,k] = GOD[,1]\n",
    "        k = k+2\n",
    "      }\n",
    "    }\n",
    "  }\n",
    "  return(Q1 %*% X %*% t(Q2))\n",
    "}"
   ]
  },
  {
   "cell_type": "code",
   "execution_count": 221,
   "metadata": {},
   "outputs": [],
   "source": [
    "sylvester= function(A, B, C, eps = 0.0001){\n",
    "  \n",
    "  library(MASS)\n",
    "  library(Matrix)\n",
    "  \n",
    "  A1 = Schur(A)\n",
    "  Q1 = A1$Q; R1 = A1$T\n",
    "  \n",
    "  A2 = Schur(B)\n",
    "  Q2 = A2$Q; R2 = A2$T \n",
    "  C = t(Q1) %*% C %*% Q2\n",
    "  \n",
    "  Rsq = R1 * R1\n",
    "  I = diag(dim(A)[1])\n",
    "  \n",
    "  k = 1\n",
    "  n = dim(R2)[1]\n",
    "  \n",
    "  while(k < n + 1){\n",
    "    if(k < n){\n",
    "      if(abs(R2[k+1, k]) < eps){\n",
    "        left = R1 + R2[k,k] * I\n",
    "        right = C[,k]\n",
    "        temp = matrix(0, dim(X)[1],1)\n",
    "        if(k == 1){\n",
    "          temp = temp\n",
    "        }else{\n",
    "          temp = (X[,1:(k-1)]) %*% matrix(R2[1:(k-1),k],k-1,1)\n",
    "        }\n",
    "        temp = matrix(temp, dim(C)[1],1)\n",
    "        X[,k] = ginv(left) %*% (right - temp)\n",
    "       # mytry = myTryCatch(solve(left))\n",
    "        #if(is.null(mytry$error) == 0){er = c(er,tt)}\n",
    "        k = k+1\n",
    "      }else{\n",
    "        r11 = R2[k,k]; r12 = R2[k, k+1]; r21 = R2[k+1, k]; r22 = R2[k+1, k+1]\n",
    "        temp2 = matrix(0, dim(X)[1],1);temp3=matrix(0, dim(X)[1],1)\n",
    "        if(k == 1){\n",
    "          temp2 = temp2\n",
    "          temp3 = temp3\n",
    "        }else{\n",
    "          temps = X[,1:(k-1)] %*% matrix(R2[1:(k-1),k:(k+1)],k-1,2)\n",
    "            temp2 = temps[,1]\n",
    "            temp3 = temps[,2]\n",
    "        }\n",
    "        b1 = C[,k] - temp2 \n",
    "        b2 = C[,k+1] - temp3\n",
    "        b1_prime = R1 %*% b1 + r22 * b1 - r21 * b2\n",
    "        b2_prime = R1 %*% b2 + r11 * b2 - r12 * b1\n",
    "        b_prime = matrix(0, dim(X)[1],2)\n",
    "        b_prime[,1] = b1_prime; b_prime[,2] = b2_prime\n",
    "        X[,k:(k+1)] = ginv(R1 %*% R1 + (r11 + r22) * R1 +\n",
    "                             (r11*r22 - r12*r21) * I) %*% b_prime \n",
    "        k = k+2\n",
    "      }\n",
    "    }else{\n",
    "      if(abs(R2[1, k]) > eps){\n",
    "        left = R1 + R2[k,k] * I\n",
    "        right = C[,k]\n",
    "        temp = matrix(0, dim(X)[1],1)\n",
    "        if(k == 1){\n",
    "          temp = temp\n",
    "        }else{\n",
    "          temp = (X[,1:(k-1)]) %*% matrix(R2[1:(k-1),k],k-1,1)\n",
    "        }\n",
    "        temp = matrix(temp, dim(C)[1],1)\n",
    "        X[,k] = ginv(left) %*% (right - temp)\n",
    "        k = k+1\n",
    "      }else{\n",
    "        R22 = R2\n",
    "        R22 = cbind(R2, rep(0,dim(R2)[1]))\n",
    "        R22 = rbind(R22,rep(0,dim(R2)[1]+1))\n",
    "        r11 = R22[k,k]; r12 = R22[k, k+1]; r21 = R22[k+1, k]; r22 = R22[k+1, k+1]\n",
    "        temp2 = matrix(0, dim(X)[1],1);temp3=matrix(0, dim(X)[1],1)\n",
    "        \n",
    "        if(k == 1){\n",
    "          temp2 = temp2\n",
    "          temp3 = temp3\n",
    "        }else{\n",
    "          temps = X[,1:(k-1)] %*% matrix(R22[1:(k-1),k:(k+1)],k-1,2)\n",
    "          temp2 = temps[,1]\n",
    "          temp3 = temps[,2]\n",
    "        }\n",
    "          \n",
    "        b1 = C[,k] - temp2 \n",
    "        b2 = - temp3\n",
    "        b1_prime = R1 %*% b1 + r22 * b1 - r21 * b2\n",
    "        b2_prime = R1 %*% b2 + r11 * b2 - r12 * b1\n",
    "        b_prime = matrix(0, dim(X)[1],2)\n",
    "        b_prime[,1] = b1_prime; b_prime[,2] = b2_prime\n",
    "        GOD = ginv(R1 %*% R1 + (r11 + r22) * R1 +\n",
    "                     (r11*r22 - r12*r21) * I) %*% b_prime \n",
    "        X[,k] = GOD[,1]\n",
    "        k = k+2\n",
    "      }\n",
    "    }\n",
    "  }\n",
    "  return(Q1 %*% X %*% t(Q2))\n",
    "}"
   ]
  },
  {
   "cell_type": "markdown",
   "metadata": {},
   "source": [
    "new equation"
   ]
  },
  {
   "cell_type": "code",
   "execution_count": 218,
   "metadata": {},
   "outputs": [
    {
     "data": {
      "text/html": [
       "<table>\n",
       "<tbody>\n",
       "\t<tr><td>0.2306219 </td><td>-0.6412549</td><td>0.2306219 </td></tr>\n",
       "\t<tr><td>1.0185384 </td><td> 4.0862442</td><td>1.0185384 </td></tr>\n",
       "\t<tr><td>0.2770504 </td><td>-0.3626837</td><td>0.2770504 </td></tr>\n",
       "\t<tr><td>0.4987754 </td><td> 0.9676665</td><td>0.4987754 </td></tr>\n",
       "</tbody>\n",
       "</table>\n"
      ],
      "text/latex": [
       "\\begin{tabular}{lll}\n",
       "\t 0.2306219  & -0.6412549 & 0.2306219 \\\\\n",
       "\t 1.0185384  &  4.0862442 & 1.0185384 \\\\\n",
       "\t 0.2770504  & -0.3626837 & 0.2770504 \\\\\n",
       "\t 0.4987754  &  0.9676665 & 0.4987754 \\\\\n",
       "\\end{tabular}\n"
      ],
      "text/markdown": [
       "\n",
       "| 0.2306219  | -0.6412549 | 0.2306219  | \n",
       "| 1.0185384  |  4.0862442 | 1.0185384  | \n",
       "| 0.2770504  | -0.3626837 | 0.2770504  | \n",
       "| 0.4987754  |  0.9676665 | 0.4987754  | \n",
       "\n",
       "\n"
      ],
      "text/plain": [
       "     [,1]      [,2]       [,3]     \n",
       "[1,] 0.2306219 -0.6412549 0.2306219\n",
       "[2,] 1.0185384  4.0862442 1.0185384\n",
       "[3,] 0.2770504 -0.3626837 0.2770504\n",
       "[4,] 0.4987754  0.9676665 0.4987754"
      ]
     },
     "metadata": {},
     "output_type": "display_data"
    }
   ],
   "source": [
    "sylvester_o(M,t(N),C)"
   ]
  },
  {
   "cell_type": "code",
   "execution_count": 220,
   "metadata": {},
   "outputs": [
    {
     "data": {
      "text/html": [
       "<table>\n",
       "<tbody>\n",
       "\t<tr><td>0.2306219 </td><td>-0.6412549</td><td>0.2306219 </td></tr>\n",
       "\t<tr><td>1.0185384 </td><td> 4.0862442</td><td>1.0185384 </td></tr>\n",
       "\t<tr><td>0.2770504 </td><td>-0.3626837</td><td>0.2770504 </td></tr>\n",
       "\t<tr><td>0.4987754 </td><td> 0.9676665</td><td>0.4987754 </td></tr>\n",
       "</tbody>\n",
       "</table>\n"
      ],
      "text/latex": [
       "\\begin{tabular}{lll}\n",
       "\t 0.2306219  & -0.6412549 & 0.2306219 \\\\\n",
       "\t 1.0185384  &  4.0862442 & 1.0185384 \\\\\n",
       "\t 0.2770504  & -0.3626837 & 0.2770504 \\\\\n",
       "\t 0.4987754  &  0.9676665 & 0.4987754 \\\\\n",
       "\\end{tabular}\n"
      ],
      "text/markdown": [
       "\n",
       "| 0.2306219  | -0.6412549 | 0.2306219  | \n",
       "| 1.0185384  |  4.0862442 | 1.0185384  | \n",
       "| 0.2770504  | -0.3626837 | 0.2770504  | \n",
       "| 0.4987754  |  0.9676665 | 0.4987754  | \n",
       "\n",
       "\n"
      ],
      "text/plain": [
       "     [,1]      [,2]       [,3]     \n",
       "[1,] 0.2306219 -0.6412549 0.2306219\n",
       "[2,] 1.0185384  4.0862442 1.0185384\n",
       "[3,] 0.2770504 -0.3626837 0.2770504\n",
       "[4,] 0.4987754  0.9676665 0.4987754"
      ]
     },
     "metadata": {},
     "output_type": "display_data"
    }
   ],
   "source": [
    "sylvester_old(M,t(N),C)"
   ]
  },
  {
   "cell_type": "code",
   "execution_count": 34,
   "metadata": {},
   "outputs": [
    {
     "data": {
      "text/plain": [
       "Time difference of 1.953639 secs"
      ]
     },
     "metadata": {},
     "output_type": "display_data"
    }
   ],
   "source": [
    "t1 =Sys.time()\n",
    "res = sylvester_old(A,B,C)\n",
    "t2 =Sys.time()\n",
    "t2-t1"
   ]
  },
  {
   "cell_type": "code",
   "execution_count": 35,
   "metadata": {},
   "outputs": [
    {
     "data": {
      "text/plain": [
       "Time difference of 0.5704648 secs"
      ]
     },
     "metadata": {},
     "output_type": "display_data"
    }
   ],
   "source": [
    "t3 =Sys.time()\n",
    "res = sylvester(A,B,C)\n",
    "t4 =Sys.time()\n",
    "t4-t3"
   ]
  },
  {
   "cell_type": "markdown",
   "metadata": {},
   "source": [
    "### 3. update A"
   ]
  },
  {
   "cell_type": "code",
   "execution_count": 232,
   "metadata": {},
   "outputs": [],
   "source": [
    "alk = function(A,n,p){\n",
    "  count = 0\n",
    "  el1 = el2 = matrix(0,n,n*(n-1)/2)\n",
    "  for(i in 1:(n-1)){\n",
    "    el1[,(count+1):(count+i)] = diag(1,n,i)\n",
    "    temp = matrix(0,n,i)\n",
    "    temp[i,] = 1\n",
    "    el2[,(count+1):(count+i)] = temp\n",
    "    count = count+i\n",
    "  }\n",
    "  el2 = rbind(el2[n,],el2[1:(n-1),])\n",
    "  al1 = t(A) %*% el1; al2 = t(A) %*% el2\n",
    "  \n",
    "  # k\n",
    "  count = 0\n",
    "  ek1 = ek2 = matrix(0,p,p*(p-1)/2)\n",
    "  for(i in 1:(p-1)){\n",
    "    ek1[,(count+1):(count+i)] = diag(1,p,i)\n",
    "    temp = matrix(0,p,i)\n",
    "    temp[i+1,] = 1\n",
    "    ek2[,(count+1):(count+i)] = temp\n",
    "    count = count+i\n",
    "  }\n",
    "  ak1 = A %*% ek1; ak2 = A %*% ek2\n",
    "  return(list(al1 = al1, al2 = al2, ak1 = ak1, ak2 = ak2,\n",
    "              el1 = el1, el2 = el2, ek1 = ek1, ek2 = ek2))\n",
    "}"
   ]
  },
  {
   "cell_type": "code",
   "execution_count": 240,
   "metadata": {},
   "outputs": [],
   "source": [
    "X = matrix(1:12,4,3)\n",
    "n=dim(X)[1]; p=dim(X)[2]\n",
    "eplison_p=L_num(p)\n",
    "eplison_n=L_num(n)\n",
    "nu1=1; nu2=1\n",
    "lambda_1 = matrix(1,p,dim(eplison_n)[1])\n",
    "v = matrix(1,p,dim(eplison_n)[1])\n",
    "lambda_2 = matrix(1,n,dim(eplison_p)[1])\n",
    "z = matrix(1,n,dim(eplison_p)[1])\n",
    "\n",
    "library(MASS)\n",
    "library(Matrix)\n",
    "A= X\n",
    "n=dim(X)[1]; p=dim(X)[2]"
   ]
  },
  {
   "cell_type": "code",
   "execution_count": 246,
   "metadata": {},
   "outputs": [],
   "source": [
    "update_A_old = function(X, nu1, nu2, lambda_1, lambda_2, v, z){\n",
    "  library(MASS)\n",
    "  library(Matrix)\n",
    "  n=dim(X)[1]; p=dim(X)[2]\n",
    "  eplison_n=L_num(n)\n",
    "  eplison_p=L_num(p)\n",
    "  \n",
    "  En=matrix(0,n,n)\n",
    "  Ep=matrix(0,p,p)\n",
    "  \n",
    "  # calculate \\sum_{l \\in \\epsilon_1}(e_{l1} - e_{l_2})(e_{l1} - e_{l_2})^T, which is En\n",
    "  for(i in 1:dim(eplison_n)[1]){\n",
    "    l1=eplison_n[i,'l1']\n",
    "    l2=eplison_n[i,'l2']\n",
    "    el1=matrix(rep(0,n),n,1)\n",
    "    el2=matrix(rep(0,n),n,1)\n",
    "    el1[l1,1]=1;el2[l2,1]=1\n",
    "    En=En+(el1-el2) %*% t(el1-el2)\n",
    "  }\n",
    "  \n",
    "  # calculate \\sum_{k \\in \\epsilon_2} (e_{k1} - e_{k_2})(e_{k1} - e_{k_2})^T, which is Ep\n",
    "  for(i in 1:dim(eplison_p)[1]){\n",
    "    l1=eplison_p[i,'l1']\n",
    "    l2=eplison_p[i,'l2']\n",
    "    el1=matrix(rep(0,p),p,1)\n",
    "    el2=matrix(rep(0,p),p,1)\n",
    "    el1[l1,1]=1;el2[l2,1]=1\n",
    "    Ep=Ep+(el1-el2) %*% t(el1-el2)\n",
    "  }\n",
    "  \n",
    "  M = diag(1,n,n) + nu1 * En\n",
    "  \n",
    "  N = nu2 * Ep\n",
    "  t3 = Sys.time()\n",
    "  # C2 is the second part of C, which is \\sum_{l \\in \\epsilon_1} (e_{l1} - e_{l_2})(\\lambda_{l1} + \\nu_1 v_l)^T \n",
    "  C2 = matrix(0,n,p) \n",
    "  for(i in 1:dim(eplison_n)[1]){\n",
    "    l1=eplison_n[i,'l1']\n",
    "    l2=eplison_n[i,'l2']\n",
    "    el1=matrix(rep(0,n),n,1)\n",
    "    el2=matrix(rep(0,n),n,1)\n",
    "    el1[l1,1]=1;el2[l2,1]=1\n",
    "    C2 = C2 + (el1-el2) %*% t(lambda_1[,i]+ nu1 * v[,i])\n",
    "  }\n",
    "  t4= Sys.time()\n",
    "  # C3 is the third part of C, which is \\sum_{k \\in \\epsilon_2} (\\lambda_{k2} + \\nu_2 z_k)(e_{k1} - e_{k_2})^T\n",
    "  C3 = matrix(0,n,p)\n",
    "  for(i in 1:dim(eplison_p)[1]){\n",
    "    l1=eplison_p[i,'l1']\n",
    "    l2=eplison_p[i,'l2']\n",
    "    el1=matrix(rep(0,p),p,1)\n",
    "    el2=matrix(rep(0,p),p,1)\n",
    "    el1[l1,1]=1;el2[l2,1]=1\n",
    "    C3 = C3+(lambda_2[,i] + nu2 * z[,i]) %*% t(el1-el2)\n",
    "  }\n",
    "  \n",
    "  C = X +  C2 + C3  \n",
    "  \n",
    "  A = sylvester(M,t(N),C)\n",
    "  \n",
    "  return(A)\n",
    "}"
   ]
  },
  {
   "cell_type": "code",
   "execution_count": 247,
   "metadata": {},
   "outputs": [],
   "source": [
    "update_A = function(X, nu1, nu2, lambda_1, lambda_2, v, z,n,p){\n",
    "  En = diag(0:(n - 1)) + diag((n - 1):0) - matrix(1, n, n) + diag(1, n, n)\n",
    "  Ep = diag(0:(p - 1)) + diag((p - 1):0) - matrix(1, p, p) + diag(1, p, p)\n",
    "  \n",
    "  M = diag(1,n,n) + nu1 * En\n",
    "  \n",
    "  N = nu2 * Ep\n",
    "  \n",
    "  alk = alk(X,n,p)\n",
    "  \n",
    "  el1=alk$el1\n",
    "  el2=alk$el2\n",
    "  ek1=alk$ek1\n",
    "  ek2=alk$ek2\n",
    "  \n",
    "  lv = lambda_1+ nu1 * v\n",
    "  lz = lambda_2 + nu2 * z\n",
    "  C2 = 0 -(el2-el1) %*% t(lv)\n",
    "  C3 = lz %*% t(ek1-ek2)\n",
    "  C = X +  C2 + C3  \n",
    "  \n",
    "  A = sylvester(M,t(N),C)\n",
    "  return(A)\n",
    "}"
   ]
  },
  {
   "cell_type": "code",
   "execution_count": 248,
   "metadata": {},
   "outputs": [
    {
     "data": {
      "text/html": [
       "<table>\n",
       "<tbody>\n",
       "\t<tr><td>7.4</td><td>7.4</td><td>7.4</td></tr>\n",
       "\t<tr><td>6.8</td><td>6.8</td><td>6.8</td></tr>\n",
       "\t<tr><td>6.2</td><td>6.2</td><td>6.2</td></tr>\n",
       "\t<tr><td>5.6</td><td>5.6</td><td>5.6</td></tr>\n",
       "</tbody>\n",
       "</table>\n"
      ],
      "text/latex": [
       "\\begin{tabular}{lll}\n",
       "\t 7.4 & 7.4 & 7.4\\\\\n",
       "\t 6.8 & 6.8 & 6.8\\\\\n",
       "\t 6.2 & 6.2 & 6.2\\\\\n",
       "\t 5.6 & 5.6 & 5.6\\\\\n",
       "\\end{tabular}\n"
      ],
      "text/markdown": [
       "\n",
       "| 7.4 | 7.4 | 7.4 | \n",
       "| 6.8 | 6.8 | 6.8 | \n",
       "| 6.2 | 6.2 | 6.2 | \n",
       "| 5.6 | 5.6 | 5.6 | \n",
       "\n",
       "\n"
      ],
      "text/plain": [
       "     [,1] [,2] [,3]\n",
       "[1,] 7.4  7.4  7.4 \n",
       "[2,] 6.8  6.8  6.8 \n",
       "[3,] 6.2  6.2  6.2 \n",
       "[4,] 5.6  5.6  5.6 "
      ]
     },
     "metadata": {},
     "output_type": "display_data"
    }
   ],
   "source": [
    "update_A_old(X, nu1, nu2, lambda_1, lambda_2, v, z)"
   ]
  },
  {
   "cell_type": "code",
   "execution_count": 249,
   "metadata": {},
   "outputs": [
    {
     "data": {
      "text/html": [
       "<table>\n",
       "<tbody>\n",
       "\t<tr><td>7.4</td><td>7.4</td><td>7.4</td></tr>\n",
       "\t<tr><td>6.8</td><td>6.8</td><td>6.8</td></tr>\n",
       "\t<tr><td>6.2</td><td>6.2</td><td>6.2</td></tr>\n",
       "\t<tr><td>5.6</td><td>5.6</td><td>5.6</td></tr>\n",
       "</tbody>\n",
       "</table>\n"
      ],
      "text/latex": [
       "\\begin{tabular}{lll}\n",
       "\t 7.4 & 7.4 & 7.4\\\\\n",
       "\t 6.8 & 6.8 & 6.8\\\\\n",
       "\t 6.2 & 6.2 & 6.2\\\\\n",
       "\t 5.6 & 5.6 & 5.6\\\\\n",
       "\\end{tabular}\n"
      ],
      "text/markdown": [
       "\n",
       "| 7.4 | 7.4 | 7.4 | \n",
       "| 6.8 | 6.8 | 6.8 | \n",
       "| 6.2 | 6.2 | 6.2 | \n",
       "| 5.6 | 5.6 | 5.6 | \n",
       "\n",
       "\n"
      ],
      "text/plain": [
       "     [,1] [,2] [,3]\n",
       "[1,] 7.4  7.4  7.4 \n",
       "[2,] 6.8  6.8  6.8 \n",
       "[3,] 6.2  6.2  6.2 \n",
       "[4,] 5.6  5.6  5.6 "
      ]
     },
     "metadata": {},
     "output_type": "display_data"
    }
   ],
   "source": [
    "update_A(X, nu1, nu2, lambda_1, lambda_2, v, z,n,p)"
   ]
  },
  {
   "cell_type": "markdown",
   "metadata": {},
   "source": [
    "check time"
   ]
  },
  {
   "cell_type": "code",
   "execution_count": 250,
   "metadata": {},
   "outputs": [],
   "source": [
    "X = matrix(rnorm(40000),400,100)\n",
    "n=dim(X)[1]; p=dim(X)[2]\n",
    "eplison_p=L_num(p)\n",
    "eplison_n=L_num(n)\n",
    "nu1=1; nu2=1\n",
    "lambda_1 = matrix(1,p,dim(eplison_n)[1])\n",
    "v = matrix(1,p,dim(eplison_n)[1])\n",
    "lambda_2 = matrix(1,n,dim(eplison_p)[1])\n",
    "z = matrix(1,n,dim(eplison_p)[1])\n",
    "\n",
    "library(MASS)\n",
    "library(Matrix)\n",
    "A= X\n",
    "n=dim(X)[1]; p=dim(X)[2]"
   ]
  },
  {
   "cell_type": "code",
   "execution_count": 251,
   "metadata": {},
   "outputs": [
    {
     "data": {
      "text/plain": [
       "Time difference of 2.156838 mins"
      ]
     },
     "metadata": {},
     "output_type": "display_data"
    }
   ],
   "source": [
    "t1 = Sys.time()\n",
    "res1 = update_A_old(X, nu1, nu2, lambda_1, lambda_2, v, z)\n",
    "t2 = Sys.time()\n",
    "t2-t1"
   ]
  },
  {
   "cell_type": "code",
   "execution_count": 252,
   "metadata": {},
   "outputs": [
    {
     "data": {
      "text/plain": [
       "Time difference of 9.546415 secs"
      ]
     },
     "metadata": {},
     "output_type": "display_data"
    }
   ],
   "source": [
    "t3 = Sys.time()\n",
    "res2 = update_A(X, nu1, nu2, lambda_1, lambda_2, v, z,n,p)\n",
    "t4 = Sys.time()\n",
    "t4-t3"
   ]
  },
  {
   "cell_type": "code",
   "execution_count": null,
   "metadata": {},
   "outputs": [],
   "source": []
  },
  {
   "cell_type": "markdown",
   "metadata": {},
   "source": [
    "### 4. update v z "
   ]
  },
  {
   "cell_type": "code",
   "execution_count": 180,
   "metadata": {},
   "outputs": [],
   "source": [
    "gamma_1 = 0.5; gamma_2 = 0\n",
    "\n",
    "nu1 = 1; nu2 = 1; \n",
    "X = matrix(1:30,6,5)\n",
    "A = X\n",
    "n = dim(X)[1]; p = dim(X)[2]\n",
    "eplison_p = L_num(p)\n",
    "eplison_n = L_num(n)\n",
    "\n",
    "lambda_1 = matrix(1,p,dim(eplison_n)[1])\n",
    "v = matrix(1,p,dim(eplison_n)[1])\n",
    "lambda_2 = matrix(1,n,dim(eplison_p)[1])\n",
    "z = matrix(1,n,dim(eplison_p)[1])"
   ]
  },
  {
   "cell_type": "code",
   "execution_count": 153,
   "metadata": {},
   "outputs": [],
   "source": [
    "dist_weight <- function(X, phi){\n",
    "  dist_X <- as.numeric(dist(X))\n",
    "  return(exp(- phi * dist_X^2))\n",
    "}\n",
    "knn_weights <- function(w,k,n) {\n",
    "  i <- 1\n",
    "  neighbors <- tri2vec(i,(i+1):n,n)\n",
    "  keep <- neighbors[sort(w[neighbors],decreasing=TRUE,index.return=TRUE)$ix[1:k]]\n",
    "  for (i in 2:(n-1)) {\n",
    "    group_A <- tri2vec(i,(i+1):n,n)\n",
    "    group_B <- tri2vec(1:(i-1),i,n)\n",
    "    neighbors <- c(group_A,group_B)\n",
    "    knn <- neighbors[sort(w[neighbors],decreasing=TRUE,index.return=TRUE)$ix[1:k]]\n",
    "    keep <- union(knn,keep)\n",
    "  }\n",
    "  i <- n\n",
    "  neighbors <- tri2vec(1:(i-1),i,n)\n",
    "  knn <- neighbors[sort(w[neighbors],decreasing=TRUE,index.return=TRUE)$ix[1:k]]\n",
    "  keep <- union(knn,keep)\n",
    "  w[-keep] <- 0\n",
    "  return(w)\n",
    "}\n",
    "\n",
    "tri2vec <- function(i,j,n) {\n",
    "  return(n*(i-1) - i*(i-1)/2 + j -i)\n",
    "}\n",
    "\n",
    "prox = function(v,sigma){\n",
    "  return(max(1-sigma/sum(t(v) %*% v),0) * v)\n",
    "}"
   ]
  },
  {
   "cell_type": "markdown",
   "metadata": {},
   "source": [
    "old"
   ]
  },
  {
   "cell_type": "code",
   "execution_count": 164,
   "metadata": {},
   "outputs": [],
   "source": [
    "update_vz_old = function(X, A, lambda_1, lambda_2, gamma_1, gamma_2, nu1, nu2){\n",
    "  \n",
    "  n=dim(X)[1]; p=dim(X)[2]\n",
    "  eplison_n=L_num(n)\n",
    "  eplison_p=L_num(p)\n",
    " \n",
    "  w <- dist_weight(X / sqrt(p),phi = 0.5)\n",
    "  w_l <- knn_weights(w,k = 1,n)\n",
    "  \n",
    "  u = dist_weight(t(X) / sqrt(n),phi = 0.5)\n",
    "  u_k <- knn_weights(u,k = 1,p)\n",
    "  \n",
    "  for(i in 1:dim(eplison_n)[1]){\n",
    "    l1=eplison_n[i,'l1']\n",
    "    l2=eplison_n[i,'l2']\n",
    "    a_l1 = A[l1,]; a_l2 = A[l2,]\n",
    "    v_temp = a_l1 - a_l2 - 1/nu1 * lambda_1[,i]\n",
    "    sigma_1l = gamma_1 * w_l[i]/nu1\n",
    "    v[,i] = prox(v_temp,sigma_1l)\n",
    "  }\n",
    "  \n",
    "  for(i in 1:dim(eplison_p)[1]){\n",
    "    l1=eplison_p[i,'l1']\n",
    "    l2=eplison_p[i,'l2']\n",
    "    a_l1 = A[,l1]; a_l2 = A[,l2]\n",
    "    v_temp = a_l1 - a_l2 - 1/nu2 * lambda_2[,i]\n",
    "    #u_k = exp(-0.5 * (t(X[,l1] - X[,l2]) %*% (X[,l1] - X[,l2])))\n",
    "    sigma_2k = gamma_2 * u_k[i]/nu2\n",
    "    z[,i] = prox(v_temp,sigma_2k)\n",
    "  }\n",
    "  \n",
    "  return(list(v = v, z = z))\n",
    "}"
   ]
  },
  {
   "cell_type": "code",
   "execution_count": 165,
   "metadata": {},
   "outputs": [
    {
     "data": {
      "text/html": [
       "<dl>\n",
       "\t<dt>$v</dt>\n",
       "\t\t<dd><table>\n",
       "<tbody>\n",
       "\t<tr><td>-1.969673</td><td>-3       </td><td>-2       </td><td>-4       </td><td>-3       </td><td>-1.969673</td><td>-5       </td><td>-4       </td><td>-3       </td><td>-2       </td><td>-6       </td><td>-5       </td><td>-3.984837</td><td>-3       </td><td>-1.969673</td></tr>\n",
       "\t<tr><td>-1.969673</td><td>-3       </td><td>-2       </td><td>-4       </td><td>-3       </td><td>-1.969673</td><td>-5       </td><td>-4       </td><td>-3       </td><td>-2       </td><td>-6       </td><td>-5       </td><td>-3.984837</td><td>-3       </td><td>-1.969673</td></tr>\n",
       "\t<tr><td>-1.969673</td><td>-3       </td><td>-2       </td><td>-4       </td><td>-3       </td><td>-1.969673</td><td>-5       </td><td>-4       </td><td>-3       </td><td>-2       </td><td>-6       </td><td>-5       </td><td>-3.984837</td><td>-3       </td><td>-1.969673</td></tr>\n",
       "\t<tr><td>-1.969673</td><td>-3       </td><td>-2       </td><td>-4       </td><td>-3       </td><td>-1.969673</td><td>-5       </td><td>-4       </td><td>-3       </td><td>-2       </td><td>-6       </td><td>-5       </td><td>-3.984837</td><td>-3       </td><td>-1.969673</td></tr>\n",
       "\t<tr><td>-1.969673</td><td>-3       </td><td>-2       </td><td>-4       </td><td>-3       </td><td>-1.969673</td><td>-5       </td><td>-4       </td><td>-3       </td><td>-2       </td><td>-6       </td><td>-5       </td><td>-3.984837</td><td>-3       </td><td>-1.969673</td></tr>\n",
       "</tbody>\n",
       "</table>\n",
       "</dd>\n",
       "\t<dt>$z</dt>\n",
       "\t\t<dd><table>\n",
       "<tbody>\n",
       "\t<tr><td>-7 </td><td>-13</td><td>-7 </td><td>-19</td><td>-13</td><td>-7 </td><td>-25</td><td>-19</td><td>-13</td><td>-7 </td></tr>\n",
       "\t<tr><td>-7 </td><td>-13</td><td>-7 </td><td>-19</td><td>-13</td><td>-7 </td><td>-25</td><td>-19</td><td>-13</td><td>-7 </td></tr>\n",
       "\t<tr><td>-7 </td><td>-13</td><td>-7 </td><td>-19</td><td>-13</td><td>-7 </td><td>-25</td><td>-19</td><td>-13</td><td>-7 </td></tr>\n",
       "\t<tr><td>-7 </td><td>-13</td><td>-7 </td><td>-19</td><td>-13</td><td>-7 </td><td>-25</td><td>-19</td><td>-13</td><td>-7 </td></tr>\n",
       "\t<tr><td>-7 </td><td>-13</td><td>-7 </td><td>-19</td><td>-13</td><td>-7 </td><td>-25</td><td>-19</td><td>-13</td><td>-7 </td></tr>\n",
       "\t<tr><td>-7 </td><td>-13</td><td>-7 </td><td>-19</td><td>-13</td><td>-7 </td><td>-25</td><td>-19</td><td>-13</td><td>-7 </td></tr>\n",
       "</tbody>\n",
       "</table>\n",
       "</dd>\n",
       "</dl>\n"
      ],
      "text/latex": [
       "\\begin{description}\n",
       "\\item[\\$v] \\begin{tabular}{lllllllllllllll}\n",
       "\t -1.969673 & -3        & -2        & -4        & -3        & -1.969673 & -5        & -4        & -3        & -2        & -6        & -5        & -3.984837 & -3        & -1.969673\\\\\n",
       "\t -1.969673 & -3        & -2        & -4        & -3        & -1.969673 & -5        & -4        & -3        & -2        & -6        & -5        & -3.984837 & -3        & -1.969673\\\\\n",
       "\t -1.969673 & -3        & -2        & -4        & -3        & -1.969673 & -5        & -4        & -3        & -2        & -6        & -5        & -3.984837 & -3        & -1.969673\\\\\n",
       "\t -1.969673 & -3        & -2        & -4        & -3        & -1.969673 & -5        & -4        & -3        & -2        & -6        & -5        & -3.984837 & -3        & -1.969673\\\\\n",
       "\t -1.969673 & -3        & -2        & -4        & -3        & -1.969673 & -5        & -4        & -3        & -2        & -6        & -5        & -3.984837 & -3        & -1.969673\\\\\n",
       "\\end{tabular}\n",
       "\n",
       "\\item[\\$z] \\begin{tabular}{llllllllll}\n",
       "\t -7  & -13 & -7  & -19 & -13 & -7  & -25 & -19 & -13 & -7 \\\\\n",
       "\t -7  & -13 & -7  & -19 & -13 & -7  & -25 & -19 & -13 & -7 \\\\\n",
       "\t -7  & -13 & -7  & -19 & -13 & -7  & -25 & -19 & -13 & -7 \\\\\n",
       "\t -7  & -13 & -7  & -19 & -13 & -7  & -25 & -19 & -13 & -7 \\\\\n",
       "\t -7  & -13 & -7  & -19 & -13 & -7  & -25 & -19 & -13 & -7 \\\\\n",
       "\t -7  & -13 & -7  & -19 & -13 & -7  & -25 & -19 & -13 & -7 \\\\\n",
       "\\end{tabular}\n",
       "\n",
       "\\end{description}\n"
      ],
      "text/markdown": [
       "$v\n",
       ":   \n",
       "| -1.969673 | -3        | -2        | -4        | -3        | -1.969673 | -5        | -4        | -3        | -2        | -6        | -5        | -3.984837 | -3        | -1.969673 | \n",
       "| -1.969673 | -3        | -2        | -4        | -3        | -1.969673 | -5        | -4        | -3        | -2        | -6        | -5        | -3.984837 | -3        | -1.969673 | \n",
       "| -1.969673 | -3        | -2        | -4        | -3        | -1.969673 | -5        | -4        | -3        | -2        | -6        | -5        | -3.984837 | -3        | -1.969673 | \n",
       "| -1.969673 | -3        | -2        | -4        | -3        | -1.969673 | -5        | -4        | -3        | -2        | -6        | -5        | -3.984837 | -3        | -1.969673 | \n",
       "| -1.969673 | -3        | -2        | -4        | -3        | -1.969673 | -5        | -4        | -3        | -2        | -6        | -5        | -3.984837 | -3        | -1.969673 | \n",
       "\n",
       "\n",
       "\n",
       "$z\n",
       ":   \n",
       "| -7  | -13 | -7  | -19 | -13 | -7  | -25 | -19 | -13 | -7  | \n",
       "| -7  | -13 | -7  | -19 | -13 | -7  | -25 | -19 | -13 | -7  | \n",
       "| -7  | -13 | -7  | -19 | -13 | -7  | -25 | -19 | -13 | -7  | \n",
       "| -7  | -13 | -7  | -19 | -13 | -7  | -25 | -19 | -13 | -7  | \n",
       "| -7  | -13 | -7  | -19 | -13 | -7  | -25 | -19 | -13 | -7  | \n",
       "| -7  | -13 | -7  | -19 | -13 | -7  | -25 | -19 | -13 | -7  | \n",
       "\n",
       "\n",
       "\n",
       "\n",
       "\n"
      ],
      "text/plain": [
       "$v\n",
       "          [,1] [,2] [,3] [,4] [,5]      [,6] [,7] [,8] [,9] [,10] [,11] [,12]\n",
       "[1,] -1.969673   -3   -2   -4   -3 -1.969673   -5   -4   -3    -2    -6    -5\n",
       "[2,] -1.969673   -3   -2   -4   -3 -1.969673   -5   -4   -3    -2    -6    -5\n",
       "[3,] -1.969673   -3   -2   -4   -3 -1.969673   -5   -4   -3    -2    -6    -5\n",
       "[4,] -1.969673   -3   -2   -4   -3 -1.969673   -5   -4   -3    -2    -6    -5\n",
       "[5,] -1.969673   -3   -2   -4   -3 -1.969673   -5   -4   -3    -2    -6    -5\n",
       "         [,13] [,14]     [,15]\n",
       "[1,] -3.984837    -3 -1.969673\n",
       "[2,] -3.984837    -3 -1.969673\n",
       "[3,] -3.984837    -3 -1.969673\n",
       "[4,] -3.984837    -3 -1.969673\n",
       "[5,] -3.984837    -3 -1.969673\n",
       "\n",
       "$z\n",
       "     [,1] [,2] [,3] [,4] [,5] [,6] [,7] [,8] [,9] [,10]\n",
       "[1,]   -7  -13   -7  -19  -13   -7  -25  -19  -13    -7\n",
       "[2,]   -7  -13   -7  -19  -13   -7  -25  -19  -13    -7\n",
       "[3,]   -7  -13   -7  -19  -13   -7  -25  -19  -13    -7\n",
       "[4,]   -7  -13   -7  -19  -13   -7  -25  -19  -13    -7\n",
       "[5,]   -7  -13   -7  -19  -13   -7  -25  -19  -13    -7\n",
       "[6,]   -7  -13   -7  -19  -13   -7  -25  -19  -13    -7\n"
      ]
     },
     "metadata": {},
     "output_type": "display_data"
    }
   ],
   "source": [
    "update_vz_old(X, A, lambda_1, lambda_2, gamma_1, gamma_2, nu1, nu2)"
   ]
  },
  {
   "cell_type": "code",
   "execution_count": null,
   "metadata": {},
   "outputs": [],
   "source": []
  },
  {
   "cell_type": "code",
   "execution_count": null,
   "metadata": {},
   "outputs": [],
   "source": []
  },
  {
   "cell_type": "markdown",
   "metadata": {},
   "source": [
    "To update v,z,lambda: calculate al1,al2,ak1,ak2 once may save time"
   ]
  },
  {
   "cell_type": "markdown",
   "metadata": {},
   "source": [
    "$a_{l1}, a_{l2}$"
   ]
  },
  {
   "cell_type": "code",
   "execution_count": 171,
   "metadata": {},
   "outputs": [],
   "source": [
    "alk = function(A,n,p){\n",
    "  count = 0\n",
    "  al1 = al2 = matrix(0,n,n*(n-1)/2)\n",
    "  for(i in 1:(n-1)){\n",
    "    al1[,(count+1):(count+i)] = diag(1,n,i)\n",
    "    temp = matrix(0,n,i)\n",
    "    temp[i,] = 1\n",
    "    al2[,(count+1):(count+i)] = temp\n",
    "    count = count+i\n",
    "  }\n",
    "  al2 = rbind(al2[n,],al2[1:(n-1),])\n",
    "  al1 = t(A) %*% al1; al2 = t(A) %*% al2\n",
    "  \n",
    "  # k\n",
    "  count = 0\n",
    "  ak1 = ak2 = matrix(0,p,p*(p-1)/2)\n",
    "  for(i in 1:(p-1)){\n",
    "    ak1[,(count+1):(count+i)] = diag(1,p,i)\n",
    "    temp = matrix(0,p,i)\n",
    "    temp[i+1,] = 1\n",
    "    ak2[,(count+1):(count+i)] = temp\n",
    "    count = count+i\n",
    "  }\n",
    "  ak1 = A %*% ak1; ak2 = A %*% ak2\n",
    "  return(list(al1 = al1, al2 = al2, ak1 = ak1, ak2 = ak2))\n",
    "}"
   ]
  },
  {
   "cell_type": "code",
   "execution_count": 154,
   "metadata": {},
   "outputs": [],
   "source": [
    "count = 0\n",
    "al1 = al2 = matrix(0,n,n*(n-1)/2)\n",
    "for(i in 1:(n-1)){\n",
    "  al1[,(count+1):(count+i)] = diag(1,n,i)\n",
    "  temp = matrix(0,n,i)\n",
    "  temp[i,] = 1\n",
    "  al2[,(count+1):(count+i)] = temp\n",
    "  count = count+i\n",
    "}\n",
    "al2 = rbind(al2[n,],al2[1:(n-1),])\n",
    "al1 = t(A) %*% al1; al2 = t(A) %*% al2"
   ]
  },
  {
   "cell_type": "markdown",
   "metadata": {},
   "source": [
    "$a_{k1}, a_{k2}$"
   ]
  },
  {
   "cell_type": "code",
   "execution_count": 155,
   "metadata": {},
   "outputs": [],
   "source": [
    "# k\n",
    "count = 0\n",
    "ak1 = ak2 = matrix(0,p,p*(p-1)/2)\n",
    "for(i in 1:(p-1)){\n",
    "  ak1[,(count+1):(count+i)] = diag(1,p,i)\n",
    "  temp = matrix(0,p,i)\n",
    "  temp[i+1,] = 1\n",
    "  ak2[,(count+1):(count+i)] = temp\n",
    "  count = count+i\n",
    "}\n",
    "ak1 = A %*% ak1; ak2 = A %*% ak2"
   ]
  },
  {
   "cell_type": "code",
   "execution_count": null,
   "metadata": {},
   "outputs": [],
   "source": []
  },
  {
   "cell_type": "code",
   "execution_count": 156,
   "metadata": {},
   "outputs": [],
   "source": [
    "n=dim(X)[1]; p=dim(X)[2]\n",
    "eplison_n=L_num(n)\n",
    "eplison_p=L_num(p)\n",
    "\n",
    "w = dist_weight(X / sqrt(p),phi = 0.5)\n",
    "w_l = knn_weights(w,k = 1,n)\n",
    "u = dist_weight(t(X) / sqrt(n),phi = 0.5)\n",
    "u_k = knn_weights(u,k = 1,p)\n",
    "\n",
    "sigma_1 = gamma_1 * w_l/nu1\n",
    "vtemp = al1 - al2 - 1/nu1 * lambda_1\n",
    "\n",
    "temp1 = ifelse((1 - sigma_1/apply(vtemp^2,2,sum)) < 0, 0,1 - sigma_1/apply(vtemp^2,2,sum))\n",
    "temp2 = matrix(temp1,dim(vtemp)[1],dim(vtemp)[2], byrow = TRUE) * vtemp \n",
    "\n",
    "v = temp2\n",
    "\n",
    "ztemp = ak1 - ak2 - 1/nu2 * lambda_2\n",
    "sigma_2 = gamma_2 * u_k/nu2\n",
    "\n",
    "temp3 = ifelse((1 - sigma_2/apply(ztemp^2,2,sum)) < 0, 0,1 - sigma_2/apply(ztemp^2,2,sum))\n",
    "temp4 = matrix(temp3,dim(ztemp)[1],dim(ztemp)[2], byrow = TRUE) * ztemp \n",
    "\n",
    "z = temp4"
   ]
  },
  {
   "cell_type": "code",
   "execution_count": 157,
   "metadata": {},
   "outputs": [
    {
     "data": {
      "text/html": [
       "<table>\n",
       "<tbody>\n",
       "\t<tr><td>-1.969673</td><td>-3       </td><td>-2       </td><td>-4       </td><td>-3       </td><td>-1.969673</td><td>-5       </td><td>-4       </td><td>-3       </td><td>-2       </td><td>-6       </td><td>-5       </td><td>-3.984837</td><td>-3       </td><td>-1.969673</td></tr>\n",
       "\t<tr><td>-1.969673</td><td>-3       </td><td>-2       </td><td>-4       </td><td>-3       </td><td>-1.969673</td><td>-5       </td><td>-4       </td><td>-3       </td><td>-2       </td><td>-6       </td><td>-5       </td><td>-3.984837</td><td>-3       </td><td>-1.969673</td></tr>\n",
       "\t<tr><td>-1.969673</td><td>-3       </td><td>-2       </td><td>-4       </td><td>-3       </td><td>-1.969673</td><td>-5       </td><td>-4       </td><td>-3       </td><td>-2       </td><td>-6       </td><td>-5       </td><td>-3.984837</td><td>-3       </td><td>-1.969673</td></tr>\n",
       "\t<tr><td>-1.969673</td><td>-3       </td><td>-2       </td><td>-4       </td><td>-3       </td><td>-1.969673</td><td>-5       </td><td>-4       </td><td>-3       </td><td>-2       </td><td>-6       </td><td>-5       </td><td>-3.984837</td><td>-3       </td><td>-1.969673</td></tr>\n",
       "\t<tr><td>-1.969673</td><td>-3       </td><td>-2       </td><td>-4       </td><td>-3       </td><td>-1.969673</td><td>-5       </td><td>-4       </td><td>-3       </td><td>-2       </td><td>-6       </td><td>-5       </td><td>-3.984837</td><td>-3       </td><td>-1.969673</td></tr>\n",
       "</tbody>\n",
       "</table>\n"
      ],
      "text/latex": [
       "\\begin{tabular}{lllllllllllllll}\n",
       "\t -1.969673 & -3        & -2        & -4        & -3        & -1.969673 & -5        & -4        & -3        & -2        & -6        & -5        & -3.984837 & -3        & -1.969673\\\\\n",
       "\t -1.969673 & -3        & -2        & -4        & -3        & -1.969673 & -5        & -4        & -3        & -2        & -6        & -5        & -3.984837 & -3        & -1.969673\\\\\n",
       "\t -1.969673 & -3        & -2        & -4        & -3        & -1.969673 & -5        & -4        & -3        & -2        & -6        & -5        & -3.984837 & -3        & -1.969673\\\\\n",
       "\t -1.969673 & -3        & -2        & -4        & -3        & -1.969673 & -5        & -4        & -3        & -2        & -6        & -5        & -3.984837 & -3        & -1.969673\\\\\n",
       "\t -1.969673 & -3        & -2        & -4        & -3        & -1.969673 & -5        & -4        & -3        & -2        & -6        & -5        & -3.984837 & -3        & -1.969673\\\\\n",
       "\\end{tabular}\n"
      ],
      "text/markdown": [
       "\n",
       "| -1.969673 | -3        | -2        | -4        | -3        | -1.969673 | -5        | -4        | -3        | -2        | -6        | -5        | -3.984837 | -3        | -1.969673 | \n",
       "| -1.969673 | -3        | -2        | -4        | -3        | -1.969673 | -5        | -4        | -3        | -2        | -6        | -5        | -3.984837 | -3        | -1.969673 | \n",
       "| -1.969673 | -3        | -2        | -4        | -3        | -1.969673 | -5        | -4        | -3        | -2        | -6        | -5        | -3.984837 | -3        | -1.969673 | \n",
       "| -1.969673 | -3        | -2        | -4        | -3        | -1.969673 | -5        | -4        | -3        | -2        | -6        | -5        | -3.984837 | -3        | -1.969673 | \n",
       "| -1.969673 | -3        | -2        | -4        | -3        | -1.969673 | -5        | -4        | -3        | -2        | -6        | -5        | -3.984837 | -3        | -1.969673 | \n",
       "\n",
       "\n"
      ],
      "text/plain": [
       "     [,1]      [,2] [,3] [,4] [,5] [,6]      [,7] [,8] [,9] [,10] [,11] [,12]\n",
       "[1,] -1.969673 -3   -2   -4   -3   -1.969673 -5   -4   -3   -2    -6    -5   \n",
       "[2,] -1.969673 -3   -2   -4   -3   -1.969673 -5   -4   -3   -2    -6    -5   \n",
       "[3,] -1.969673 -3   -2   -4   -3   -1.969673 -5   -4   -3   -2    -6    -5   \n",
       "[4,] -1.969673 -3   -2   -4   -3   -1.969673 -5   -4   -3   -2    -6    -5   \n",
       "[5,] -1.969673 -3   -2   -4   -3   -1.969673 -5   -4   -3   -2    -6    -5   \n",
       "     [,13]     [,14] [,15]    \n",
       "[1,] -3.984837 -3    -1.969673\n",
       "[2,] -3.984837 -3    -1.969673\n",
       "[3,] -3.984837 -3    -1.969673\n",
       "[4,] -3.984837 -3    -1.969673\n",
       "[5,] -3.984837 -3    -1.969673"
      ]
     },
     "metadata": {},
     "output_type": "display_data"
    }
   ],
   "source": [
    "v"
   ]
  },
  {
   "cell_type": "code",
   "execution_count": 158,
   "metadata": {},
   "outputs": [
    {
     "data": {
      "text/html": [
       "<table>\n",
       "<tbody>\n",
       "\t<tr><td>-7 </td><td>-13</td><td>-7 </td><td>-19</td><td>-13</td><td>-7 </td><td>-25</td><td>-19</td><td>-13</td><td>-7 </td></tr>\n",
       "\t<tr><td>-7 </td><td>-13</td><td>-7 </td><td>-19</td><td>-13</td><td>-7 </td><td>-25</td><td>-19</td><td>-13</td><td>-7 </td></tr>\n",
       "\t<tr><td>-7 </td><td>-13</td><td>-7 </td><td>-19</td><td>-13</td><td>-7 </td><td>-25</td><td>-19</td><td>-13</td><td>-7 </td></tr>\n",
       "\t<tr><td>-7 </td><td>-13</td><td>-7 </td><td>-19</td><td>-13</td><td>-7 </td><td>-25</td><td>-19</td><td>-13</td><td>-7 </td></tr>\n",
       "\t<tr><td>-7 </td><td>-13</td><td>-7 </td><td>-19</td><td>-13</td><td>-7 </td><td>-25</td><td>-19</td><td>-13</td><td>-7 </td></tr>\n",
       "\t<tr><td>-7 </td><td>-13</td><td>-7 </td><td>-19</td><td>-13</td><td>-7 </td><td>-25</td><td>-19</td><td>-13</td><td>-7 </td></tr>\n",
       "</tbody>\n",
       "</table>\n"
      ],
      "text/latex": [
       "\\begin{tabular}{llllllllll}\n",
       "\t -7  & -13 & -7  & -19 & -13 & -7  & -25 & -19 & -13 & -7 \\\\\n",
       "\t -7  & -13 & -7  & -19 & -13 & -7  & -25 & -19 & -13 & -7 \\\\\n",
       "\t -7  & -13 & -7  & -19 & -13 & -7  & -25 & -19 & -13 & -7 \\\\\n",
       "\t -7  & -13 & -7  & -19 & -13 & -7  & -25 & -19 & -13 & -7 \\\\\n",
       "\t -7  & -13 & -7  & -19 & -13 & -7  & -25 & -19 & -13 & -7 \\\\\n",
       "\t -7  & -13 & -7  & -19 & -13 & -7  & -25 & -19 & -13 & -7 \\\\\n",
       "\\end{tabular}\n"
      ],
      "text/markdown": [
       "\n",
       "| -7  | -13 | -7  | -19 | -13 | -7  | -25 | -19 | -13 | -7  | \n",
       "| -7  | -13 | -7  | -19 | -13 | -7  | -25 | -19 | -13 | -7  | \n",
       "| -7  | -13 | -7  | -19 | -13 | -7  | -25 | -19 | -13 | -7  | \n",
       "| -7  | -13 | -7  | -19 | -13 | -7  | -25 | -19 | -13 | -7  | \n",
       "| -7  | -13 | -7  | -19 | -13 | -7  | -25 | -19 | -13 | -7  | \n",
       "| -7  | -13 | -7  | -19 | -13 | -7  | -25 | -19 | -13 | -7  | \n",
       "\n",
       "\n"
      ],
      "text/plain": [
       "     [,1] [,2] [,3] [,4] [,5] [,6] [,7] [,8] [,9] [,10]\n",
       "[1,] -7   -13  -7   -19  -13  -7   -25  -19  -13  -7   \n",
       "[2,] -7   -13  -7   -19  -13  -7   -25  -19  -13  -7   \n",
       "[3,] -7   -13  -7   -19  -13  -7   -25  -19  -13  -7   \n",
       "[4,] -7   -13  -7   -19  -13  -7   -25  -19  -13  -7   \n",
       "[5,] -7   -13  -7   -19  -13  -7   -25  -19  -13  -7   \n",
       "[6,] -7   -13  -7   -19  -13  -7   -25  -19  -13  -7   "
      ]
     },
     "metadata": {},
     "output_type": "display_data"
    }
   ],
   "source": [
    "z"
   ]
  },
  {
   "cell_type": "markdown",
   "metadata": {},
   "source": [
    "new "
   ]
  },
  {
   "cell_type": "code",
   "execution_count": 181,
   "metadata": {},
   "outputs": [],
   "source": [
    "alk_value = alk(A,n,p)\n",
    "al1 = alk_value$al1\n",
    "al2 = alk_value$al2\n",
    "\n",
    "ak1 = alk_value$ak1\n",
    "ak2 = alk_value$ak2"
   ]
  },
  {
   "cell_type": "code",
   "execution_count": 182,
   "metadata": {},
   "outputs": [],
   "source": [
    "update_vz = function(X, A, lambda_1, lambda_2, gamma_1, gamma_2, nu1, nu2,n,p,eplison_n,eplison_p){\n",
    "  w = dist_weight(X / sqrt(p),phi = 0.5)\n",
    "  w_l = knn_weights(w,k = 1,n)\n",
    "  u = dist_weight(t(X) / sqrt(n),phi = 0.5)\n",
    "  u_k = knn_weights(u,k = 1,p)\n",
    "  \n",
    "    \n",
    "  sigma_1 = gamma_1 * w_l/nu1\n",
    "  vtemp = al1 - al2 - 1/nu1 * lambda_1\n",
    "  \n",
    "  temp1 = ifelse((1 - sigma_1/apply(vtemp^2,2,sum)) < 0, 0,1 - sigma_1/apply(vtemp^2,2,sum))\n",
    "  temp2 = matrix(temp1,dim(vtemp)[1],dim(vtemp)[2], byrow = TRUE) * vtemp \n",
    "  \n",
    "  v = temp2\n",
    "  \n",
    "  ztemp = ak1 - ak2 - 1/nu2 * lambda_2\n",
    "  sigma_2 = gamma_2 * u_k/nu2\n",
    "  \n",
    "  temp3 = ifelse((1 - sigma_2/apply(ztemp^2,2,sum)) < 0, 0,1 - sigma_2/apply(ztemp^2,2,sum))\n",
    "  temp4 = matrix(temp3,dim(ztemp)[1],dim(ztemp)[2], byrow = TRUE) * ztemp \n",
    "  \n",
    "  z = temp4\n",
    "  return(list(v=v,z=z))\n",
    "}"
   ]
  },
  {
   "cell_type": "code",
   "execution_count": 183,
   "metadata": {},
   "outputs": [
    {
     "data": {
      "text/html": [
       "<dl>\n",
       "\t<dt>$v</dt>\n",
       "\t\t<dd><table>\n",
       "<tbody>\n",
       "\t<tr><td>-1.969673</td><td>-3       </td><td>-2       </td><td>-4       </td><td>-3       </td><td>-1.969673</td><td>-5       </td><td>-4       </td><td>-3       </td><td>-2       </td><td>-6       </td><td>-5       </td><td>-3.984837</td><td>-3       </td><td>-1.969673</td></tr>\n",
       "\t<tr><td>-1.969673</td><td>-3       </td><td>-2       </td><td>-4       </td><td>-3       </td><td>-1.969673</td><td>-5       </td><td>-4       </td><td>-3       </td><td>-2       </td><td>-6       </td><td>-5       </td><td>-3.984837</td><td>-3       </td><td>-1.969673</td></tr>\n",
       "\t<tr><td>-1.969673</td><td>-3       </td><td>-2       </td><td>-4       </td><td>-3       </td><td>-1.969673</td><td>-5       </td><td>-4       </td><td>-3       </td><td>-2       </td><td>-6       </td><td>-5       </td><td>-3.984837</td><td>-3       </td><td>-1.969673</td></tr>\n",
       "\t<tr><td>-1.969673</td><td>-3       </td><td>-2       </td><td>-4       </td><td>-3       </td><td>-1.969673</td><td>-5       </td><td>-4       </td><td>-3       </td><td>-2       </td><td>-6       </td><td>-5       </td><td>-3.984837</td><td>-3       </td><td>-1.969673</td></tr>\n",
       "\t<tr><td>-1.969673</td><td>-3       </td><td>-2       </td><td>-4       </td><td>-3       </td><td>-1.969673</td><td>-5       </td><td>-4       </td><td>-3       </td><td>-2       </td><td>-6       </td><td>-5       </td><td>-3.984837</td><td>-3       </td><td>-1.969673</td></tr>\n",
       "</tbody>\n",
       "</table>\n",
       "</dd>\n",
       "\t<dt>$z</dt>\n",
       "\t\t<dd><table>\n",
       "<tbody>\n",
       "\t<tr><td>-7 </td><td>-13</td><td>-7 </td><td>-19</td><td>-13</td><td>-7 </td><td>-25</td><td>-19</td><td>-13</td><td>-7 </td></tr>\n",
       "\t<tr><td>-7 </td><td>-13</td><td>-7 </td><td>-19</td><td>-13</td><td>-7 </td><td>-25</td><td>-19</td><td>-13</td><td>-7 </td></tr>\n",
       "\t<tr><td>-7 </td><td>-13</td><td>-7 </td><td>-19</td><td>-13</td><td>-7 </td><td>-25</td><td>-19</td><td>-13</td><td>-7 </td></tr>\n",
       "\t<tr><td>-7 </td><td>-13</td><td>-7 </td><td>-19</td><td>-13</td><td>-7 </td><td>-25</td><td>-19</td><td>-13</td><td>-7 </td></tr>\n",
       "\t<tr><td>-7 </td><td>-13</td><td>-7 </td><td>-19</td><td>-13</td><td>-7 </td><td>-25</td><td>-19</td><td>-13</td><td>-7 </td></tr>\n",
       "\t<tr><td>-7 </td><td>-13</td><td>-7 </td><td>-19</td><td>-13</td><td>-7 </td><td>-25</td><td>-19</td><td>-13</td><td>-7 </td></tr>\n",
       "</tbody>\n",
       "</table>\n",
       "</dd>\n",
       "</dl>\n"
      ],
      "text/latex": [
       "\\begin{description}\n",
       "\\item[\\$v] \\begin{tabular}{lllllllllllllll}\n",
       "\t -1.969673 & -3        & -2        & -4        & -3        & -1.969673 & -5        & -4        & -3        & -2        & -6        & -5        & -3.984837 & -3        & -1.969673\\\\\n",
       "\t -1.969673 & -3        & -2        & -4        & -3        & -1.969673 & -5        & -4        & -3        & -2        & -6        & -5        & -3.984837 & -3        & -1.969673\\\\\n",
       "\t -1.969673 & -3        & -2        & -4        & -3        & -1.969673 & -5        & -4        & -3        & -2        & -6        & -5        & -3.984837 & -3        & -1.969673\\\\\n",
       "\t -1.969673 & -3        & -2        & -4        & -3        & -1.969673 & -5        & -4        & -3        & -2        & -6        & -5        & -3.984837 & -3        & -1.969673\\\\\n",
       "\t -1.969673 & -3        & -2        & -4        & -3        & -1.969673 & -5        & -4        & -3        & -2        & -6        & -5        & -3.984837 & -3        & -1.969673\\\\\n",
       "\\end{tabular}\n",
       "\n",
       "\\item[\\$z] \\begin{tabular}{llllllllll}\n",
       "\t -7  & -13 & -7  & -19 & -13 & -7  & -25 & -19 & -13 & -7 \\\\\n",
       "\t -7  & -13 & -7  & -19 & -13 & -7  & -25 & -19 & -13 & -7 \\\\\n",
       "\t -7  & -13 & -7  & -19 & -13 & -7  & -25 & -19 & -13 & -7 \\\\\n",
       "\t -7  & -13 & -7  & -19 & -13 & -7  & -25 & -19 & -13 & -7 \\\\\n",
       "\t -7  & -13 & -7  & -19 & -13 & -7  & -25 & -19 & -13 & -7 \\\\\n",
       "\t -7  & -13 & -7  & -19 & -13 & -7  & -25 & -19 & -13 & -7 \\\\\n",
       "\\end{tabular}\n",
       "\n",
       "\\end{description}\n"
      ],
      "text/markdown": [
       "$v\n",
       ":   \n",
       "| -1.969673 | -3        | -2        | -4        | -3        | -1.969673 | -5        | -4        | -3        | -2        | -6        | -5        | -3.984837 | -3        | -1.969673 | \n",
       "| -1.969673 | -3        | -2        | -4        | -3        | -1.969673 | -5        | -4        | -3        | -2        | -6        | -5        | -3.984837 | -3        | -1.969673 | \n",
       "| -1.969673 | -3        | -2        | -4        | -3        | -1.969673 | -5        | -4        | -3        | -2        | -6        | -5        | -3.984837 | -3        | -1.969673 | \n",
       "| -1.969673 | -3        | -2        | -4        | -3        | -1.969673 | -5        | -4        | -3        | -2        | -6        | -5        | -3.984837 | -3        | -1.969673 | \n",
       "| -1.969673 | -3        | -2        | -4        | -3        | -1.969673 | -5        | -4        | -3        | -2        | -6        | -5        | -3.984837 | -3        | -1.969673 | \n",
       "\n",
       "\n",
       "\n",
       "$z\n",
       ":   \n",
       "| -7  | -13 | -7  | -19 | -13 | -7  | -25 | -19 | -13 | -7  | \n",
       "| -7  | -13 | -7  | -19 | -13 | -7  | -25 | -19 | -13 | -7  | \n",
       "| -7  | -13 | -7  | -19 | -13 | -7  | -25 | -19 | -13 | -7  | \n",
       "| -7  | -13 | -7  | -19 | -13 | -7  | -25 | -19 | -13 | -7  | \n",
       "| -7  | -13 | -7  | -19 | -13 | -7  | -25 | -19 | -13 | -7  | \n",
       "| -7  | -13 | -7  | -19 | -13 | -7  | -25 | -19 | -13 | -7  | \n",
       "\n",
       "\n",
       "\n",
       "\n",
       "\n"
      ],
      "text/plain": [
       "$v\n",
       "          [,1] [,2] [,3] [,4] [,5]      [,6] [,7] [,8] [,9] [,10] [,11] [,12]\n",
       "[1,] -1.969673   -3   -2   -4   -3 -1.969673   -5   -4   -3    -2    -6    -5\n",
       "[2,] -1.969673   -3   -2   -4   -3 -1.969673   -5   -4   -3    -2    -6    -5\n",
       "[3,] -1.969673   -3   -2   -4   -3 -1.969673   -5   -4   -3    -2    -6    -5\n",
       "[4,] -1.969673   -3   -2   -4   -3 -1.969673   -5   -4   -3    -2    -6    -5\n",
       "[5,] -1.969673   -3   -2   -4   -3 -1.969673   -5   -4   -3    -2    -6    -5\n",
       "         [,13] [,14]     [,15]\n",
       "[1,] -3.984837    -3 -1.969673\n",
       "[2,] -3.984837    -3 -1.969673\n",
       "[3,] -3.984837    -3 -1.969673\n",
       "[4,] -3.984837    -3 -1.969673\n",
       "[5,] -3.984837    -3 -1.969673\n",
       "\n",
       "$z\n",
       "     [,1] [,2] [,3] [,4] [,5] [,6] [,7] [,8] [,9] [,10]\n",
       "[1,]   -7  -13   -7  -19  -13   -7  -25  -19  -13    -7\n",
       "[2,]   -7  -13   -7  -19  -13   -7  -25  -19  -13    -7\n",
       "[3,]   -7  -13   -7  -19  -13   -7  -25  -19  -13    -7\n",
       "[4,]   -7  -13   -7  -19  -13   -7  -25  -19  -13    -7\n",
       "[5,]   -7  -13   -7  -19  -13   -7  -25  -19  -13    -7\n",
       "[6,]   -7  -13   -7  -19  -13   -7  -25  -19  -13    -7\n"
      ]
     },
     "metadata": {},
     "output_type": "display_data"
    }
   ],
   "source": [
    "n=dim(X)[1]; p=dim(X)[2]\n",
    "eplison_n=L_num(n)\n",
    "eplison_p=L_num(p)\n",
    "update_vz(X, A, lambda_1, lambda_2, gamma_1, gamma_2, nu1, nu2,n,p,eplison_n,eplison_p)"
   ]
  },
  {
   "cell_type": "markdown",
   "metadata": {},
   "source": [
    "test time"
   ]
  },
  {
   "cell_type": "code",
   "execution_count": 168,
   "metadata": {},
   "outputs": [],
   "source": [
    "gamma_1 = 0.5; gamma_2 = 0\n",
    "\n",
    "nu1 = 1; nu2 = 1; \n",
    "X = matrix(1:3000,60,50)\n",
    "A = X\n",
    "n = dim(X)[1]; p = dim(X)[2]\n",
    "eplison_p = L_num(p)\n",
    "eplison_n = L_num(n)\n",
    "\n",
    "lambda_1 = matrix(1,p,dim(eplison_n)[1])\n",
    "v = matrix(1,p,dim(eplison_n)[1])\n",
    "lambda_2 = matrix(1,n,dim(eplison_p)[1])\n",
    "z = matrix(1,n,dim(eplison_p)[1])"
   ]
  },
  {
   "cell_type": "code",
   "execution_count": 178,
   "metadata": {
    "scrolled": true
   },
   "outputs": [
    {
     "data": {
      "text/plain": [
       "Time difference of 0.1449609 secs"
      ]
     },
     "metadata": {},
     "output_type": "display_data"
    }
   ],
   "source": [
    "t1 = Sys.time()\n",
    "res1 = update_vz_old(X, A, lambda_1, lambda_2, gamma_1, gamma_2, nu1, nu2)\n",
    "t2 = Sys.time()\n",
    "t2-t1"
   ]
  },
  {
   "cell_type": "code",
   "execution_count": 179,
   "metadata": {},
   "outputs": [
    {
     "data": {
      "text/plain": [
       "Time difference of 0.02553797 secs"
      ]
     },
     "metadata": {},
     "output_type": "display_data"
    }
   ],
   "source": [
    "t3 = Sys.time()\n",
    "res2 = update_vz(X, A, lambda_1, lambda_2, gamma_1, gamma_2, nu1, nu2,n,p,eplison_n,eplison_p)\n",
    "t4 = Sys.time()\n",
    "t4-t3"
   ]
  },
  {
   "cell_type": "markdown",
   "metadata": {},
   "source": [
    "### 5. update lambda"
   ]
  },
  {
   "cell_type": "code",
   "execution_count": 130,
   "metadata": {},
   "outputs": [],
   "source": [
    "X = matrix(1:30,6,5)\n",
    "A =  matrix(1:30,6,5)\n",
    "n = dim(X)[1]; p = dim(X)[2]\n",
    "eplison_p = L_num(p)\n",
    "eplison_n = L_num(n)\n",
    "\n",
    "lambda_1 = matrix(1,p,dim(eplison_n)[1])\n",
    "v = matrix(1,p,dim(eplison_n)[1])\n",
    "lambda_2 = matrix(1,n,dim(eplison_p)[1])\n",
    "z = matrix(1,n,dim(eplison_p)[1])\n",
    "\n",
    "nu1 = nu2 = 1"
   ]
  },
  {
   "cell_type": "markdown",
   "metadata": {},
   "source": [
    "old"
   ]
  },
  {
   "cell_type": "code",
   "execution_count": 99,
   "metadata": {},
   "outputs": [],
   "source": [
    "# update lambda 1\n",
    "for(i in 1:dim(eplison_n)[1]){\n",
    "  l1=eplison_n[i,'l1']\n",
    "  l2=eplison_n[i,'l2']\n",
    "  a_l1 = matrix(A[l1,],p,1)\n",
    "  a_l2 = matrix(A[l2,],p,1)\n",
    "  lambda_1[,i] = lambda_1[,i] + nu1 * (v[,i] - a_l1 + a_l2)\n",
    "} \n",
    "\n",
    "# update lambda 2\n",
    "for(i in 1:dim(eplison_p)[1]){\n",
    "  l1=eplison_p[i,'l1']\n",
    "  l2=eplison_p[i,'l2']\n",
    "  a_k1 = matrix(A[,l1],n,1)\n",
    "  a_k2 = matrix(A[,l2],n,1)\n",
    "  lambda_2[,i] = lambda_2[,i] + nu2 * (z[,i] - a_k1 + a_k2)\n",
    "}"
   ]
  },
  {
   "cell_type": "code",
   "execution_count": 100,
   "metadata": {},
   "outputs": [],
   "source": [
    "lambda1= lambda_1;lambda2 = lambda_2"
   ]
  },
  {
   "cell_type": "markdown",
   "metadata": {},
   "source": [
    "new"
   ]
  },
  {
   "cell_type": "code",
   "execution_count": 101,
   "metadata": {},
   "outputs": [],
   "source": [
    "lambda_1 = matrix(1,p,dim(eplison_n)[1])\n",
    "v = matrix(1,p,dim(eplison_n)[1])\n",
    "lambda_2 = matrix(1,n,dim(eplison_p)[1])\n",
    "z = matrix(1,n,dim(eplison_p)[1])"
   ]
  },
  {
   "cell_type": "code",
   "execution_count": 102,
   "metadata": {},
   "outputs": [],
   "source": [
    "count = 0\n",
    "al1 = al2 = matrix(0,n,n*(n-1)/2)\n",
    "for(i in 1:(n-1)){\n",
    "  al1[,(count+1):(count+i)] = diag(1,n,i)\n",
    "  temp = matrix(0,n,i)\n",
    "  temp[i,] = 1\n",
    "  al2[,(count+1):(count+i)] = temp\n",
    "  count = count+i\n",
    "}\n",
    "al2 = rbind(al2[n,],al2[1:(n-1),])\n",
    "lambda11 = lambda_1 + nu1 * (v - t(A) %*% al1 + t(A) %*% al2)"
   ]
  },
  {
   "cell_type": "code",
   "execution_count": 103,
   "metadata": {},
   "outputs": [],
   "source": [
    "# k\n",
    "count = 0\n",
    "al1 = al2 = matrix(0,p,p*(p-1)/2)\n",
    "for(i in 1:(p-1)){\n",
    "  al1[,(count+1):(count+i)] = diag(1,p,i)\n",
    "  temp = matrix(0,p,i)\n",
    "  temp[i+1,] = 1\n",
    "  al2[,(count+1):(count+i)] = temp\n",
    "  count = count+i\n",
    "}\n",
    "lambda22 = lambda_2 + nu2 * (z - A %*% al1 + A %*% al2)"
   ]
  },
  {
   "cell_type": "code",
   "execution_count": 104,
   "metadata": {},
   "outputs": [
    {
     "data": {
      "text/html": [
       "<table>\n",
       "<tbody>\n",
       "\t<tr><td>TRUE</td><td>TRUE</td><td>TRUE</td><td>TRUE</td><td>TRUE</td><td>TRUE</td><td>TRUE</td><td>TRUE</td><td>TRUE</td><td>TRUE</td><td>TRUE</td><td>TRUE</td><td>TRUE</td><td>TRUE</td><td>TRUE</td></tr>\n",
       "\t<tr><td>TRUE</td><td>TRUE</td><td>TRUE</td><td>TRUE</td><td>TRUE</td><td>TRUE</td><td>TRUE</td><td>TRUE</td><td>TRUE</td><td>TRUE</td><td>TRUE</td><td>TRUE</td><td>TRUE</td><td>TRUE</td><td>TRUE</td></tr>\n",
       "\t<tr><td>TRUE</td><td>TRUE</td><td>TRUE</td><td>TRUE</td><td>TRUE</td><td>TRUE</td><td>TRUE</td><td>TRUE</td><td>TRUE</td><td>TRUE</td><td>TRUE</td><td>TRUE</td><td>TRUE</td><td>TRUE</td><td>TRUE</td></tr>\n",
       "\t<tr><td>TRUE</td><td>TRUE</td><td>TRUE</td><td>TRUE</td><td>TRUE</td><td>TRUE</td><td>TRUE</td><td>TRUE</td><td>TRUE</td><td>TRUE</td><td>TRUE</td><td>TRUE</td><td>TRUE</td><td>TRUE</td><td>TRUE</td></tr>\n",
       "\t<tr><td>TRUE</td><td>TRUE</td><td>TRUE</td><td>TRUE</td><td>TRUE</td><td>TRUE</td><td>TRUE</td><td>TRUE</td><td>TRUE</td><td>TRUE</td><td>TRUE</td><td>TRUE</td><td>TRUE</td><td>TRUE</td><td>TRUE</td></tr>\n",
       "</tbody>\n",
       "</table>\n"
      ],
      "text/latex": [
       "\\begin{tabular}{lllllllllllllll}\n",
       "\t TRUE & TRUE & TRUE & TRUE & TRUE & TRUE & TRUE & TRUE & TRUE & TRUE & TRUE & TRUE & TRUE & TRUE & TRUE\\\\\n",
       "\t TRUE & TRUE & TRUE & TRUE & TRUE & TRUE & TRUE & TRUE & TRUE & TRUE & TRUE & TRUE & TRUE & TRUE & TRUE\\\\\n",
       "\t TRUE & TRUE & TRUE & TRUE & TRUE & TRUE & TRUE & TRUE & TRUE & TRUE & TRUE & TRUE & TRUE & TRUE & TRUE\\\\\n",
       "\t TRUE & TRUE & TRUE & TRUE & TRUE & TRUE & TRUE & TRUE & TRUE & TRUE & TRUE & TRUE & TRUE & TRUE & TRUE\\\\\n",
       "\t TRUE & TRUE & TRUE & TRUE & TRUE & TRUE & TRUE & TRUE & TRUE & TRUE & TRUE & TRUE & TRUE & TRUE & TRUE\\\\\n",
       "\\end{tabular}\n"
      ],
      "text/markdown": [
       "\n",
       "| TRUE | TRUE | TRUE | TRUE | TRUE | TRUE | TRUE | TRUE | TRUE | TRUE | TRUE | TRUE | TRUE | TRUE | TRUE | \n",
       "| TRUE | TRUE | TRUE | TRUE | TRUE | TRUE | TRUE | TRUE | TRUE | TRUE | TRUE | TRUE | TRUE | TRUE | TRUE | \n",
       "| TRUE | TRUE | TRUE | TRUE | TRUE | TRUE | TRUE | TRUE | TRUE | TRUE | TRUE | TRUE | TRUE | TRUE | TRUE | \n",
       "| TRUE | TRUE | TRUE | TRUE | TRUE | TRUE | TRUE | TRUE | TRUE | TRUE | TRUE | TRUE | TRUE | TRUE | TRUE | \n",
       "| TRUE | TRUE | TRUE | TRUE | TRUE | TRUE | TRUE | TRUE | TRUE | TRUE | TRUE | TRUE | TRUE | TRUE | TRUE | \n",
       "\n",
       "\n"
      ],
      "text/plain": [
       "     [,1] [,2] [,3] [,4] [,5] [,6] [,7] [,8] [,9] [,10] [,11] [,12] [,13] [,14]\n",
       "[1,] TRUE TRUE TRUE TRUE TRUE TRUE TRUE TRUE TRUE TRUE  TRUE  TRUE  TRUE  TRUE \n",
       "[2,] TRUE TRUE TRUE TRUE TRUE TRUE TRUE TRUE TRUE TRUE  TRUE  TRUE  TRUE  TRUE \n",
       "[3,] TRUE TRUE TRUE TRUE TRUE TRUE TRUE TRUE TRUE TRUE  TRUE  TRUE  TRUE  TRUE \n",
       "[4,] TRUE TRUE TRUE TRUE TRUE TRUE TRUE TRUE TRUE TRUE  TRUE  TRUE  TRUE  TRUE \n",
       "[5,] TRUE TRUE TRUE TRUE TRUE TRUE TRUE TRUE TRUE TRUE  TRUE  TRUE  TRUE  TRUE \n",
       "     [,15]\n",
       "[1,] TRUE \n",
       "[2,] TRUE \n",
       "[3,] TRUE \n",
       "[4,] TRUE \n",
       "[5,] TRUE "
      ]
     },
     "metadata": {},
     "output_type": "display_data"
    }
   ],
   "source": [
    "lambda1 == lambda11"
   ]
  },
  {
   "cell_type": "code",
   "execution_count": 105,
   "metadata": {},
   "outputs": [
    {
     "data": {
      "text/html": [
       "<table>\n",
       "<tbody>\n",
       "\t<tr><td>TRUE</td><td>TRUE</td><td>TRUE</td><td>TRUE</td><td>TRUE</td><td>TRUE</td><td>TRUE</td><td>TRUE</td><td>TRUE</td><td>TRUE</td></tr>\n",
       "\t<tr><td>TRUE</td><td>TRUE</td><td>TRUE</td><td>TRUE</td><td>TRUE</td><td>TRUE</td><td>TRUE</td><td>TRUE</td><td>TRUE</td><td>TRUE</td></tr>\n",
       "\t<tr><td>TRUE</td><td>TRUE</td><td>TRUE</td><td>TRUE</td><td>TRUE</td><td>TRUE</td><td>TRUE</td><td>TRUE</td><td>TRUE</td><td>TRUE</td></tr>\n",
       "\t<tr><td>TRUE</td><td>TRUE</td><td>TRUE</td><td>TRUE</td><td>TRUE</td><td>TRUE</td><td>TRUE</td><td>TRUE</td><td>TRUE</td><td>TRUE</td></tr>\n",
       "\t<tr><td>TRUE</td><td>TRUE</td><td>TRUE</td><td>TRUE</td><td>TRUE</td><td>TRUE</td><td>TRUE</td><td>TRUE</td><td>TRUE</td><td>TRUE</td></tr>\n",
       "\t<tr><td>TRUE</td><td>TRUE</td><td>TRUE</td><td>TRUE</td><td>TRUE</td><td>TRUE</td><td>TRUE</td><td>TRUE</td><td>TRUE</td><td>TRUE</td></tr>\n",
       "</tbody>\n",
       "</table>\n"
      ],
      "text/latex": [
       "\\begin{tabular}{llllllllll}\n",
       "\t TRUE & TRUE & TRUE & TRUE & TRUE & TRUE & TRUE & TRUE & TRUE & TRUE\\\\\n",
       "\t TRUE & TRUE & TRUE & TRUE & TRUE & TRUE & TRUE & TRUE & TRUE & TRUE\\\\\n",
       "\t TRUE & TRUE & TRUE & TRUE & TRUE & TRUE & TRUE & TRUE & TRUE & TRUE\\\\\n",
       "\t TRUE & TRUE & TRUE & TRUE & TRUE & TRUE & TRUE & TRUE & TRUE & TRUE\\\\\n",
       "\t TRUE & TRUE & TRUE & TRUE & TRUE & TRUE & TRUE & TRUE & TRUE & TRUE\\\\\n",
       "\t TRUE & TRUE & TRUE & TRUE & TRUE & TRUE & TRUE & TRUE & TRUE & TRUE\\\\\n",
       "\\end{tabular}\n"
      ],
      "text/markdown": [
       "\n",
       "| TRUE | TRUE | TRUE | TRUE | TRUE | TRUE | TRUE | TRUE | TRUE | TRUE | \n",
       "| TRUE | TRUE | TRUE | TRUE | TRUE | TRUE | TRUE | TRUE | TRUE | TRUE | \n",
       "| TRUE | TRUE | TRUE | TRUE | TRUE | TRUE | TRUE | TRUE | TRUE | TRUE | \n",
       "| TRUE | TRUE | TRUE | TRUE | TRUE | TRUE | TRUE | TRUE | TRUE | TRUE | \n",
       "| TRUE | TRUE | TRUE | TRUE | TRUE | TRUE | TRUE | TRUE | TRUE | TRUE | \n",
       "| TRUE | TRUE | TRUE | TRUE | TRUE | TRUE | TRUE | TRUE | TRUE | TRUE | \n",
       "\n",
       "\n"
      ],
      "text/plain": [
       "     [,1] [,2] [,3] [,4] [,5] [,6] [,7] [,8] [,9] [,10]\n",
       "[1,] TRUE TRUE TRUE TRUE TRUE TRUE TRUE TRUE TRUE TRUE \n",
       "[2,] TRUE TRUE TRUE TRUE TRUE TRUE TRUE TRUE TRUE TRUE \n",
       "[3,] TRUE TRUE TRUE TRUE TRUE TRUE TRUE TRUE TRUE TRUE \n",
       "[4,] TRUE TRUE TRUE TRUE TRUE TRUE TRUE TRUE TRUE TRUE \n",
       "[5,] TRUE TRUE TRUE TRUE TRUE TRUE TRUE TRUE TRUE TRUE \n",
       "[6,] TRUE TRUE TRUE TRUE TRUE TRUE TRUE TRUE TRUE TRUE "
      ]
     },
     "metadata": {},
     "output_type": "display_data"
    }
   ],
   "source": [
    "lambda2 == lambda22"
   ]
  },
  {
   "cell_type": "code",
   "execution_count": null,
   "metadata": {},
   "outputs": [],
   "source": []
  },
  {
   "cell_type": "code",
   "execution_count": null,
   "metadata": {},
   "outputs": [],
   "source": []
  },
  {
   "cell_type": "code",
   "execution_count": 106,
   "metadata": {},
   "outputs": [],
   "source": [
    "### update lambda\n",
    "update_lambda_old=function(X, A, nu1, nu2,v, z){\n",
    "  n = dim(X)[1]; p = dim(X)[2]\n",
    "  eplison_p = L_num(p)\n",
    "  eplison_n = L_num(n)\n",
    "  # update lambda 1\n",
    "  for(i in 1:dim(eplison_n)[1]){\n",
    "    l1=eplison_n[i,'l1']\n",
    "    l2=eplison_n[i,'l2']\n",
    "    a_l1 = matrix(A[l1,],p,1)\n",
    "    a_l2 = matrix(A[l2,],p,1)\n",
    "    lambda_1[,i] = lambda_1[,i] + nu1 * (v[,i] - a_l1 + a_l2)\n",
    "  } \n",
    "  # update lambda 2\n",
    "  for(i in 1:dim(eplison_p)[1]){\n",
    "    l1=eplison_p[i,'l1']\n",
    "    l2=eplison_p[i,'l2']\n",
    "    a_k1 = matrix(A[,l1],n,1)\n",
    "    a_k2 = matrix(A[,l2],n,1)\n",
    "    lambda_2[,i] = lambda_2[,i] + nu2 * (z[,i] - a_k1 + a_k2)\n",
    "  }\n",
    "  return(lambda=list(lambda_1,lambda_2))\n",
    "}\n",
    "\n",
    "update_lambda=function(X, A, nu1, nu2,v, z){\n",
    "  n = dim(X)[1]; p = dim(X)[2]\n",
    "  eplison_p = L_num(p)\n",
    "  eplison_n = L_num(n)\n",
    "  # update lambda 1\n",
    "  count = 0\n",
    "  al1 = al2 = matrix(0,n,n*(n-1)/2)\n",
    "  for(i in 1:(n-1)){\n",
    "    al1[,(count+1):(count+i)] = diag(1,n,i)\n",
    "    temp = matrix(0,n,i)\n",
    "    temp[i,] = 1\n",
    "    al2[,(count+1):(count+i)] = temp\n",
    "    count = count+i\n",
    "  }\n",
    "  al2 = rbind(al2[n,],al2[1:(n-1),])\n",
    "  lambda_1 = lambda_1 + nu1 * (v - t(A) %*% al1 + t(A) %*% al2)\n",
    "  \n",
    "  # update lambda 2\n",
    "  count = 0\n",
    "  al1 = al2 = matrix(0,p,p*(p-1)/2)\n",
    "  for(i in 1:(p-1)){\n",
    "    al1[,(count+1):(count+i)] = diag(1,p,i)\n",
    "    temp = matrix(0,p,i)\n",
    "    temp[i+1,] = 1\n",
    "    al2[,(count+1):(count+i)] = temp\n",
    "    count = count+i\n",
    "  }\n",
    "  lambda_2 = lambda_2 + nu2 * (z - A %*% al1 + A %*% al2)\n",
    "  return(lambda=list(lambda_1,lambda_2))\n",
    "}"
   ]
  },
  {
   "cell_type": "code",
   "execution_count": 107,
   "metadata": {},
   "outputs": [
    {
     "data": {
      "text/html": [
       "<ol>\n",
       "\t<li><table>\n",
       "<tbody>\n",
       "\t<tr><td>3</td><td>4</td><td>3</td><td>5</td><td>4</td><td>3</td><td>6</td><td>5</td><td>4</td><td>3</td><td>7</td><td>6</td><td>5</td><td>4</td><td>3</td></tr>\n",
       "\t<tr><td>3</td><td>4</td><td>3</td><td>5</td><td>4</td><td>3</td><td>6</td><td>5</td><td>4</td><td>3</td><td>7</td><td>6</td><td>5</td><td>4</td><td>3</td></tr>\n",
       "\t<tr><td>3</td><td>4</td><td>3</td><td>5</td><td>4</td><td>3</td><td>6</td><td>5</td><td>4</td><td>3</td><td>7</td><td>6</td><td>5</td><td>4</td><td>3</td></tr>\n",
       "\t<tr><td>3</td><td>4</td><td>3</td><td>5</td><td>4</td><td>3</td><td>6</td><td>5</td><td>4</td><td>3</td><td>7</td><td>6</td><td>5</td><td>4</td><td>3</td></tr>\n",
       "\t<tr><td>3</td><td>4</td><td>3</td><td>5</td><td>4</td><td>3</td><td>6</td><td>5</td><td>4</td><td>3</td><td>7</td><td>6</td><td>5</td><td>4</td><td>3</td></tr>\n",
       "</tbody>\n",
       "</table>\n",
       "</li>\n",
       "\t<li><table>\n",
       "<tbody>\n",
       "\t<tr><td>8 </td><td>14</td><td>8 </td><td>20</td><td>14</td><td>8 </td><td>26</td><td>20</td><td>14</td><td>8 </td></tr>\n",
       "\t<tr><td>8 </td><td>14</td><td>8 </td><td>20</td><td>14</td><td>8 </td><td>26</td><td>20</td><td>14</td><td>8 </td></tr>\n",
       "\t<tr><td>8 </td><td>14</td><td>8 </td><td>20</td><td>14</td><td>8 </td><td>26</td><td>20</td><td>14</td><td>8 </td></tr>\n",
       "\t<tr><td>8 </td><td>14</td><td>8 </td><td>20</td><td>14</td><td>8 </td><td>26</td><td>20</td><td>14</td><td>8 </td></tr>\n",
       "\t<tr><td>8 </td><td>14</td><td>8 </td><td>20</td><td>14</td><td>8 </td><td>26</td><td>20</td><td>14</td><td>8 </td></tr>\n",
       "\t<tr><td>8 </td><td>14</td><td>8 </td><td>20</td><td>14</td><td>8 </td><td>26</td><td>20</td><td>14</td><td>8 </td></tr>\n",
       "</tbody>\n",
       "</table>\n",
       "</li>\n",
       "</ol>\n"
      ],
      "text/latex": [
       "\\begin{enumerate}\n",
       "\\item \\begin{tabular}{lllllllllllllll}\n",
       "\t 3 & 4 & 3 & 5 & 4 & 3 & 6 & 5 & 4 & 3 & 7 & 6 & 5 & 4 & 3\\\\\n",
       "\t 3 & 4 & 3 & 5 & 4 & 3 & 6 & 5 & 4 & 3 & 7 & 6 & 5 & 4 & 3\\\\\n",
       "\t 3 & 4 & 3 & 5 & 4 & 3 & 6 & 5 & 4 & 3 & 7 & 6 & 5 & 4 & 3\\\\\n",
       "\t 3 & 4 & 3 & 5 & 4 & 3 & 6 & 5 & 4 & 3 & 7 & 6 & 5 & 4 & 3\\\\\n",
       "\t 3 & 4 & 3 & 5 & 4 & 3 & 6 & 5 & 4 & 3 & 7 & 6 & 5 & 4 & 3\\\\\n",
       "\\end{tabular}\n",
       "\n",
       "\\item \\begin{tabular}{llllllllll}\n",
       "\t 8  & 14 & 8  & 20 & 14 & 8  & 26 & 20 & 14 & 8 \\\\\n",
       "\t 8  & 14 & 8  & 20 & 14 & 8  & 26 & 20 & 14 & 8 \\\\\n",
       "\t 8  & 14 & 8  & 20 & 14 & 8  & 26 & 20 & 14 & 8 \\\\\n",
       "\t 8  & 14 & 8  & 20 & 14 & 8  & 26 & 20 & 14 & 8 \\\\\n",
       "\t 8  & 14 & 8  & 20 & 14 & 8  & 26 & 20 & 14 & 8 \\\\\n",
       "\t 8  & 14 & 8  & 20 & 14 & 8  & 26 & 20 & 14 & 8 \\\\\n",
       "\\end{tabular}\n",
       "\n",
       "\\end{enumerate}\n"
      ],
      "text/markdown": [
       "1. \n",
       "| 3 | 4 | 3 | 5 | 4 | 3 | 6 | 5 | 4 | 3 | 7 | 6 | 5 | 4 | 3 | \n",
       "| 3 | 4 | 3 | 5 | 4 | 3 | 6 | 5 | 4 | 3 | 7 | 6 | 5 | 4 | 3 | \n",
       "| 3 | 4 | 3 | 5 | 4 | 3 | 6 | 5 | 4 | 3 | 7 | 6 | 5 | 4 | 3 | \n",
       "| 3 | 4 | 3 | 5 | 4 | 3 | 6 | 5 | 4 | 3 | 7 | 6 | 5 | 4 | 3 | \n",
       "| 3 | 4 | 3 | 5 | 4 | 3 | 6 | 5 | 4 | 3 | 7 | 6 | 5 | 4 | 3 | \n",
       "\n",
       "\n",
       "\n",
       "2. \n",
       "| 8  | 14 | 8  | 20 | 14 | 8  | 26 | 20 | 14 | 8  | \n",
       "| 8  | 14 | 8  | 20 | 14 | 8  | 26 | 20 | 14 | 8  | \n",
       "| 8  | 14 | 8  | 20 | 14 | 8  | 26 | 20 | 14 | 8  | \n",
       "| 8  | 14 | 8  | 20 | 14 | 8  | 26 | 20 | 14 | 8  | \n",
       "| 8  | 14 | 8  | 20 | 14 | 8  | 26 | 20 | 14 | 8  | \n",
       "| 8  | 14 | 8  | 20 | 14 | 8  | 26 | 20 | 14 | 8  | \n",
       "\n",
       "\n",
       "\n",
       "\n",
       "\n"
      ],
      "text/plain": [
       "[[1]]\n",
       "     [,1] [,2] [,3] [,4] [,5] [,6] [,7] [,8] [,9] [,10] [,11] [,12] [,13] [,14]\n",
       "[1,]    3    4    3    5    4    3    6    5    4     3     7     6     5     4\n",
       "[2,]    3    4    3    5    4    3    6    5    4     3     7     6     5     4\n",
       "[3,]    3    4    3    5    4    3    6    5    4     3     7     6     5     4\n",
       "[4,]    3    4    3    5    4    3    6    5    4     3     7     6     5     4\n",
       "[5,]    3    4    3    5    4    3    6    5    4     3     7     6     5     4\n",
       "     [,15]\n",
       "[1,]     3\n",
       "[2,]     3\n",
       "[3,]     3\n",
       "[4,]     3\n",
       "[5,]     3\n",
       "\n",
       "[[2]]\n",
       "     [,1] [,2] [,3] [,4] [,5] [,6] [,7] [,8] [,9] [,10]\n",
       "[1,]    8   14    8   20   14    8   26   20   14     8\n",
       "[2,]    8   14    8   20   14    8   26   20   14     8\n",
       "[3,]    8   14    8   20   14    8   26   20   14     8\n",
       "[4,]    8   14    8   20   14    8   26   20   14     8\n",
       "[5,]    8   14    8   20   14    8   26   20   14     8\n",
       "[6,]    8   14    8   20   14    8   26   20   14     8\n"
      ]
     },
     "metadata": {},
     "output_type": "display_data"
    }
   ],
   "source": [
    "update_lambda_old(X, A, nu1, nu2,v, z)"
   ]
  },
  {
   "cell_type": "code",
   "execution_count": 108,
   "metadata": {},
   "outputs": [
    {
     "data": {
      "text/html": [
       "<ol>\n",
       "\t<li><table>\n",
       "<tbody>\n",
       "\t<tr><td>3</td><td>4</td><td>3</td><td>5</td><td>4</td><td>3</td><td>6</td><td>5</td><td>4</td><td>3</td><td>7</td><td>6</td><td>5</td><td>4</td><td>3</td></tr>\n",
       "\t<tr><td>3</td><td>4</td><td>3</td><td>5</td><td>4</td><td>3</td><td>6</td><td>5</td><td>4</td><td>3</td><td>7</td><td>6</td><td>5</td><td>4</td><td>3</td></tr>\n",
       "\t<tr><td>3</td><td>4</td><td>3</td><td>5</td><td>4</td><td>3</td><td>6</td><td>5</td><td>4</td><td>3</td><td>7</td><td>6</td><td>5</td><td>4</td><td>3</td></tr>\n",
       "\t<tr><td>3</td><td>4</td><td>3</td><td>5</td><td>4</td><td>3</td><td>6</td><td>5</td><td>4</td><td>3</td><td>7</td><td>6</td><td>5</td><td>4</td><td>3</td></tr>\n",
       "\t<tr><td>3</td><td>4</td><td>3</td><td>5</td><td>4</td><td>3</td><td>6</td><td>5</td><td>4</td><td>3</td><td>7</td><td>6</td><td>5</td><td>4</td><td>3</td></tr>\n",
       "</tbody>\n",
       "</table>\n",
       "</li>\n",
       "\t<li><table>\n",
       "<tbody>\n",
       "\t<tr><td>8 </td><td>14</td><td>8 </td><td>20</td><td>14</td><td>8 </td><td>26</td><td>20</td><td>14</td><td>8 </td></tr>\n",
       "\t<tr><td>8 </td><td>14</td><td>8 </td><td>20</td><td>14</td><td>8 </td><td>26</td><td>20</td><td>14</td><td>8 </td></tr>\n",
       "\t<tr><td>8 </td><td>14</td><td>8 </td><td>20</td><td>14</td><td>8 </td><td>26</td><td>20</td><td>14</td><td>8 </td></tr>\n",
       "\t<tr><td>8 </td><td>14</td><td>8 </td><td>20</td><td>14</td><td>8 </td><td>26</td><td>20</td><td>14</td><td>8 </td></tr>\n",
       "\t<tr><td>8 </td><td>14</td><td>8 </td><td>20</td><td>14</td><td>8 </td><td>26</td><td>20</td><td>14</td><td>8 </td></tr>\n",
       "\t<tr><td>8 </td><td>14</td><td>8 </td><td>20</td><td>14</td><td>8 </td><td>26</td><td>20</td><td>14</td><td>8 </td></tr>\n",
       "</tbody>\n",
       "</table>\n",
       "</li>\n",
       "</ol>\n"
      ],
      "text/latex": [
       "\\begin{enumerate}\n",
       "\\item \\begin{tabular}{lllllllllllllll}\n",
       "\t 3 & 4 & 3 & 5 & 4 & 3 & 6 & 5 & 4 & 3 & 7 & 6 & 5 & 4 & 3\\\\\n",
       "\t 3 & 4 & 3 & 5 & 4 & 3 & 6 & 5 & 4 & 3 & 7 & 6 & 5 & 4 & 3\\\\\n",
       "\t 3 & 4 & 3 & 5 & 4 & 3 & 6 & 5 & 4 & 3 & 7 & 6 & 5 & 4 & 3\\\\\n",
       "\t 3 & 4 & 3 & 5 & 4 & 3 & 6 & 5 & 4 & 3 & 7 & 6 & 5 & 4 & 3\\\\\n",
       "\t 3 & 4 & 3 & 5 & 4 & 3 & 6 & 5 & 4 & 3 & 7 & 6 & 5 & 4 & 3\\\\\n",
       "\\end{tabular}\n",
       "\n",
       "\\item \\begin{tabular}{llllllllll}\n",
       "\t 8  & 14 & 8  & 20 & 14 & 8  & 26 & 20 & 14 & 8 \\\\\n",
       "\t 8  & 14 & 8  & 20 & 14 & 8  & 26 & 20 & 14 & 8 \\\\\n",
       "\t 8  & 14 & 8  & 20 & 14 & 8  & 26 & 20 & 14 & 8 \\\\\n",
       "\t 8  & 14 & 8  & 20 & 14 & 8  & 26 & 20 & 14 & 8 \\\\\n",
       "\t 8  & 14 & 8  & 20 & 14 & 8  & 26 & 20 & 14 & 8 \\\\\n",
       "\t 8  & 14 & 8  & 20 & 14 & 8  & 26 & 20 & 14 & 8 \\\\\n",
       "\\end{tabular}\n",
       "\n",
       "\\end{enumerate}\n"
      ],
      "text/markdown": [
       "1. \n",
       "| 3 | 4 | 3 | 5 | 4 | 3 | 6 | 5 | 4 | 3 | 7 | 6 | 5 | 4 | 3 | \n",
       "| 3 | 4 | 3 | 5 | 4 | 3 | 6 | 5 | 4 | 3 | 7 | 6 | 5 | 4 | 3 | \n",
       "| 3 | 4 | 3 | 5 | 4 | 3 | 6 | 5 | 4 | 3 | 7 | 6 | 5 | 4 | 3 | \n",
       "| 3 | 4 | 3 | 5 | 4 | 3 | 6 | 5 | 4 | 3 | 7 | 6 | 5 | 4 | 3 | \n",
       "| 3 | 4 | 3 | 5 | 4 | 3 | 6 | 5 | 4 | 3 | 7 | 6 | 5 | 4 | 3 | \n",
       "\n",
       "\n",
       "\n",
       "2. \n",
       "| 8  | 14 | 8  | 20 | 14 | 8  | 26 | 20 | 14 | 8  | \n",
       "| 8  | 14 | 8  | 20 | 14 | 8  | 26 | 20 | 14 | 8  | \n",
       "| 8  | 14 | 8  | 20 | 14 | 8  | 26 | 20 | 14 | 8  | \n",
       "| 8  | 14 | 8  | 20 | 14 | 8  | 26 | 20 | 14 | 8  | \n",
       "| 8  | 14 | 8  | 20 | 14 | 8  | 26 | 20 | 14 | 8  | \n",
       "| 8  | 14 | 8  | 20 | 14 | 8  | 26 | 20 | 14 | 8  | \n",
       "\n",
       "\n",
       "\n",
       "\n",
       "\n"
      ],
      "text/plain": [
       "[[1]]\n",
       "     [,1] [,2] [,3] [,4] [,5] [,6] [,7] [,8] [,9] [,10] [,11] [,12] [,13] [,14]\n",
       "[1,]    3    4    3    5    4    3    6    5    4     3     7     6     5     4\n",
       "[2,]    3    4    3    5    4    3    6    5    4     3     7     6     5     4\n",
       "[3,]    3    4    3    5    4    3    6    5    4     3     7     6     5     4\n",
       "[4,]    3    4    3    5    4    3    6    5    4     3     7     6     5     4\n",
       "[5,]    3    4    3    5    4    3    6    5    4     3     7     6     5     4\n",
       "     [,15]\n",
       "[1,]     3\n",
       "[2,]     3\n",
       "[3,]     3\n",
       "[4,]     3\n",
       "[5,]     3\n",
       "\n",
       "[[2]]\n",
       "     [,1] [,2] [,3] [,4] [,5] [,6] [,7] [,8] [,9] [,10]\n",
       "[1,]    8   14    8   20   14    8   26   20   14     8\n",
       "[2,]    8   14    8   20   14    8   26   20   14     8\n",
       "[3,]    8   14    8   20   14    8   26   20   14     8\n",
       "[4,]    8   14    8   20   14    8   26   20   14     8\n",
       "[5,]    8   14    8   20   14    8   26   20   14     8\n",
       "[6,]    8   14    8   20   14    8   26   20   14     8\n"
      ]
     },
     "metadata": {},
     "output_type": "display_data"
    }
   ],
   "source": [
    "update_lambda(X, A, nu1, nu2,v, z)"
   ]
  },
  {
   "cell_type": "code",
   "execution_count": 121,
   "metadata": {},
   "outputs": [],
   "source": [
    "X = matrix(rnorm(3000),60,50)\n",
    "A =  X\n",
    "n = dim(X)[1]; p = dim(X)[2]\n",
    "eplison_p = L_num(p)\n",
    "eplison_n = L_num(n)\n",
    "\n",
    "lambda_1 = matrix(1,p,dim(eplison_n)[1])\n",
    "v = matrix(1,p,dim(eplison_n)[1])\n",
    "lambda_2 = matrix(1,n,dim(eplison_p)[1])\n",
    "z = matrix(1,n,dim(eplison_p)[1])\n",
    "\n",
    "nu1 = nu2 = 1"
   ]
  },
  {
   "cell_type": "code",
   "execution_count": 112,
   "metadata": {},
   "outputs": [
    {
     "data": {
      "text/plain": [
       "Time difference of 0.131958 secs"
      ]
     },
     "metadata": {},
     "output_type": "display_data"
    }
   ],
   "source": [
    "t1 = Sys.time()\n",
    "res1 = update_lambda_old(X, A, nu1, nu2,v, z)\n",
    "t2 = Sys.time()\n",
    "t2-t1"
   ]
  },
  {
   "cell_type": "code",
   "execution_count": 113,
   "metadata": {},
   "outputs": [
    {
     "data": {
      "text/plain": [
       "Time difference of 0.012887 secs"
      ]
     },
     "metadata": {},
     "output_type": "display_data"
    }
   ],
   "source": [
    "t3 = Sys.time()\n",
    "res2 = update_lambda(X, A, nu1, nu2,v, z)\n",
    "t4 = Sys.time()\n",
    "t4-t3"
   ]
  },
  {
   "cell_type": "code",
   "execution_count": null,
   "metadata": {},
   "outputs": [],
   "source": []
  },
  {
   "cell_type": "code",
   "execution_count": null,
   "metadata": {},
   "outputs": [],
   "source": []
  },
  {
   "cell_type": "code",
   "execution_count": null,
   "metadata": {},
   "outputs": [],
   "source": []
  },
  {
   "cell_type": "code",
   "execution_count": null,
   "metadata": {},
   "outputs": [],
   "source": []
  }
 ],
 "metadata": {
  "kernelspec": {
   "display_name": "R",
   "language": "R",
   "name": "ir"
  },
  "language_info": {
   "codemirror_mode": "r",
   "file_extension": ".r",
   "mimetype": "text/x-r-source",
   "name": "R",
   "pygments_lexer": "r",
   "version": "3.4.3"
  }
 },
 "nbformat": 4,
 "nbformat_minor": 2
}
