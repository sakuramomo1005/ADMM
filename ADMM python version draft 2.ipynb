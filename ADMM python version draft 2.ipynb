{
 "cells": [
  {
   "cell_type": "markdown",
   "metadata": {},
   "source": [
    "python version,\n",
    "\n",
    "compare with r version, to make sure everything is the same "
   ]
  },
  {
   "cell_type": "code",
   "execution_count": 1,
   "metadata": {},
   "outputs": [],
   "source": [
    "import numpy as np\n",
    "import pandas as pd\n",
    "from scipy import linalg\n",
    "from scipy.spatial import distance_matrix"
   ]
  },
  {
   "cell_type": "code",
   "execution_count": 2,
   "metadata": {},
   "outputs": [],
   "source": [
    "def L_num(n):\n",
    "    t = np.zeros([np.int(n*(n-1)/2),2])\n",
    "    count = -1\n",
    "    for i in range(n-1):\n",
    "        for j in range((i+1),n,1):\n",
    "            count = count + 1\n",
    "            t[count,0] = i; t[count,1] = j\n",
    "    return(t)\n",
    "\n",
    "def elk(n,p):\n",
    "    count = -1\n",
    "    el1 = el2 = np.zeros([n,np.int(n*(n-1)/2)])\n",
    "    el1 = np.r_[np.eye(1),np.zeros([n-1,1])]\n",
    "    for i in range(2,n,1):\n",
    "        el1 = np.c_[el1,np.r_[np.eye(i),np.zeros([n-i,i])]]\n",
    "    \n",
    "    count = -1\n",
    "    for i in range(1,n,1):\n",
    "        temp = np.zeros([n,i])\n",
    "        temp[i,:] = 1\n",
    "        el2[:,(count+1):(count+i+1)] = temp\n",
    "        count = count+i\n",
    "        \n",
    "    count = -1\n",
    "    ek1 = ek2 = np.zeros([p,np.int(p*(p-1)/2)])\n",
    "    ek1 = np.r_[np.eye(1),np.zeros([p-1,1])]\n",
    "    for i in range(2,p,1):\n",
    "        ek1 = np.c_[ek1,np.r_[np.eye(i),np.zeros([p-i,i])]]\n",
    "\n",
    "    count = -1\n",
    "    for i in range(1,p,1):\n",
    "        temp = np.zeros([p,i])\n",
    "        temp[i,:] = 1\n",
    "        ek2[:,(count+1):(count+i+1)] = temp\n",
    "        count = count+i\n",
    "    return(el1,el2,ek1,ek2)\n",
    "\n",
    "def pdist(xs):\n",
    "    \"\"\"Pairwise Euclidean distacne.\"\"\"\n",
    "    return np.sqrt(np.sum((xs[:, None] - xs[None, :])**2, -1))\n",
    "\n",
    "def dist_weight(X,phi):\n",
    "    dist_X = np.tril(pdist(X))[1:,:-1]\n",
    "    dist_X = [dist_X[j,i] for  i in range(dist_X.shape[0]) for j in range(i,dist_X.shape[0],1)]\n",
    "    res = np.exp(- phi * np.array(dist_X)**2)\n",
    "    return(res)\n",
    "\n",
    "def prox(v,sigma):\n",
    "    return(np.max([0,(1-sigma/np.sum(v**2))]) * v)\n",
    "def tri2vec(i,j,n):\n",
    "    return(n*(i-1) - i*(i-1)/2 + j -i)"
   ]
  },
  {
   "cell_type": "code",
   "execution_count": 3,
   "metadata": {},
   "outputs": [],
   "source": [
    "def knn_weights(w,k,n): # w input array\n",
    "    i = 1\n",
    "    neighbors = [tri2vec(i,j,n) for j in range((i+1),(n+1))]\n",
    "    temp1 = w[[int(i)-1 for i in neighbors]]\n",
    "    temp2 = list(-np.sort(-temp1))\n",
    "    keep = np.array(neighbors)[[list(temp1).index(temp2[i]) for i in range(len(temp2))][0:k]]\n",
    "    for i in range(2,n,1):\n",
    "        group_A =  [tri2vec(i,j,n) for j in range((i+1),(n+1))]\n",
    "        group_B =  [tri2vec(j,i,n) for j in range(1,i)]\n",
    "        neighbors = group_A\n",
    "        neighbors.extend(group_B)\n",
    "        temp1 = w[[int(i)-1 for i in neighbors]]\n",
    "        temp2 = list(-np.sort(-temp1))\n",
    "        knn = np.array(neighbors)[[list(temp1).index(temp2[i]) for i in range(len(temp2))][0:k]]\n",
    "        keep = list(set(knn).union(set(keep)))\n",
    "    i = n\n",
    "    neighbors = [tri2vec(j,i,n) for j in range(1,i)]  \n",
    "    temp1 = w[[int(i)-1 for i in neighbors]]\n",
    "    temp2 = list(-np.sort(-temp1))\n",
    "    knn = np.array(neighbors)[[list(temp1).index(temp2[i]) for i in range(len(temp2))][0:k]]\n",
    "    keep = list(set(knn).union(set(keep)))\n",
    "    w[np.array(list(set(list(range(1,len(w)+1))) - set(keep)))-1] = 0\n",
    "    return(w)"
   ]
  },
  {
   "cell_type": "code",
   "execution_count": 4,
   "metadata": {},
   "outputs": [],
   "source": [
    "def update_A(X, nu1, nu2, lambda_1, lambda_2, v, z,n,p,el1,el2,ek1,ek2):\n",
    "    En = np.diag(list(range(n))) + np.diag(list(range(n-1,-1,-1))) - np.ones([n,n]) + np.eye(n) \n",
    "    Ep = np.diag(list(range(p))) + np.diag(list(range(p-1,-1,-1))) - np.ones([p,p]) + np.eye(p)\n",
    "    \n",
    "    M = np.eye(n) + nu1 * En\n",
    "    N = nu2 * Ep\n",
    "    \n",
    "    lv = lambda_1+ nu1 * v\n",
    "    lz = lambda_2 + nu2 * z\n",
    "    C2 = 0 -np.dot((el2-el1),lv.T)\n",
    "    C3 = np.dot(lz,(ek1-ek2).T)\n",
    "    C = X +  C2 + C3  \n",
    "   \n",
    "    A = linalg.solve_sylvester(M, N.T, C)\n",
    "\n",
    "    return(A)"
   ]
  },
  {
   "cell_type": "code",
   "execution_count": 5,
   "metadata": {},
   "outputs": [],
   "source": [
    "def update_vz(lambda_1, lambda_2, gamma_1, gamma_2, nu1, nu2, w_l, u_k, al1, al2, ak1, ak2):\n",
    "    \n",
    "    sigma_1 = gamma_1 * w_l/nu1\n",
    "    vtemp = al1 - al2 - 1/nu1 * lambda_1\n",
    "    \n",
    "    temp1 = np.where((1 - sigma_1/np.sum(vtemp**2,axis=0) < 0),0,1 - sigma_1/np.sum(vtemp**2,axis=0))\n",
    "    temp2 = np.repeat(temp1,vtemp.shape[0]).reshape(vtemp.shape[1],vtemp.shape[0]).T * vtemp \n",
    "    \n",
    "    v = temp2\n",
    "    \n",
    "    sigma_2 = gamma_2 * u_k/nu2\n",
    "    ztemp = ak1 - ak2 - 1/nu2 * lambda_2\n",
    "    \n",
    "    temp3 = np.where((1 - sigma_2/np.sum(ztemp**2,axis=0) < 0), 0 ,1 - sigma_2/np.sum(ztemp**2,axis=0))\n",
    "    temp4 = np.repeat(temp3,ztemp.shape[0]).reshape(ztemp.shape[1],ztemp.shape[0]).T * ztemp \n",
    "  \n",
    "    z = temp4\n",
    "    return(v,z)"
   ]
  },
  {
   "cell_type": "code",
   "execution_count": 6,
   "metadata": {},
   "outputs": [],
   "source": [
    "def update_lambda(lambda_1,lambda_2,v, z, nu1,nu2, al1, al2, ak1, ak2):\n",
    "    lambda_1 = lambda_1 + nu1 * (v - al1 + al2)\n",
    "    lambda_2 = lambda_2 + nu2 * (z - ak1 + ak2)\n",
    "    return(lambda_1,lambda_2)"
   ]
  },
  {
   "cell_type": "code",
   "execution_count": 9,
   "metadata": {},
   "outputs": [
    {
     "data": {
      "text/plain": [
       "array([[ 1,  5,  9],\n",
       "       [ 2,  6, 10],\n",
       "       [ 3,  7, 11],\n",
       "       [ 4,  8, 12]])"
      ]
     },
     "execution_count": 9,
     "metadata": {},
     "output_type": "execute_result"
    }
   ],
   "source": [
    "X = np.array([[1,5,9],[2,6,10],[3,7,11],[4,8,12]])\n",
    "X"
   ]
  },
  {
   "cell_type": "code",
   "execution_count": 10,
   "metadata": {},
   "outputs": [],
   "source": [
    "n=X.shape[0]; p=X.shape[1]\n",
    "\n",
    "tol = 2\n",
    "\n",
    "eplison_p=L_num(p)\n",
    "eplison_n=L_num(n)\n",
    "\n",
    "elks = elk(n,p)\n",
    "el1,el2,ek1,ek2 = elks[0],elks[1],elks[2],elks[3]\n",
    "\n",
    "w = np.array(dist_weight(X / np.sqrt(p),phi = 0.5))\n",
    "w_l = knn_weights(w,1,n)\n",
    "u = np.array(dist_weight(X.T / np.sqrt(n),phi = 0.5))\n",
    "u_k = knn_weights(u,1,p)\n",
    "\n",
    "A = np.zeros([X.shape[0],X.shape[1]])\n",
    "v= np.zeros([p,eplison_n.shape[0]])\n",
    "z = np.zeros([n,eplison_p.shape[0]]) \n",
    "lambda_1 = np.zeros([p,eplison_n.shape[0]]) \n",
    "lambda_2 = np.zeros([n,eplison_p.shape[0]])"
   ]
  },
  {
   "cell_type": "code",
   "execution_count": 16,
   "metadata": {},
   "outputs": [],
   "source": [
    "nu1 = nu2 = 1\n",
    "gamma_1 = 6\n",
    "gamma_2 = 0"
   ]
  },
  {
   "cell_type": "code",
   "execution_count": 13,
   "metadata": {},
   "outputs": [
    {
     "data": {
      "text/plain": [
       "array([[5.2, 6.2, 7.2],\n",
       "       [5.4, 6.4, 7.4],\n",
       "       [5.6, 6.6, 7.6],\n",
       "       [5.8, 6.8, 7.8]])"
      ]
     },
     "execution_count": 13,
     "metadata": {},
     "output_type": "execute_result"
    }
   ],
   "source": [
    "A = update_A(X, nu1, nu2, lambda_1, lambda_2, v, z,n,p,el1,el2,ek1,ek2)\n",
    "A"
   ]
  },
  {
   "cell_type": "code",
   "execution_count": 18,
   "metadata": {},
   "outputs": [],
   "source": [
    "al1 = np.dot(A.T,el1); al2 = np.dot(A.T,el2)\n",
    "ak1 = np.dot(A,ek1); ak2 = np.dot(A,ek2)"
   ]
  },
  {
   "cell_type": "code",
   "execution_count": 19,
   "metadata": {},
   "outputs": [
    {
     "data": {
      "text/plain": [
       "array([[-0. , -0.4, -0.2, -0. , -0.4, -0. ],\n",
       "       [-0. , -0.4, -0.2, -0. , -0.4, -0. ],\n",
       "       [-0. , -0.4, -0.2, -0. , -0.4, -0. ]])"
      ]
     },
     "execution_count": 19,
     "metadata": {},
     "output_type": "execute_result"
    }
   ],
   "source": [
    "vz = update_vz(lambda_1, lambda_2, gamma_1, gamma_2, nu1, nu2, w_l, u_k, al1, al2, ak1, ak2)\n",
    "v, z = vz[0], vz[1]\n",
    "v"
   ]
  },
  {
   "cell_type": "code",
   "execution_count": 20,
   "metadata": {},
   "outputs": [
    {
     "data": {
      "text/plain": [
       "array([[-1., -2., -1.],\n",
       "       [-1., -2., -1.],\n",
       "       [-1., -2., -1.],\n",
       "       [-1., -2., -1.]])"
      ]
     },
     "execution_count": 20,
     "metadata": {},
     "output_type": "execute_result"
    }
   ],
   "source": [
    "z"
   ]
  },
  {
   "cell_type": "code",
   "execution_count": 21,
   "metadata": {},
   "outputs": [],
   "source": [
    "lambdas = update_lambda(lambda_1,lambda_2,v, z, nu1,nu2, al1, al2, ak1, ak2)"
   ]
  },
  {
   "cell_type": "code",
   "execution_count": 22,
   "metadata": {},
   "outputs": [],
   "source": [
    "lambda_1, lambda_2 = lambdas[0],lambdas[1]"
   ]
  },
  {
   "cell_type": "code",
   "execution_count": 23,
   "metadata": {},
   "outputs": [
    {
     "data": {
      "text/plain": [
       "array([[0.2, 0. , 0. , 0.6, 0. , 0.2],\n",
       "       [0.2, 0. , 0. , 0.6, 0. , 0.2],\n",
       "       [0.2, 0. , 0. , 0.6, 0. , 0.2]])"
      ]
     },
     "execution_count": 23,
     "metadata": {},
     "output_type": "execute_result"
    }
   ],
   "source": [
    "lambda_1"
   ]
  },
  {
   "cell_type": "code",
   "execution_count": 24,
   "metadata": {},
   "outputs": [
    {
     "data": {
      "text/plain": [
       "array([[0., 0., 0.],\n",
       "       [0., 0., 0.],\n",
       "       [0., 0., 0.],\n",
       "       [0., 0., 0.]])"
      ]
     },
     "execution_count": 24,
     "metadata": {},
     "output_type": "execute_result"
    }
   ],
   "source": [
    "lambda_2"
   ]
  },
  {
   "cell_type": "code",
   "execution_count": null,
   "metadata": {},
   "outputs": [],
   "source": []
  }
 ],
 "metadata": {
  "kernelspec": {
   "display_name": "Python 3",
   "language": "python",
   "name": "python3"
  },
  "language_info": {
   "codemirror_mode": {
    "name": "ipython",
    "version": 3
   },
   "file_extension": ".py",
   "mimetype": "text/x-python",
   "name": "python",
   "nbconvert_exporter": "python",
   "pygments_lexer": "ipython3",
   "version": "3.6.6"
  }
 },
 "nbformat": 4,
 "nbformat_minor": 2
}
