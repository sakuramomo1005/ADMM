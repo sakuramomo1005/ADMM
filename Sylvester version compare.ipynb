{
 "cells": [
  {
   "cell_type": "markdown",
   "metadata": {},
   "source": [
    "### compare verison 1 and verison 2"
   ]
  },
  {
   "cell_type": "code",
   "execution_count": 3,
   "metadata": {},
   "outputs": [],
   "source": [
    "A = matrix(rnorm(3600,0,6),60,60)\n",
    "B = matrix(rnorm(360*360,0,6),360,360)\n",
    "X = matrix(rnorm(360*60,0,7),60,360)\n",
    "\n",
    "C = A%*% X + X%*% B\n",
    "XX = X"
   ]
  },
  {
   "cell_type": "markdown",
   "metadata": {},
   "source": [
    "old"
   ]
  },
  {
   "cell_type": "code",
   "execution_count": 12,
   "metadata": {},
   "outputs": [
    {
     "name": "stdout",
     "output_type": "stream",
     "text": [
      "[1] 2.658503e-16\n"
     ]
    },
    {
     "data": {
      "text/plain": [
       "Time difference of 0.4465392 secs"
      ]
     },
     "metadata": {},
     "output_type": "display_data"
    }
   ],
   "source": [
    "begin = Sys.time()\n",
    "res = sylvester0(A,B,C)\n",
    "print(sum(res - XX)^2)\n",
    "end = Sys.time()\n",
    "end - begin"
   ]
  },
  {
   "cell_type": "markdown",
   "metadata": {},
   "source": [
    "new"
   ]
  },
  {
   "cell_type": "code",
   "execution_count": 13,
   "metadata": {},
   "outputs": [
    {
     "name": "stdout",
     "output_type": "stream",
     "text": [
      "[1] -1.630492e-08\n"
     ]
    },
    {
     "data": {
      "text/plain": [
       "Time difference of 0.4140129 secs"
      ]
     },
     "metadata": {},
     "output_type": "display_data"
    }
   ],
   "source": [
    "begin = Sys.time()\n",
    "res = sylvester0(A,B,C)\n",
    "print(sum(res - XX))\n",
    "end = Sys.time()\n",
    "end - begin"
   ]
  },
  {
   "cell_type": "code",
   "execution_count": null,
   "metadata": {},
   "outputs": [],
   "source": []
  },
  {
   "cell_type": "code",
   "execution_count": null,
   "metadata": {},
   "outputs": [],
   "source": []
  },
  {
   "cell_type": "code",
   "execution_count": null,
   "metadata": {},
   "outputs": [],
   "source": []
  },
  {
   "cell_type": "code",
   "execution_count": 8,
   "metadata": {},
   "outputs": [],
   "source": [
    "sylvester= function(A, B, C, eps = 0.0001){\n",
    "  \n",
    "  library(MASS)\n",
    "  library(Matrix)\n",
    "  \n",
    "  A1 = Schur(A)\n",
    "  Q1 = A1$Q; R1 = A1$T\n",
    "  \n",
    "  A2 = Schur(B)\n",
    "  Q2 = A2$Q; R2 = A2$T \n",
    "  C = t(Q1) %*% C %*% Q2\n",
    "  \n",
    "  Rsq = R1 * R1\n",
    "  I = diag(dim(A)[1])\n",
    "  \n",
    "  k = 1\n",
    "  n = dim(R2)[1]\n",
    "  \n",
    "  while(k < n + 1){\n",
    "    if(k < n){\n",
    "      if(abs(R2[k+1, k]) < eps){\n",
    "        left = R1 + R2[k,k] * I\n",
    "        right = C[,k]\n",
    "        temp = matrix(0, dim(X)[1],1)\n",
    "        if(k == 1){\n",
    "          temp = temp\n",
    "        }else{\n",
    "          temp = (X[,1:(k-1)]) %*% matrix(R2[1:(k-1),k],k-1,1)\n",
    "        }\n",
    "        temp = matrix(temp, dim(C)[1],1)\n",
    "        X[,k] = ginv(left) %*% (right - temp)\n",
    "        # mytry = myTryCatch(solve(left))\n",
    "        #if(is.null(mytry$error) == 0){er = c(er,tt)}\n",
    "        k = k+1\n",
    "      }else{\n",
    "        r11 = R2[k,k]; r12 = R2[k, k+1]; r21 = R2[k+1, k]; r22 = R2[k+1, k+1]\n",
    "        temp2 = matrix(0, dim(X)[1],1);temp3=matrix(0, dim(X)[1],1)\n",
    "        if(k == 1){\n",
    "          temp2 = temp2\n",
    "          temp3 = temp3\n",
    "        }else{\n",
    "          temps = X[,1:(k-1)] %*% matrix(R2[1:(k-1),k:(k+1)],k-1,2)\n",
    "          temp2 = temps[,1]\n",
    "          temp3 = temps[,2]\n",
    "        }\n",
    "        b1 = C[,k] - temp2 \n",
    "        b2 = C[,k+1] - temp3\n",
    "        b1_prime = R1 %*% b1 + r22 * b1 - r21 * b2\n",
    "        b2_prime = R1 %*% b2 + r11 * b2 - r12 * b1\n",
    "        b_prime = matrix(0, dim(X)[1],2)\n",
    "        b_prime[,1] = b1_prime; b_prime[,2] = b2_prime\n",
    "        X[,k:(k+1)] = ginv(R1 %*% R1 + (r11 + r22) * R1 +\n",
    "                             (r11*r22 - r12*r21) * I) %*% b_prime \n",
    "        k = k+2\n",
    "      }\n",
    "    }else{\n",
    "      if(abs(R2[1, k]) > eps){\n",
    "        left = R1 + R2[k,k] * I\n",
    "        right = C[,k]\n",
    "        temp = matrix(0, dim(X)[1],1)\n",
    "        if(k == 1){\n",
    "          temp = temp\n",
    "        }else{\n",
    "          temp = (X[,1:(k-1)]) %*% matrix(R2[1:(k-1),k],k-1,1)\n",
    "        }\n",
    "        temp = matrix(temp, dim(C)[1],1)\n",
    "        X[,k] = ginv(left) %*% (right - temp)\n",
    "        k = k+1\n",
    "      }else{\n",
    "        R22 = R2\n",
    "        R22 = cbind(R2, rep(0,dim(R2)[1]))\n",
    "        R22 = rbind(R22,rep(0,dim(R2)[1]+1))\n",
    "        r11 = R22[k,k]; r12 = R22[k, k+1]; r21 = R22[k+1, k]; r22 = R22[k+1, k+1]\n",
    "        temp2 = matrix(0, dim(X)[1],1);temp3=matrix(0, dim(X)[1],1)\n",
    "        \n",
    "        if(k == 1){\n",
    "          temp2 = temp2\n",
    "          temp3 = temp3\n",
    "        }else{\n",
    "          temps = X[,1:(k-1)] %*% matrix(R22[1:(k-1),k:(k+1)],k-1,2)\n",
    "          temp2 = temps[,1]\n",
    "          temp3 = temps[,2]\n",
    "        }\n",
    "        \n",
    "        b1 = C[,k] - temp2 \n",
    "        b2 = - temp3\n",
    "        b1_prime = R1 %*% b1 + r22 * b1 - r21 * b2\n",
    "        b2_prime = R1 %*% b2 + r11 * b2 - r12 * b1\n",
    "        b_prime = matrix(0, dim(X)[1],2)\n",
    "        b_prime[,1] = b1_prime; b_prime[,2] = b2_prime\n",
    "        GOD = ginv(R1 %*% R1 + (r11 + r22) * R1 +\n",
    "                     (r11*r22 - r12*r21) * I) %*% b_prime \n",
    "        X[,k] = GOD[,1]\n",
    "        k = k+2\n",
    "      }\n",
    "    }\n",
    "  }\n",
    "  return(Q1 %*% X %*% t(Q2))\n",
    "}"
   ]
  },
  {
   "cell_type": "code",
   "execution_count": 9,
   "metadata": {},
   "outputs": [],
   "source": [
    "sylvester0 = function(A, B, C, eps = 0.0001){\n",
    "  \n",
    "  library(MASS)\n",
    "  library(Matrix)\n",
    "  \n",
    "  A1 = Schur(A)\n",
    "  Q1 = A1$Q; R1 = A1$T\n",
    "  \n",
    "  A2 = Schur(B)\n",
    "  Q2 = A2$Q; R2 = A2$T \n",
    "  C = t(Q1) %*% C %*% Q2\n",
    "  \n",
    "  Rsq = R1 * R1\n",
    "  I = diag(dim(A)[1])\n",
    "  \n",
    "  k = 1\n",
    "  n = dim(R2)[1]\n",
    "  \n",
    "  while(k < n + 1){\n",
    "    if(k < n){\n",
    "      if(abs(R2[k+1, k]) < eps){\n",
    "        left = R1 + R2[k,k] * I\n",
    "        right = C[,k]\n",
    "        temp = matrix(0, dim(X)[1],1)\n",
    "        if(k == 1){\n",
    "          temp = temp\n",
    "        }else{\n",
    "          for(i in 1:(k-1)){\n",
    "            temp = temp + X[,i] * R2[i,k]\n",
    "          }\n",
    "        }\n",
    "        temp = matrix(temp, dim(C)[1],1)\n",
    "        X[,k] = ginv(left) %*% (right - temp)\n",
    "        mytry = solve(left)\n",
    "        if(is.null(mytry) == 1){er = c(er,tt)}\n",
    "        k = k+1\n",
    "      }else{\n",
    "        r11 = R2[k,k]; r12 = R2[k, k+1]; r21 = R2[k+1, k]; r22 = R2[k+1, k+1]\n",
    "        temp2 = matrix(0, dim(X)[1],1);temp3=matrix(0, dim(X)[1],1)\n",
    "        if(k == 1){\n",
    "          temp2 = temp2\n",
    "          temp3 = temp3\n",
    "        }else{\n",
    "          for(i in 1:(k-1)){\n",
    "            temp2 = temp2 + X[,i] * R2[i,k]\n",
    "            temp3 = temp3 + X[,i] * R2[i,k+1]}\n",
    "        }\n",
    "        temp2 = matrix(temp2, dim(X)[1],1)\n",
    "        temp3 = matrix(temp3, dim(X)[1],1)\n",
    "        b1 = C[,k] - temp2 \n",
    "        b2 = C[,k+1] - temp3\n",
    "        b1_prime = R1 %*% b1 + r22 * b1 - r21 * b2\n",
    "        b2_prime = R1 %*% b2 + r11 * b2 - r12 * b1\n",
    "        b_prime = matrix(0, dim(X)[1],2)\n",
    "        b_prime[,1] = b1_prime; b_prime[,2] = b2_prime\n",
    "        X[,k:(k+1)] = ginv(R1 %*% R1 + (r11 + r22) * R1 +\n",
    "                             (r11*r22 - r12*r21) * I) %*% b_prime \n",
    "        k = k+2\n",
    "      }\n",
    "    }else{\n",
    "      if(abs(R2[1, k]) > eps){\n",
    "        left = R1 + R2[k,k] * I\n",
    "        right = C[,k]\n",
    "        temp = matrix(0, dim(X)[1],1)\n",
    "        if(k == 1){\n",
    "          temp = temp\n",
    "        }else{\n",
    "          for(i in 1:(k-1)){\n",
    "            temp = temp + X[,i] * R2[i,k]\n",
    "          }\n",
    "        }\n",
    "        temp = matrix(temp, dim(C)[1],1)\n",
    "        X[,k] = ginv(left) %*% (right - temp)\n",
    "        k = k+1\n",
    "      }else{\n",
    "        R22 = R2\n",
    "        R22 = cbind(R2, rep(0,dim(R2)[1]))\n",
    "        R22 = rbind(R22,rep(0,dim(R2)[1]+1))\n",
    "        r11 = R22[k,k]; r12 = R22[k, k+1]; r21 = R22[k+1, k]; r22 = R22[k+1, k+1]\n",
    "        temp2 = matrix(0, dim(X)[1],1);temp3=matrix(0, dim(X)[1],1)\n",
    "        for(i in 1:(k-1)){\n",
    "          temp2 = temp2 + X[,i] * R22[i,k]\n",
    "          temp3 = temp3 + X[,i] * R22[i,k+1]}\n",
    "        temp2 = matrix(temp2, dim(X)[1],1)\n",
    "        temp3 = matrix(temp3, dim(X)[1],1)\n",
    "        b1 = C[,k] - temp2 \n",
    "        b2 = - temp3\n",
    "        b1_prime = R1 %*% b1 + r22 * b1 - r21 * b2\n",
    "        b2_prime = R1 %*% b2 + r11 * b2 - r12 * b1\n",
    "        b_prime = matrix(0, dim(X)[1],2)\n",
    "        b_prime[,1] = b1_prime; b_prime[,2] = b2_prime\n",
    "        GOD = ginv(R1 %*% R1 + (r11 + r22) * R1 +\n",
    "                     (r11*r22 - r12*r21) * I) %*% b_prime \n",
    "        X[,k] = GOD[,1]\n",
    "        k = k+2\n",
    "      }\n",
    "    }\n",
    "  }\n",
    "  return(Q1 %*% X %*% t(Q2))\n",
    "}"
   ]
  },
  {
   "cell_type": "code",
   "execution_count": null,
   "metadata": {},
   "outputs": [],
   "source": []
  }
 ],
 "metadata": {
  "kernelspec": {
   "display_name": "R",
   "language": "R",
   "name": "ir"
  },
  "language_info": {
   "codemirror_mode": "r",
   "file_extension": ".r",
   "mimetype": "text/x-r-source",
   "name": "R",
   "pygments_lexer": "r",
   "version": "3.4.3"
  }
 },
 "nbformat": 4,
 "nbformat_minor": 2
}
