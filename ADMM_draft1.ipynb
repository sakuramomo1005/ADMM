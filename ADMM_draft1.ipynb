{
 "cells": [
  {
   "cell_type": "markdown",
   "metadata": {},
   "source": [
    "# ADMM\n",
    "\n",
    "* draft 1\n",
    "\n",
    "* date: 2018/10/16"
   ]
  },
  {
   "cell_type": "markdown",
   "metadata": {},
   "source": [
    "### Loadmap: \n",
    "\n",
    "This file contains the following functions and associated examples: \n",
    "\n",
    "* L_num: The function to generate $l = (l_1, l_2)$, where $l_1 < l_2$\n",
    "\n",
    "* Sylvester equation \n",
    "\n",
    "* update_A: function to update A\n",
    "\n",
    "* prox: function to calculate proximal map \n",
    "\n",
    "* update_vz: function for update V and Z\n",
    "\n",
    "* update_lambda: function for update $lambda_1$ and $lambda_2$\n",
    "\n",
    "* Bi_ADMM: final admm function"
   ]
  },
  {
   "cell_type": "markdown",
   "metadata": {},
   "source": [
    "### 1. L_num\n",
    "\n",
    "The function to generate $l = (l_1, l_2)$, where $l_1 < l_2$"
   ]
  },
  {
   "cell_type": "code",
   "execution_count": 1,
   "metadata": {},
   "outputs": [],
   "source": [
    "L_num=function(n){\n",
    "  library(tidyr)\n",
    "  L=matrix(0,n,n)\n",
    "  for(i in 1:n){\n",
    "    for(j in 1:n){\n",
    "      L[i,j] = paste(i,',',j)\n",
    "    }\n",
    "  }\n",
    "  l=c(L[upper.tri(L)])\n",
    "  ll=data.frame(l)\n",
    "  \n",
    "  LL=ll %>% separate(l,c('l1','l2'),sep=',')\n",
    "  LL=data.frame(l1=as.numeric(LL[,'l1']),l2=as.numeric(LL[,'l2']))\n",
    "  return(LL)\n",
    "}"
   ]
  },
  {
   "cell_type": "markdown",
   "metadata": {},
   "source": [
    "### 2. Sylvester equation"
   ]
  },
  {
   "cell_type": "code",
   "execution_count": 2,
   "metadata": {},
   "outputs": [],
   "source": [
    "sylvester = function(A, B, C, eps = 0.0001){\n",
    "   \n",
    "    library(MASS)\n",
    "    library(Matrix)\n",
    "      \n",
    "    A1 = Schur(A)\n",
    "    Q1 = A1$Q; R1 = A1$T\n",
    "  \n",
    "    A2 = Schur(B)\n",
    "    Q2 = A2$Q; R2 = A2$T \n",
    "    C = t(Q1) %*% C %*% Q2\n",
    "  \n",
    "    Rsq = R1 * R1\n",
    "    I = diag(dim(A)[1])\n",
    "  \n",
    "    k = 1\n",
    "    n = dim(R2)[1]\n",
    "    \n",
    "    while(k < n + 1){\n",
    "    if(k < n){\n",
    "      if(abs(R2[k+1, k]) < eps){\n",
    "        left = R1 + R2[k,k] * I\n",
    "        right = C[,k]\n",
    "        temp = matrix(0, dim(X)[1],1)\n",
    "        if(k == 1){\n",
    "          temp = temp\n",
    "        }else{\n",
    "          for(i in 1:(k-1)){\n",
    "            temp = temp + X[,i] * R2[i,k]\n",
    "          }\n",
    "        }\n",
    "        temp = matrix(temp, dim(C)[1],1)\n",
    "        X[,k] = ginv(left) %*% (right - temp)\n",
    "        mytry = myTryCatch(solve(left))\n",
    "        if(is.null(mytry$error) == 0){er = c(er,tt)}\n",
    "        k = k+1\n",
    "      }else{\n",
    "        r11 = R2[k,k]; r12 = R2[k, k+1]; r21 = R2[k+1, k]; r22 = R2[k+1, k+1]\n",
    "        temp2 = matrix(0, dim(X)[1],1);temp3=matrix(0, dim(X)[1],1)\n",
    "        if(k == 1){\n",
    "          temp2 = temp2\n",
    "          temp3 = temp3\n",
    "        }else{\n",
    "          for(i in 1:(k-1)){\n",
    "            temp2 = temp2 + X[,i] * R2[i,k]\n",
    "            temp3 = temp3 + X[,i] * R2[i,k+1]}\n",
    "        }\n",
    "        temp2 = matrix(temp2, dim(X)[1],1)\n",
    "        temp3 = matrix(temp3, dim(X)[1],1)\n",
    "        b1 = C[,k] - temp2 \n",
    "        b2 = C[,k+1] - temp3\n",
    "        b1_prime = R1 %*% b1 + r22 * b1 - r21 * b2\n",
    "        b2_prime = R1 %*% b2 + r11 * b2 - r12 * b1\n",
    "        b_prime = matrix(0, dim(X)[1],2)\n",
    "        b_prime[,1] = b1_prime; b_prime[,2] = b2_prime\n",
    "        X[,k:(k+1)] = ginv(R1 %*% R1 + (r11 + r22) * R1 +\n",
    "                             (r11*r22 - r12*r21) * I) %*% b_prime \n",
    "        k = k+2\n",
    "      }\n",
    "    }else{\n",
    "      if(abs(R2[1, k]) > eps){\n",
    "        left = R1 + R2[k,k] * I\n",
    "        right = C[,k]\n",
    "        temp = matrix(0, dim(X)[1],1)\n",
    "        if(k == 1){\n",
    "          temp = temp\n",
    "        }else{\n",
    "          for(i in 1:(k-1)){\n",
    "            temp = temp + X[,i] * R2[i,k]\n",
    "          }\n",
    "        }\n",
    "        temp = matrix(temp, dim(C)[1],1)\n",
    "        X[,k] = ginv(left) %*% (right - temp)\n",
    "        k = k+1\n",
    "      }else{\n",
    "        R22 = R2\n",
    "        R22 = cbind(R2, rep(0,dim(R2)[1]))\n",
    "        R22 = rbind(R22,rep(0,dim(R2)[1]+1))\n",
    "        r11 = R22[k,k]; r12 = R22[k, k+1]; r21 = R22[k+1, k]; r22 = R22[k+1, k+1]\n",
    "        temp2 = matrix(0, dim(X)[1],1);temp3=matrix(0, dim(X)[1],1)\n",
    "        for(i in 1:(k-1)){\n",
    "          temp2 = temp2 + X[,i] * R22[i,k]\n",
    "          temp3 = temp3 + X[,i] * R22[i,k+1]}\n",
    "        temp2 = matrix(temp2, dim(X)[1],1)\n",
    "        temp3 = matrix(temp3, dim(X)[1],1)\n",
    "        b1 = C[,k] - temp2 \n",
    "        b2 = - temp3\n",
    "        b1_prime = R1 %*% b1 + r22 * b1 - r21 * b2\n",
    "        b2_prime = R1 %*% b2 + r11 * b2 - r12 * b1\n",
    "        b_prime = matrix(0, dim(X)[1],2)\n",
    "        b_prime[,1] = b1_prime; b_prime[,2] = b2_prime\n",
    "        GOD = ginv(R1 %*% R1 + (r11 + r22) * R1 +\n",
    "                     (r11*r22 - r12*r21) * I) %*% b_prime \n",
    "        X[,k] = GOD[,1]\n",
    "        k = k+2\n",
    "      }\n",
    "    }\n",
    "  }\n",
    "  return(Q1 %*% X %*% t(Q2))\n",
    "}"
   ]
  },
  {
   "cell_type": "markdown",
   "metadata": {},
   "source": [
    "# 3. Update A"
   ]
  },
  {
   "cell_type": "markdown",
   "metadata": {},
   "source": [
    "To update A, we need to calculate the:\n",
    "\n",
    "$$AM + NA = C$$\n",
    "\n",
    "Where:\n",
    "\n",
    "* M: $I_n + \\nu_1 \\sum_{k \\in \\epsilon_1} (e_{l_1} - e_{l_2})(e_{l_1} - e_{2_2})^T$\n",
    "  \n",
    "  + $I_n$ is (n,n), $e_l$ is (n,n), M is (n,n) matrix\n",
    "\n",
    "\n",
    "* N: $\\nu_2 \\sum_{l \\in \\epsilon_2}(e_{k_1} - e_{k_2})(e_{k_1} - e_{k_2})^T$\n",
    "  \n",
    "  + $e_k$ is (p,p), N is (p,p) matrix\n",
    "\n",
    "\n",
    "* C: $X + \\sum_{l \\in \\epsilon_1} (e_{l1} - e_{l_2})(\\lambda_{l1} + \\nu_1 v_l)^T + \n",
    "\\sum_{k \\in \\epsilon_2} (\\lambda_{k2} + \\nu_2 z_k)(e_{k1} - e_{k_2})^T$\n"
   ]
  },
  {
   "cell_type": "code",
   "execution_count": 3,
   "metadata": {},
   "outputs": [],
   "source": [
    "library(MASS)\n",
    "library(Matrix)"
   ]
  },
  {
   "cell_type": "code",
   "execution_count": 4,
   "metadata": {},
   "outputs": [],
   "source": [
    "update_A = function(X, nu1, nu2, lambda_1, lambda_2, v, z){\n",
    "  library(MASS)\n",
    "  library(Matrix)\n",
    "  n=dim(X)[1]; p=dim(X)[2]\n",
    "  eplison_n=L_num(n)\n",
    "  eplison_p=L_num(p)\n",
    "  \n",
    "  En=matrix(0,n,n)\n",
    "  Ep=matrix(0,p,p)\n",
    "  \n",
    "  # calculate \\sum_{l \\in \\epsilon_1}(e_{l1} - e_{l_2})(e_{l1} - e_{l_2})^T, which is En\n",
    "  for(i in 1:dim(eplison_n)[1]){\n",
    "    l1=eplison_n[i,'l1']\n",
    "    l2=eplison_n[i,'l2']\n",
    "    el1=matrix(rep(0,n),n,1)\n",
    "    el2=matrix(rep(0,n),n,1)\n",
    "    el1[l1,1]=1;el2[l2,1]=1\n",
    "    En=En+(el1-el2) %*% t(el1-el2)\n",
    "  }\n",
    "  \n",
    "  # calculate \\sum_{k \\in \\epsilon_2} (e_{k1} - e_{k_2})(e_{k1} - e_{k_2})^T, which is Ep\n",
    "  for(i in 1:dim(eplison_p)[1]){\n",
    "    l1=eplison_p[n,'l1']\n",
    "    l2=eplison_p[n,'l2']\n",
    "    el1=matrix(rep(0,p),p,1)\n",
    "    el2=matrix(rep(0,p),p,1)\n",
    "    el1[l1,1]=1;el2[l2,1]=1\n",
    "    Ep=Ep+(el1-el2) %*% t(el1-el2)\n",
    "  }\n",
    "  \n",
    "  M = diag(1,n,n) + nu1 * En\n",
    "  \n",
    "  N = nu2 * Ep\n",
    "  \n",
    "  # C2 is the second part of C, which is \\sum_{l \\in \\epsilon_1} (e_{l1} - e_{l_2})(\\lambda_{l1} + \\nu_1 v_l)^T \n",
    "  C2 = matrix(0,n,p) \n",
    "  for(i in 1:dim(eplison_n)[1]){\n",
    "    l1=eplison_n[i,'l1']\n",
    "    l2=eplison_n[i,'l2']\n",
    "    el1=matrix(rep(0,n),n,1)\n",
    "    el2=matrix(rep(0,n),n,1)\n",
    "    el1[l1,1]=1;el2[l2,1]=1\n",
    "    C2 = C2 + (el1-el2) %*% t(lambda_1[,i] + nu1 * v[,i])\n",
    "  }\n",
    "  \n",
    "  # C3 is the third part of C, which is \\sum_{k \\in \\epsilon_2} (\\lambda_{k2} + \\nu_2 z_k)(e_{k1} - e_{k_2})^T\n",
    "  C3 = matrix(0,n,p)\n",
    "  for(i in 1:dim(eplison_p)[1]){\n",
    "    l1=eplison_p[i,'l1']\n",
    "    l2=eplison_p[i,'l2']\n",
    "    el1=matrix(rep(0,p),p,1)\n",
    "    el2=matrix(rep(0,p),p,1)\n",
    "    el1[l1,1]=1;el2[l2,1]=1\n",
    "    C3 = C3+(lambda_2[,i] + nu2 * z[,i]) %*% t(el1-el2)\n",
    "  }\n",
    "  \n",
    "  C = X +  C2 + C3  \n",
    "  \n",
    "  A = sylvester(M,N,C)\n",
    "  \n",
    "  return(A)\n",
    "}"
   ]
  },
  {
   "cell_type": "markdown",
   "metadata": {},
   "source": [
    "### Test whether the function can work "
   ]
  },
  {
   "cell_type": "code",
   "execution_count": 8,
   "metadata": {},
   "outputs": [],
   "source": [
    "X = matrix(rnorm(10000),100,100)\n",
    "n=dim(X)[1]; p=dim(X)[2]\n",
    "eplison_p=L_num(p)\n",
    "eplison_n=L_num(n)\n",
    "nu1=0.001; nu2=0.001\n",
    "lambda_1 = matrix(1,p,dim(eplison_n)[1])\n",
    "v = matrix(1,p,dim(eplison_n)[1])\n",
    "lambda_2 = matrix(1,n,dim(eplison_p)[1])\n",
    "z = matrix(1,n,dim(eplison_p)[1])"
   ]
  },
  {
   "cell_type": "code",
   "execution_count": 9,
   "metadata": {},
   "outputs": [],
   "source": [
    "A=update_A(X, nu1, nu2, lambda_1, lambda_2, v, z)"
   ]
  },
  {
   "cell_type": "code",
   "execution_count": 10,
   "metadata": {},
   "outputs": [
    {
     "data": {
      "text/html": [
       "<table>\n",
       "<tbody>\n",
       "\t<tr><td>188.5100</td><td>188.7552</td><td>185.1831</td><td>183.4560</td><td>180.7195</td><td>179.6728</td><td>178.5762</td><td>176.5232</td><td>167.3008</td><td>170.4056</td></tr>\n",
       "\t<tr><td>186.6635</td><td>184.7385</td><td>182.9870</td><td>183.4884</td><td>178.8145</td><td>178.8810</td><td>174.5038</td><td>172.8774</td><td>166.8182</td><td>168.2224</td></tr>\n",
       "\t<tr><td>186.9021</td><td>184.2826</td><td>180.3677</td><td>179.0471</td><td>177.7816</td><td>176.2282</td><td>175.5284</td><td>170.4522</td><td>163.3721</td><td>169.7288</td></tr>\n",
       "\t<tr><td>183.8371</td><td>181.1017</td><td>179.3130</td><td>176.5568</td><td>176.0812</td><td>172.5946</td><td>172.4373</td><td>170.0004</td><td>161.8405</td><td>166.0663</td></tr>\n",
       "\t<tr><td>182.2721</td><td>178.9474</td><td>177.5913</td><td>176.9632</td><td>173.8469</td><td>172.7803</td><td>169.8747</td><td>168.3326</td><td>160.4031</td><td>165.8018</td></tr>\n",
       "\t<tr><td>181.8885</td><td>177.8572</td><td>176.6133</td><td>173.9047</td><td>172.6792</td><td>171.5086</td><td>168.0026</td><td>167.0089</td><td>157.5593</td><td>163.1231</td></tr>\n",
       "\t<tr><td>178.3806</td><td>176.1053</td><td>174.4986</td><td>171.3763</td><td>171.8792</td><td>167.8916</td><td>168.2031</td><td>164.3742</td><td>157.1445</td><td>159.3589</td></tr>\n",
       "\t<tr><td>175.3389</td><td>175.5640</td><td>172.2470</td><td>171.9170</td><td>166.5043</td><td>166.3545</td><td>164.3957</td><td>162.0513</td><td>155.4987</td><td>157.3040</td></tr>\n",
       "\t<tr><td>174.8373</td><td>171.5222</td><td>170.7324</td><td>168.0020</td><td>165.6907</td><td>164.2803</td><td>162.0026</td><td>161.4708</td><td>153.4962</td><td>157.2051</td></tr>\n",
       "\t<tr><td>171.9407</td><td>170.9627</td><td>169.9343</td><td>167.5116</td><td>163.9649</td><td>162.6189</td><td>160.6231</td><td>159.8653</td><td>151.3443</td><td>153.3174</td></tr>\n",
       "</tbody>\n",
       "</table>\n"
      ],
      "text/latex": [
       "\\begin{tabular}{llllllllll}\n",
       "\t 188.5100 & 188.7552 & 185.1831 & 183.4560 & 180.7195 & 179.6728 & 178.5762 & 176.5232 & 167.3008 & 170.4056\\\\\n",
       "\t 186.6635 & 184.7385 & 182.9870 & 183.4884 & 178.8145 & 178.8810 & 174.5038 & 172.8774 & 166.8182 & 168.2224\\\\\n",
       "\t 186.9021 & 184.2826 & 180.3677 & 179.0471 & 177.7816 & 176.2282 & 175.5284 & 170.4522 & 163.3721 & 169.7288\\\\\n",
       "\t 183.8371 & 181.1017 & 179.3130 & 176.5568 & 176.0812 & 172.5946 & 172.4373 & 170.0004 & 161.8405 & 166.0663\\\\\n",
       "\t 182.2721 & 178.9474 & 177.5913 & 176.9632 & 173.8469 & 172.7803 & 169.8747 & 168.3326 & 160.4031 & 165.8018\\\\\n",
       "\t 181.8885 & 177.8572 & 176.6133 & 173.9047 & 172.6792 & 171.5086 & 168.0026 & 167.0089 & 157.5593 & 163.1231\\\\\n",
       "\t 178.3806 & 176.1053 & 174.4986 & 171.3763 & 171.8792 & 167.8916 & 168.2031 & 164.3742 & 157.1445 & 159.3589\\\\\n",
       "\t 175.3389 & 175.5640 & 172.2470 & 171.9170 & 166.5043 & 166.3545 & 164.3957 & 162.0513 & 155.4987 & 157.3040\\\\\n",
       "\t 174.8373 & 171.5222 & 170.7324 & 168.0020 & 165.6907 & 164.2803 & 162.0026 & 161.4708 & 153.4962 & 157.2051\\\\\n",
       "\t 171.9407 & 170.9627 & 169.9343 & 167.5116 & 163.9649 & 162.6189 & 160.6231 & 159.8653 & 151.3443 & 153.3174\\\\\n",
       "\\end{tabular}\n"
      ],
      "text/markdown": [
       "\n",
       "| 188.5100 | 188.7552 | 185.1831 | 183.4560 | 180.7195 | 179.6728 | 178.5762 | 176.5232 | 167.3008 | 170.4056 | \n",
       "| 186.6635 | 184.7385 | 182.9870 | 183.4884 | 178.8145 | 178.8810 | 174.5038 | 172.8774 | 166.8182 | 168.2224 | \n",
       "| 186.9021 | 184.2826 | 180.3677 | 179.0471 | 177.7816 | 176.2282 | 175.5284 | 170.4522 | 163.3721 | 169.7288 | \n",
       "| 183.8371 | 181.1017 | 179.3130 | 176.5568 | 176.0812 | 172.5946 | 172.4373 | 170.0004 | 161.8405 | 166.0663 | \n",
       "| 182.2721 | 178.9474 | 177.5913 | 176.9632 | 173.8469 | 172.7803 | 169.8747 | 168.3326 | 160.4031 | 165.8018 | \n",
       "| 181.8885 | 177.8572 | 176.6133 | 173.9047 | 172.6792 | 171.5086 | 168.0026 | 167.0089 | 157.5593 | 163.1231 | \n",
       "| 178.3806 | 176.1053 | 174.4986 | 171.3763 | 171.8792 | 167.8916 | 168.2031 | 164.3742 | 157.1445 | 159.3589 | \n",
       "| 175.3389 | 175.5640 | 172.2470 | 171.9170 | 166.5043 | 166.3545 | 164.3957 | 162.0513 | 155.4987 | 157.3040 | \n",
       "| 174.8373 | 171.5222 | 170.7324 | 168.0020 | 165.6907 | 164.2803 | 162.0026 | 161.4708 | 153.4962 | 157.2051 | \n",
       "| 171.9407 | 170.9627 | 169.9343 | 167.5116 | 163.9649 | 162.6189 | 160.6231 | 159.8653 | 151.3443 | 153.3174 | \n",
       "\n",
       "\n"
      ],
      "text/plain": [
       "      [,1]     [,2]     [,3]     [,4]     [,5]     [,6]     [,7]     [,8]    \n",
       " [1,] 188.5100 188.7552 185.1831 183.4560 180.7195 179.6728 178.5762 176.5232\n",
       " [2,] 186.6635 184.7385 182.9870 183.4884 178.8145 178.8810 174.5038 172.8774\n",
       " [3,] 186.9021 184.2826 180.3677 179.0471 177.7816 176.2282 175.5284 170.4522\n",
       " [4,] 183.8371 181.1017 179.3130 176.5568 176.0812 172.5946 172.4373 170.0004\n",
       " [5,] 182.2721 178.9474 177.5913 176.9632 173.8469 172.7803 169.8747 168.3326\n",
       " [6,] 181.8885 177.8572 176.6133 173.9047 172.6792 171.5086 168.0026 167.0089\n",
       " [7,] 178.3806 176.1053 174.4986 171.3763 171.8792 167.8916 168.2031 164.3742\n",
       " [8,] 175.3389 175.5640 172.2470 171.9170 166.5043 166.3545 164.3957 162.0513\n",
       " [9,] 174.8373 171.5222 170.7324 168.0020 165.6907 164.2803 162.0026 161.4708\n",
       "[10,] 171.9407 170.9627 169.9343 167.5116 163.9649 162.6189 160.6231 159.8653\n",
       "      [,9]     [,10]   \n",
       " [1,] 167.3008 170.4056\n",
       " [2,] 166.8182 168.2224\n",
       " [3,] 163.3721 169.7288\n",
       " [4,] 161.8405 166.0663\n",
       " [5,] 160.4031 165.8018\n",
       " [6,] 157.5593 163.1231\n",
       " [7,] 157.1445 159.3589\n",
       " [8,] 155.4987 157.3040\n",
       " [9,] 153.4962 157.2051\n",
       "[10,] 151.3443 153.3174"
      ]
     },
     "metadata": {},
     "output_type": "display_data"
    }
   ],
   "source": [
    "A[1:10,1:10]"
   ]
  },
  {
   "cell_type": "markdown",
   "metadata": {},
   "source": [
    "# 4. Update V and Z"
   ]
  },
  {
   "cell_type": "markdown",
   "metadata": {},
   "source": [
    "* calculate the proximal mapping following Eric's formula (try $l2$ norm first):\n",
    "\n",
    "The formula is: \n",
    "\n",
    "$$prox_{\\sigma \\Omega} (v) = [1 - \\frac{\\sigma}{||v||_2}]_+ v$$"
   ]
  },
  {
   "cell_type": "code",
   "execution_count": 11,
   "metadata": {},
   "outputs": [],
   "source": [
    "prox = function(v,sigma){\n",
    "   return(max(1-sigma/sum(v %*% t(v)),0) %*% v)\n",
    "}"
   ]
  },
  {
   "cell_type": "code",
   "execution_count": 12,
   "metadata": {},
   "outputs": [
    {
     "data": {
      "text/html": [
       "<table>\n",
       "<tbody>\n",
       "\t<tr><td>0.9995556</td><td>1.999111 </td><td>2.998667 </td><td>3.998222 </td><td>4.997778 </td></tr>\n",
       "</tbody>\n",
       "</table>\n"
      ],
      "text/latex": [
       "\\begin{tabular}{lllll}\n",
       "\t 0.9995556 & 1.999111  & 2.998667  & 3.998222  & 4.997778 \\\\\n",
       "\\end{tabular}\n"
      ],
      "text/markdown": [
       "\n",
       "| 0.9995556 | 1.999111  | 2.998667  | 3.998222  | 4.997778  | \n",
       "\n",
       "\n"
      ],
      "text/plain": [
       "     [,1]      [,2]     [,3]     [,4]     [,5]    \n",
       "[1,] 0.9995556 1.999111 2.998667 3.998222 4.997778"
      ]
     },
     "metadata": {},
     "output_type": "display_data"
    }
   ],
   "source": [
    "v = 1:5\n",
    "prox(v, 0.1)"
   ]
  },
  {
   "cell_type": "code",
   "execution_count": 13,
   "metadata": {},
   "outputs": [],
   "source": [
    "dist_weight <- function(X, phi){\n",
    "  dist_X <- as.numeric(dist(X))\n",
    "  return(exp(- phi * dist_X^2))\n",
    "}"
   ]
  },
  {
   "cell_type": "code",
   "execution_count": 14,
   "metadata": {},
   "outputs": [],
   "source": [
    "tri2vec = function(i,j,n) {\n",
    "  return(n*(i-1) - i*(i-1)/2 + j -i)\n",
    "}"
   ]
  },
  {
   "cell_type": "code",
   "execution_count": 15,
   "metadata": {},
   "outputs": [],
   "source": [
    "knn_weights <- function(w,k,n) {\n",
    "  i <- 1\n",
    "  neighbors <- tri2vec(i,(i+1):n,n)\n",
    "  keep <- neighbors[sort(w[neighbors],decreasing=TRUE,index.return=TRUE)$ix[1:k]]\n",
    "  for (i in 2:(n-1)) {\n",
    "    group_A <- tri2vec(i,(i+1):n,n)\n",
    "    group_B <- tri2vec(1:(i-1),i,n)\n",
    "    neighbors <- c(group_A,group_B)\n",
    "    knn <- neighbors[sort(w[neighbors],decreasing=TRUE,index.return=TRUE)$ix[1:k]]\n",
    "    keep <- union(knn,keep)\n",
    "  }\n",
    "  i <- n\n",
    "  neighbors <- tri2vec(1:(i-1),i,n)\n",
    "  knn <- neighbors[sort(w[neighbors],decreasing=TRUE,index.return=TRUE)$ix[1:k]]\n",
    "  keep <- union(knn,keep)\n",
    "  w[-keep] <- 0\n",
    "  return(w)\n",
    "}"
   ]
  },
  {
   "cell_type": "code",
   "execution_count": 16,
   "metadata": {},
   "outputs": [],
   "source": [
    "update_vz = function(X, A, lambda_1, lambda_2, gamma_1, gamma_2, nu1, nu2){\n",
    "  \n",
    "  n=dim(X)[1]; p=dim(X)[2]\n",
    "  eplison_n=L_num(n)\n",
    "  eplison_p=L_num(p)\n",
    " \n",
    "  w <- dist_weight(X / sqrt(p),phi = 0.5)\n",
    "  w_l <- knn_weights(w,k = 5,n)\n",
    "  \n",
    "  u = dist_weight(t(X) / sqrt(n),phi = 0.5)\n",
    "  u_k <- knn_weights(u,k = 5,p)\n",
    "  \n",
    "  for(i in 1:dim(eplison_n)[1]){\n",
    "    l1=eplison_n[i,'l1']\n",
    "    l2=eplison_n[i,'l2']\n",
    "    a_l1 = A[l1,]; a_l2 = A[l2,]\n",
    "    v_temp = a_l1 - a_l2 + 1/nu1 * lambda_1[,i]\n",
    "    sigma_1l = gamma_1 * w_l[i]/nu1\n",
    "    v[,i] = prox(v_temp,sigma_1l)\n",
    "  }\n",
    "  \n",
    "  for(i in 1:dim(eplison_p)[1]){\n",
    "    l1=eplison_p[i,'l1']\n",
    "    l2=eplison_p[i,'l2']\n",
    "    a_l1 = A[,l1]; a_l2 = A[,l2]\n",
    "    v_temp = a_l1 - a_l2 + 1/nu2 * lambda_2[,i]\n",
    "    #u_k = exp(-0.5 * (t(X[,l1] - X[,l2]) %*% (X[,l1] - X[,l2])))\n",
    "    sigma_2k = gamma_2 * u_k[i]/nu2\n",
    "    z[,i] = prox(v_temp,sigma_2k)\n",
    "  }\n",
    "  \n",
    "  return(list(v = v, z = z))\n",
    "}\n",
    "\n"
   ]
  },
  {
   "cell_type": "markdown",
   "metadata": {},
   "source": [
    "# 5. Update $\\lambda_1$, $\\lambda_2$"
   ]
  },
  {
   "cell_type": "markdown",
   "metadata": {},
   "source": [
    "$$\\lambda_{1l} = \\lambda_{1l} + \\nu_1 (v_l - \\alpha_{l1} + \\alpha_{l2})$$\n",
    "\n",
    "$$\\lambda_{k2} = \\lambda_{k2} + \\nu_2 (z_k - \\alpha_{k1} + \\alpha_{k2})$$\n",
    "\n",
    "* $\\lambda_{1l}$ is a matrix (p, n(n-1)/2)\n",
    "\n",
    "* $\\lambda_{k2}$ is a matrix (n, p(p-1)/2)"
   ]
  },
  {
   "cell_type": "code",
   "execution_count": 17,
   "metadata": {},
   "outputs": [],
   "source": [
    "update_lambda=function(X, A, nu1, nu2,v, z){\n",
    "  n = dim(X)[1]; p = dim(X)[2]\n",
    "  eplison_p = L_num(p)\n",
    "  eplison_n = L_num(n)\n",
    "    # update lambda 1\n",
    "  for(i in 1:dim(eplison_n)[1]){\n",
    "    l1=eplison_n[i,'l1']\n",
    "    l2=eplison_n[i,'l2']\n",
    "    a_l1 = matrix(A[l1,],p,1)\n",
    "    a_l2 = matrix(A[l2,],p,1)\n",
    "    lambda_1[,i] = lambda_1[,i] + nu1 * (v[,i] - a_l1 + a_l2)\n",
    "  } \n",
    "    # update lambda 2\n",
    "  for(i in 1:dim(eplison_p)[1]){\n",
    "    l1=eplison_n[i,'l1']\n",
    "    l2=eplison_n[i,'l2']\n",
    "    a_k1 = matrix(A[,l1],n,1)\n",
    "    a_k2 = matrix(A[,l2],n,1)\n",
    "    lambda_2[,i] = lambda_2[,i] + nu2 * (z[,i] - a_k1 + a_k2)\n",
    "  }\n",
    "  return(lambda=list(lambda_1,lambda_2))\n",
    "}\n"
   ]
  },
  {
   "cell_type": "markdown",
   "metadata": {},
   "source": [
    "# ADMM function\n",
    "\n",
    "Combine previous function together to correct ADMM function"
   ]
  },
  {
   "cell_type": "code",
   "execution_count": 18,
   "metadata": {},
   "outputs": [],
   "source": [
    "Bi_ADMM = function(X, nu1, nu2, lambda_1, lambda_2, v, z, gamma_1, gamma_2, e = 0.001){\n",
    "  A = X; \n",
    "  for(iter in 1: 100){\n",
    "    A_old = A; v_old = v; z_old = z; lambda_1_old = lambda_1; lambda_2_old = lambda_2\n",
    "      \n",
    "      # update A \n",
    "    A = update_A(X, nu1, nu2, lambda_1, lambda_2, v, z)\n",
    "    \n",
    "      # update V and Z\n",
    "    vz = update_vz(X, A, lambda_1, lambda_2, gamma_1, gamma_2, nu1, nu2)\n",
    "    v = vz[[1]]\n",
    "    z = vz[[2]]\n",
    "    \n",
    "      # update lambda_1 and lambda_2 \n",
    "    lambda = update_lambda(X, A, nu1, nu2,v, z)\n",
    "    lambda_1 = lambda[[1]]\n",
    "    lambda_2 = lambda[[2]]\n",
    "    \n",
    "      # whether coverage\n",
    "    if(sum(abs(A - A_old)) < e & \n",
    "       sum(abs(v - v_old)) < e & \n",
    "       sum(abs(z - z_old)) < e & \n",
    "       sum(abs(lambda_1 - lambda_1_old)) < e & \n",
    "       sum(abs(lambda_2 - lambda_2_old)) < e){\n",
    "      return(list(A = A))\n",
    "      break\n",
    "    }\n",
    "  }\n",
    "  if(iter == 100){print('not converage within 100 iters')\n",
    "    return(A)}\n",
    "}"
   ]
  },
  {
   "cell_type": "markdown",
   "metadata": {},
   "source": [
    "## Test "
   ]
  },
  {
   "cell_type": "code",
   "execution_count": 19,
   "metadata": {},
   "outputs": [],
   "source": [
    "nu1 = 0.001; nu2 = 0.001; \n",
    "\n",
    "X = cbind(rnorm(10,3,1), rnorm(10,-3,1),rep(0,20),rep(0,20),rep(0,20),rep(0,20))\n",
    "X = rbind(X, cbind(rnorm(10,6,1), rnorm(10,-6,1),rep(0,20),rep(0,20),rep(0,20),rep(0,20)))\n",
    "\n",
    "n = dim(X)[1]; p = dim(X)[2]\n",
    "eplison_p = L_num(p)\n",
    "eplison_n = L_num(n)\n",
    "\n",
    "lambda_1 = matrix(1,p,dim(eplison_n)[1])\n",
    "v = matrix(1,p,dim(eplison_n)[1])\n",
    "lambda_2 = matrix(1,n,dim(eplison_p)[1])\n",
    "z = matrix(1,n,dim(eplison_p)[1])\n",
    "\n",
    "gamma_1 = 0.1; gamma_2 = 0.1"
   ]
  },
  {
   "cell_type": "code",
   "execution_count": 20,
   "metadata": {
    "scrolled": true
   },
   "outputs": [
    {
     "name": "stdout",
     "output_type": "stream",
     "text": [
      "[1] \"not converage within 100 iters\"\n"
     ]
    }
   ],
   "source": [
    "A = Bi_ADMM(X, nu1, nu2, lambda_1, lambda_2, v, z, gamma_1, gamma_2)"
   ]
  },
  {
   "cell_type": "code",
   "execution_count": 21,
   "metadata": {
    "scrolled": true
   },
   "outputs": [
    {
     "data": {
      "text/html": [
       "<table>\n",
       "<tbody>\n",
       "\t<tr><td>8760.772</td><td>8353.199</td><td>7958.072</td><td>7557.694</td><td>7157.316</td><td>6756.938</td></tr>\n",
       "\t<tr><td>8362.535</td><td>7956.724</td><td>7560.231</td><td>7159.853</td><td>6759.475</td><td>6359.097</td></tr>\n",
       "\t<tr><td>7967.780</td><td>7558.272</td><td>7162.389</td><td>6762.011</td><td>6361.633</td><td>5961.254</td></tr>\n",
       "\t<tr><td>7567.331</td><td>7160.002</td><td>6764.552</td><td>6364.174</td><td>5963.796</td><td>5563.417</td></tr>\n",
       "\t<tr><td>7170.470</td><td>6762.597</td><td>6366.710</td><td>5966.332</td><td>5565.954</td><td>5165.576</td></tr>\n",
       "\t<tr><td>6771.696</td><td>6366.276</td><td>5968.870</td><td>5568.492</td><td>5168.114</td><td>4767.736</td></tr>\n",
       "\t<tr><td>6374.066</td><td>5969.042</td><td>5571.029</td><td>5170.651</td><td>4770.273</td><td>4369.895</td></tr>\n",
       "\t<tr><td>5976.838</td><td>5570.575</td><td>5173.189</td><td>4772.811</td><td>4372.433</td><td>3972.055</td></tr>\n",
       "\t<tr><td>5580.434</td><td>5172.199</td><td>4775.348</td><td>4374.970</td><td>3974.592</td><td>3574.214</td></tr>\n",
       "\t<tr><td>5182.771</td><td>4776.412</td><td>4377.506</td><td>3977.128</td><td>3576.750</td><td>3176.372</td></tr>\n",
       "</tbody>\n",
       "</table>\n"
      ],
      "text/latex": [
       "\\begin{tabular}{llllll}\n",
       "\t 8760.772 & 8353.199 & 7958.072 & 7557.694 & 7157.316 & 6756.938\\\\\n",
       "\t 8362.535 & 7956.724 & 7560.231 & 7159.853 & 6759.475 & 6359.097\\\\\n",
       "\t 7967.780 & 7558.272 & 7162.389 & 6762.011 & 6361.633 & 5961.254\\\\\n",
       "\t 7567.331 & 7160.002 & 6764.552 & 6364.174 & 5963.796 & 5563.417\\\\\n",
       "\t 7170.470 & 6762.597 & 6366.710 & 5966.332 & 5565.954 & 5165.576\\\\\n",
       "\t 6771.696 & 6366.276 & 5968.870 & 5568.492 & 5168.114 & 4767.736\\\\\n",
       "\t 6374.066 & 5969.042 & 5571.029 & 5170.651 & 4770.273 & 4369.895\\\\\n",
       "\t 5976.838 & 5570.575 & 5173.189 & 4772.811 & 4372.433 & 3972.055\\\\\n",
       "\t 5580.434 & 5172.199 & 4775.348 & 4374.970 & 3974.592 & 3574.214\\\\\n",
       "\t 5182.771 & 4776.412 & 4377.506 & 3977.128 & 3576.750 & 3176.372\\\\\n",
       "\\end{tabular}\n"
      ],
      "text/markdown": [
       "\n",
       "| 8760.772 | 8353.199 | 7958.072 | 7557.694 | 7157.316 | 6756.938 | \n",
       "| 8362.535 | 7956.724 | 7560.231 | 7159.853 | 6759.475 | 6359.097 | \n",
       "| 7967.780 | 7558.272 | 7162.389 | 6762.011 | 6361.633 | 5961.254 | \n",
       "| 7567.331 | 7160.002 | 6764.552 | 6364.174 | 5963.796 | 5563.417 | \n",
       "| 7170.470 | 6762.597 | 6366.710 | 5966.332 | 5565.954 | 5165.576 | \n",
       "| 6771.696 | 6366.276 | 5968.870 | 5568.492 | 5168.114 | 4767.736 | \n",
       "| 6374.066 | 5969.042 | 5571.029 | 5170.651 | 4770.273 | 4369.895 | \n",
       "| 5976.838 | 5570.575 | 5173.189 | 4772.811 | 4372.433 | 3972.055 | \n",
       "| 5580.434 | 5172.199 | 4775.348 | 4374.970 | 3974.592 | 3574.214 | \n",
       "| 5182.771 | 4776.412 | 4377.506 | 3977.128 | 3576.750 | 3176.372 | \n",
       "\n",
       "\n"
      ],
      "text/plain": [
       "      [,1]     [,2]     [,3]     [,4]     [,5]     [,6]    \n",
       " [1,] 8760.772 8353.199 7958.072 7557.694 7157.316 6756.938\n",
       " [2,] 8362.535 7956.724 7560.231 7159.853 6759.475 6359.097\n",
       " [3,] 7967.780 7558.272 7162.389 6762.011 6361.633 5961.254\n",
       " [4,] 7567.331 7160.002 6764.552 6364.174 5963.796 5563.417\n",
       " [5,] 7170.470 6762.597 6366.710 5966.332 5565.954 5165.576\n",
       " [6,] 6771.696 6366.276 5968.870 5568.492 5168.114 4767.736\n",
       " [7,] 6374.066 5969.042 5571.029 5170.651 4770.273 4369.895\n",
       " [8,] 5976.838 5570.575 5173.189 4772.811 4372.433 3972.055\n",
       " [9,] 5580.434 5172.199 4775.348 4374.970 3974.592 3574.214\n",
       "[10,] 5182.771 4776.412 4377.506 3977.128 3576.750 3176.372"
      ]
     },
     "metadata": {},
     "output_type": "display_data"
    }
   ],
   "source": [
    "A[1:10,]"
   ]
  },
  {
   "cell_type": "code",
   "execution_count": 22,
   "metadata": {},
   "outputs": [
    {
     "data": {
      "text/html": [
       "<table>\n",
       "<tbody>\n",
       "\t<tr><td>1.931721 </td><td>-5.219795</td><td>0        </td><td>0        </td><td>0        </td><td>0        </td></tr>\n",
       "\t<tr><td>1.537857 </td><td>-3.862220</td><td>0        </td><td>0        </td><td>0        </td><td>0        </td></tr>\n",
       "\t<tr><td>4.607101 </td><td>-4.467990</td><td>0        </td><td>0        </td><td>0        </td><td>0        </td></tr>\n",
       "\t<tr><td>2.011090 </td><td>-4.897967</td><td>0        </td><td>0        </td><td>0        </td><td>0        </td></tr>\n",
       "\t<tr><td>2.984927 </td><td>-4.464296</td><td>0        </td><td>0        </td><td>0        </td><td>0        </td></tr>\n",
       "\t<tr><td>2.057757 </td><td>-2.954681</td><td>0        </td><td>0        </td><td>0        </td><td>0        </td></tr>\n",
       "\t<tr><td>2.267123 </td><td>-2.351131</td><td>0        </td><td>0        </td><td>0        </td><td>0        </td></tr>\n",
       "\t<tr><td>2.875783 </td><td>-2.974508</td><td>0        </td><td>0        </td><td>0        </td><td>0        </td></tr>\n",
       "\t<tr><td>4.303413 </td><td>-3.506022</td><td>0        </td><td>0        </td><td>0        </td><td>0        </td></tr>\n",
       "\t<tr><td>4.481639 </td><td>-1.462811</td><td>0        </td><td>0        </td><td>0        </td><td>0        </td></tr>\n",
       "</tbody>\n",
       "</table>\n"
      ],
      "text/latex": [
       "\\begin{tabular}{llllll}\n",
       "\t 1.931721  & -5.219795 & 0         & 0         & 0         & 0        \\\\\n",
       "\t 1.537857  & -3.862220 & 0         & 0         & 0         & 0        \\\\\n",
       "\t 4.607101  & -4.467990 & 0         & 0         & 0         & 0        \\\\\n",
       "\t 2.011090  & -4.897967 & 0         & 0         & 0         & 0        \\\\\n",
       "\t 2.984927  & -4.464296 & 0         & 0         & 0         & 0        \\\\\n",
       "\t 2.057757  & -2.954681 & 0         & 0         & 0         & 0        \\\\\n",
       "\t 2.267123  & -2.351131 & 0         & 0         & 0         & 0        \\\\\n",
       "\t 2.875783  & -2.974508 & 0         & 0         & 0         & 0        \\\\\n",
       "\t 4.303413  & -3.506022 & 0         & 0         & 0         & 0        \\\\\n",
       "\t 4.481639  & -1.462811 & 0         & 0         & 0         & 0        \\\\\n",
       "\\end{tabular}\n"
      ],
      "text/markdown": [
       "\n",
       "| 1.931721  | -5.219795 | 0         | 0         | 0         | 0         | \n",
       "| 1.537857  | -3.862220 | 0         | 0         | 0         | 0         | \n",
       "| 4.607101  | -4.467990 | 0         | 0         | 0         | 0         | \n",
       "| 2.011090  | -4.897967 | 0         | 0         | 0         | 0         | \n",
       "| 2.984927  | -4.464296 | 0         | 0         | 0         | 0         | \n",
       "| 2.057757  | -2.954681 | 0         | 0         | 0         | 0         | \n",
       "| 2.267123  | -2.351131 | 0         | 0         | 0         | 0         | \n",
       "| 2.875783  | -2.974508 | 0         | 0         | 0         | 0         | \n",
       "| 4.303413  | -3.506022 | 0         | 0         | 0         | 0         | \n",
       "| 4.481639  | -1.462811 | 0         | 0         | 0         | 0         | \n",
       "\n",
       "\n"
      ],
      "text/plain": [
       "      [,1]     [,2]      [,3] [,4] [,5] [,6]\n",
       " [1,] 1.931721 -5.219795 0    0    0    0   \n",
       " [2,] 1.537857 -3.862220 0    0    0    0   \n",
       " [3,] 4.607101 -4.467990 0    0    0    0   \n",
       " [4,] 2.011090 -4.897967 0    0    0    0   \n",
       " [5,] 2.984927 -4.464296 0    0    0    0   \n",
       " [6,] 2.057757 -2.954681 0    0    0    0   \n",
       " [7,] 2.267123 -2.351131 0    0    0    0   \n",
       " [8,] 2.875783 -2.974508 0    0    0    0   \n",
       " [9,] 4.303413 -3.506022 0    0    0    0   \n",
       "[10,] 4.481639 -1.462811 0    0    0    0   "
      ]
     },
     "metadata": {},
     "output_type": "display_data"
    }
   ],
   "source": [
    "X[1:10,]"
   ]
  },
  {
   "cell_type": "code",
   "execution_count": null,
   "metadata": {},
   "outputs": [],
   "source": []
  }
 ],
 "metadata": {
  "kernelspec": {
   "display_name": "R",
   "language": "R",
   "name": "ir"
  },
  "language_info": {
   "codemirror_mode": "r",
   "file_extension": ".r",
   "mimetype": "text/x-r-source",
   "name": "R",
   "pygments_lexer": "r",
   "version": "3.4.3"
  }
 },
 "nbformat": 4,
 "nbformat_minor": 2
}
